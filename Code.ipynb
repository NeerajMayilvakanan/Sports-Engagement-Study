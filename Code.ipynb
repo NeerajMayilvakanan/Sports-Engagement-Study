{
  "nbformat": 4,
  "nbformat_minor": 0,
  "metadata": {
    "colab": {
      "provenance": [],
      "toc_visible": true
    },
    "kernelspec": {
      "name": "python3",
      "display_name": "Python 3"
    },
    "language_info": {
      "name": "python"
    }
  },
  "cells": [
    {
      "cell_type": "markdown",
      "source": [
        "#Imports"
      ],
      "metadata": {
        "id": "l1cRN94cCBQq"
      }
    },
    {
      "cell_type": "code",
      "source": [
        "import pandas as pd"
      ],
      "metadata": {
        "id": "9J9L9jMOTyBl"
      },
      "execution_count": null,
      "outputs": []
    },
    {
      "cell_type": "code",
      "source": [
        "import seaborn as sns"
      ],
      "metadata": {
        "id": "Cs9cRWnGT3LH"
      },
      "execution_count": null,
      "outputs": []
    },
    {
      "cell_type": "code",
      "source": [
        "import matplotlib.pyplot as plt"
      ],
      "metadata": {
        "id": "2r-hCynYT5lp"
      },
      "execution_count": null,
      "outputs": []
    },
    {
      "cell_type": "code",
      "source": [
        "from scipy.stats import spearmanr"
      ],
      "metadata": {
        "id": "mxm2Ve91T9Ic"
      },
      "execution_count": null,
      "outputs": []
    },
    {
      "cell_type": "markdown",
      "source": [
        "# **Initial Dataset**"
      ],
      "metadata": {
        "id": "DXWZMdkunnfu"
      }
    },
    {
      "cell_type": "code",
      "source": [
        "from google.colab import drive\n",
        "drive.mount('/content/gdrive')"
      ],
      "metadata": {
        "colab": {
          "base_uri": "https://localhost:8080/"
        },
        "id": "yYMqyTycnuRc",
        "outputId": "1ab834de-1826-42e2-e135-28d780f4cfcd"
      },
      "execution_count": null,
      "outputs": [
        {
          "output_type": "stream",
          "name": "stdout",
          "text": [
            "Mounted at /content/gdrive\n"
          ]
        }
      ]
    },
    {
      "cell_type": "code",
      "source": [
        "df = pd.read_excel('/content/gdrive/MyDrive/Code_Dataset/D6.xlsx')\n",
        "df = pd.DataFrame(df)"
      ],
      "metadata": {
        "id": "9dw-2cJroOxE"
      },
      "execution_count": null,
      "outputs": []
    },
    {
      "cell_type": "code",
      "source": [
        "df.shape"
      ],
      "metadata": {
        "colab": {
          "base_uri": "https://localhost:8080/"
        },
        "id": "nZiHPdL7owJZ",
        "outputId": "742aab2d-708d-4b8e-cafe-b2df049ef88b"
      },
      "execution_count": null,
      "outputs": [
        {
          "output_type": "execute_result",
          "data": {
            "text/plain": [
              "(225, 43)"
            ]
          },
          "metadata": {},
          "execution_count": 7
        }
      ]
    },
    {
      "cell_type": "code",
      "source": [
        "df.info()"
      ],
      "metadata": {
        "colab": {
          "base_uri": "https://localhost:8080/"
        },
        "id": "qlNiF2MSo4r6",
        "outputId": "d6934946-0a80-467f-b68b-6f0d2479448b"
      },
      "execution_count": null,
      "outputs": [
        {
          "output_type": "stream",
          "name": "stdout",
          "text": [
            "<class 'pandas.core.frame.DataFrame'>\n",
            "RangeIndex: 225 entries, 0 to 224\n",
            "Data columns (total 43 columns):\n",
            " #   Column                                                                                                         Non-Null Count  Dtype         \n",
            "---  ------                                                                                                         --------------  -----         \n",
            " 0   Timestamp                                                                                                      225 non-null    datetime64[ns]\n",
            " 1   Name (Initial at end)                                                                                          225 non-null    object        \n",
            " 2   Gender                                                                                                         225 non-null    object        \n",
            " 3   Studying in ___________                                                                                        225 non-null    object        \n",
            " 4   Enter Your Height:(eg- 169 cm)                                                                                 225 non-null    object        \n",
            " 5   Enter your Weight:(eg-50kg)                                                                                    225 non-null    object        \n",
            " 6   Age                                                                                                            225 non-null    object        \n",
            " 7   Enter the name of subject 1                                                                                    32 non-null     object        \n",
            " 8   Enter your marks in subject 1 in total of 100 marks or in Grade                                                32 non-null     float64       \n",
            " 9   Enter the name of subject 2                                                                                    32 non-null     object        \n",
            " 10  Enter your marks in subject 2 in total of 100 marks  or in Grade                                               32 non-null     float64       \n",
            " 11  Enter the name of subject 3                                                                                    32 non-null     object        \n",
            " 12  Enter your marks in subject 3 in total of 100 marks  or in Grade                                               32 non-null     float64       \n",
            " 13  Enter the name of subject 4                                                                                    32 non-null     object        \n",
            " 14  Enter your marks in subject 4 in total of 100 marks  or in Grade                                               32 non-null     float64       \n",
            " 15  Enter the name of subject 5                                                                                    32 non-null     object        \n",
            " 16  Enter your marks in subject 5 in total of 100 marks  or in Grade                                               32 non-null     float64       \n",
            " 17  Enter your Maths mark in 10th std in marks                                                                     193 non-null    float64       \n",
            " 18  Enter your total mark in 10th std(Eg: 456)                                                                     193 non-null    float64       \n",
            " 19  Enter your Maths mark in 12th std                                                                              193 non-null    float64       \n",
            " 20  Enter your total mark in 12th std                                                                              193 non-null    float64       \n",
            " 21  Enter your UG CGPA                                                                                             193 non-null    float64       \n",
            " 22  Have you engaged in any sports activities?                                                                     193 non-null    object        \n",
            " 23  Time spending for sports activities per day                                                                    101 non-null    object        \n",
            " 24  How long have you been actively participating in sports?                                                       101 non-null    object        \n",
            " 25  What would you like to play?                                                                                   101 non-null    object        \n",
            " 26  Mention your favorite game name                                                                                101 non-null    object        \n",
            " 27  Are you the sports player of                                                                                   101 non-null    object        \n",
            " 28  If you are the sports player, how would you train yourself for the game?                                       101 non-null    object        \n",
            " 29  Could you please share the name of the training club where you are currently honing your skills for the game?  101 non-null    object        \n",
            " 30  Choose the Physical activity or sports that you would do.                                                      101 non-null    object        \n",
            " 31  Preferred time for playing                                                                                     101 non-null    object        \n",
            " 32  Reason for playing the sports                                                                                  101 non-null    object        \n",
            " 33  At what average frequency, would you go to the hospital in a month?                                            225 non-null    int64         \n",
            " 34  Are you wearing spectacles?                                                                                    225 non-null    object        \n",
            " 35  Choose your daily mobile usage in hours                                                                        225 non-null    object        \n",
            " 36  What is your wakeup time? (Note : Time is in 24 hr format)                                                     225 non-null    object        \n",
            " 37  What is your sleeping time? (Note : Time is in 24 hr format)                                                   225 non-null    object        \n",
            " 38  How many days would you take the sick leave per month?                                                         225 non-null    object        \n",
            " 39  Are you feeling sleepy during class hours?                                                                     225 non-null    object        \n",
            " 40  Do you experience any of the following types of pain in your day-to-day life?                                  225 non-null    object        \n",
            " 41  On average, how long are you able to read continuously while maintaining a high level of concentration?        225 non-null    object        \n",
            " 42  Are you engaged in any sports activities?                                                                      32 non-null     object        \n",
            "dtypes: datetime64[ns](1), float64(10), int64(1), object(31)\n",
            "memory usage: 75.7+ KB\n"
          ]
        }
      ]
    },
    {
      "cell_type": "code",
      "source": [
        "df.head()"
      ],
      "metadata": {
        "colab": {
          "base_uri": "https://localhost:8080/",
          "height": 568
        },
        "id": "bP-1luoNo66p",
        "outputId": "84ab70d3-30cb-4f5e-c85c-e143126e7b37"
      },
      "execution_count": null,
      "outputs": [
        {
          "output_type": "execute_result",
          "data": {
            "text/plain": [
              "                Timestamp Name (Initial at end)  Gender  \\\n",
              "0 2024-01-24 22:41:13.765           Visvambra.s    Male   \n",
              "1 2024-01-18 14:19:12.566        Selvabrindha K  Female   \n",
              "2 2024-01-18 15:11:24.714       Nidhekshaa N K   Female   \n",
              "3 2024-01-18 16:59:29.917        KANMANIPRIYA S  Female   \n",
              "4 2024-01-05 19:44:21.157              R Ranish    Male   \n",
              "\n",
              "  Studying in ___________ Enter Your Height:(eg- 169 cm)  \\\n",
              "0                  Matric                      80 to 120   \n",
              "1     Engineering College                            150   \n",
              "2     Engineering College                            152   \n",
              "3     Engineering College                         155 cm   \n",
              "4                  Matric                             11   \n",
              "\n",
              "  Enter your Weight:(eg-50kg)    Age Enter the name of subject 1  \\\n",
              "0                     28.800g  13-18                       Tamil   \n",
              "1                          46  13-18                       Tamil   \n",
              "2                          43  13-18      Computer organisation    \n",
              "3                       50 kg  13-18                       Tamil   \n",
              "4                          17   6-12                    Science    \n",
              "\n",
              "   Enter your marks in subject 1 in total of 100 marks or in Grade  \\\n",
              "0                                               96.0                 \n",
              "1                                               97.0                 \n",
              "2                                               75.0                 \n",
              "3                                               96.0                 \n",
              "4                                               74.0                 \n",
              "\n",
              "         Enter the name of subject 2  ...  \\\n",
              "0                            English  ...   \n",
              "1                            English  ...   \n",
              "2                      Data science   ...   \n",
              "3  Discrete mathematical structures   ...   \n",
              "4                            English  ...   \n",
              "\n",
              "   At what average frequency, would you go to the hospital in a month?  \\\n",
              "0                                                  0                     \n",
              "1                                                  2                     \n",
              "2                                                  6                     \n",
              "3                                                  0                     \n",
              "4                                                  0                     \n",
              "\n",
              "  Are you wearing spectacles?  Choose your daily mobile usage in hours  \\\n",
              "0                          No                        Less than 2 hours   \n",
              "1                          No                             2 to 5 hours   \n",
              "2                          No                             2 to 5 hours   \n",
              "3                         Yes                             2 to 5 hours   \n",
              "4                          No                        Less than 2 hours   \n",
              "\n",
              "  What is your wakeup time? (Note : Time is in 24 hr format)  \\\n",
              "0                                           07:30:00           \n",
              "1                                           06:00:00           \n",
              "2                                           07:00:00           \n",
              "3                                           06:00:00           \n",
              "4                                           06:00:00           \n",
              "\n",
              "   What is your sleeping time? (Note : Time is in 24 hr format)  \\\n",
              "0                                           11:30:00              \n",
              "1                                           22:30:00              \n",
              "2                                           10:30:00              \n",
              "3                                           23:00:00              \n",
              "4                                           10:00:00              \n",
              "\n",
              "  How many days would you take the sick leave per month?  \\\n",
              "0                                        1 to 5 days       \n",
              "1                                        1 to 5 days       \n",
              "2                                        1 to 5 days       \n",
              "3                                               None       \n",
              "4                                        1 to 5 days       \n",
              "\n",
              "   Are you feeling sleepy during class hours?  \\\n",
              "0                                         Yes   \n",
              "1                                         Yes   \n",
              "2                                         Yes   \n",
              "3                                         Yes   \n",
              "4                                         Yes   \n",
              "\n",
              "   Do you experience any of the following types of pain in your day-to-day life?   \\\n",
              "0                                  None of the above                                \n",
              "1                                  None of the above                                \n",
              "2                                Leg pain, Headaches                                \n",
              "3                                          Neck pain                                \n",
              "4                                           Leg pain                                \n",
              "\n",
              "   On average, how long are you able to read continuously while maintaining a high level of concentration?  \\\n",
              "0                                   15 to 30 minutes                                                         \n",
              "1                               30 minutes to 1 hour                                                         \n",
              "2                                   15 to 30 minutes                                                         \n",
              "3                               30 minutes to 1 hour                                                         \n",
              "4                                  More than 3 hours                                                         \n",
              "\n",
              "   Are you engaged in any sports activities?  \n",
              "0                                        Yes  \n",
              "1                                         No  \n",
              "2                                        Yes  \n",
              "3                                         No  \n",
              "4                                        Yes  \n",
              "\n",
              "[5 rows x 43 columns]"
            ],
            "text/html": [
              "\n",
              "  <div id=\"df-ff0c6b61-ec78-4be8-b1ee-b70de2ab3f6c\" class=\"colab-df-container\">\n",
              "    <div>\n",
              "<style scoped>\n",
              "    .dataframe tbody tr th:only-of-type {\n",
              "        vertical-align: middle;\n",
              "    }\n",
              "\n",
              "    .dataframe tbody tr th {\n",
              "        vertical-align: top;\n",
              "    }\n",
              "\n",
              "    .dataframe thead th {\n",
              "        text-align: right;\n",
              "    }\n",
              "</style>\n",
              "<table border=\"1\" class=\"dataframe\">\n",
              "  <thead>\n",
              "    <tr style=\"text-align: right;\">\n",
              "      <th></th>\n",
              "      <th>Timestamp</th>\n",
              "      <th>Name (Initial at end)</th>\n",
              "      <th>Gender</th>\n",
              "      <th>Studying in ___________</th>\n",
              "      <th>Enter Your Height:(eg- 169 cm)</th>\n",
              "      <th>Enter your Weight:(eg-50kg)</th>\n",
              "      <th>Age</th>\n",
              "      <th>Enter the name of subject 1</th>\n",
              "      <th>Enter your marks in subject 1 in total of 100 marks or in Grade</th>\n",
              "      <th>Enter the name of subject 2</th>\n",
              "      <th>...</th>\n",
              "      <th>At what average frequency, would you go to the hospital in a month?</th>\n",
              "      <th>Are you wearing spectacles?</th>\n",
              "      <th>Choose your daily mobile usage in hours</th>\n",
              "      <th>What is your wakeup time? (Note : Time is in 24 hr format)</th>\n",
              "      <th>What is your sleeping time? (Note : Time is in 24 hr format)</th>\n",
              "      <th>How many days would you take the sick leave per month?</th>\n",
              "      <th>Are you feeling sleepy during class hours?</th>\n",
              "      <th>Do you experience any of the following types of pain in your day-to-day life?</th>\n",
              "      <th>On average, how long are you able to read continuously while maintaining a high level of concentration?</th>\n",
              "      <th>Are you engaged in any sports activities?</th>\n",
              "    </tr>\n",
              "  </thead>\n",
              "  <tbody>\n",
              "    <tr>\n",
              "      <th>0</th>\n",
              "      <td>2024-01-24 22:41:13.765</td>\n",
              "      <td>Visvambra.s</td>\n",
              "      <td>Male</td>\n",
              "      <td>Matric</td>\n",
              "      <td>80 to 120</td>\n",
              "      <td>28.800g</td>\n",
              "      <td>13-18</td>\n",
              "      <td>Tamil</td>\n",
              "      <td>96.0</td>\n",
              "      <td>English</td>\n",
              "      <td>...</td>\n",
              "      <td>0</td>\n",
              "      <td>No</td>\n",
              "      <td>Less than 2 hours</td>\n",
              "      <td>07:30:00</td>\n",
              "      <td>11:30:00</td>\n",
              "      <td>1 to 5 days</td>\n",
              "      <td>Yes</td>\n",
              "      <td>None of the above</td>\n",
              "      <td>15 to 30 minutes</td>\n",
              "      <td>Yes</td>\n",
              "    </tr>\n",
              "    <tr>\n",
              "      <th>1</th>\n",
              "      <td>2024-01-18 14:19:12.566</td>\n",
              "      <td>Selvabrindha K</td>\n",
              "      <td>Female</td>\n",
              "      <td>Engineering College</td>\n",
              "      <td>150</td>\n",
              "      <td>46</td>\n",
              "      <td>13-18</td>\n",
              "      <td>Tamil</td>\n",
              "      <td>97.0</td>\n",
              "      <td>English</td>\n",
              "      <td>...</td>\n",
              "      <td>2</td>\n",
              "      <td>No</td>\n",
              "      <td>2 to 5 hours</td>\n",
              "      <td>06:00:00</td>\n",
              "      <td>22:30:00</td>\n",
              "      <td>1 to 5 days</td>\n",
              "      <td>Yes</td>\n",
              "      <td>None of the above</td>\n",
              "      <td>30 minutes to 1 hour</td>\n",
              "      <td>No</td>\n",
              "    </tr>\n",
              "    <tr>\n",
              "      <th>2</th>\n",
              "      <td>2024-01-18 15:11:24.714</td>\n",
              "      <td>Nidhekshaa N K</td>\n",
              "      <td>Female</td>\n",
              "      <td>Engineering College</td>\n",
              "      <td>152</td>\n",
              "      <td>43</td>\n",
              "      <td>13-18</td>\n",
              "      <td>Computer organisation</td>\n",
              "      <td>75.0</td>\n",
              "      <td>Data science</td>\n",
              "      <td>...</td>\n",
              "      <td>6</td>\n",
              "      <td>No</td>\n",
              "      <td>2 to 5 hours</td>\n",
              "      <td>07:00:00</td>\n",
              "      <td>10:30:00</td>\n",
              "      <td>1 to 5 days</td>\n",
              "      <td>Yes</td>\n",
              "      <td>Leg pain, Headaches</td>\n",
              "      <td>15 to 30 minutes</td>\n",
              "      <td>Yes</td>\n",
              "    </tr>\n",
              "    <tr>\n",
              "      <th>3</th>\n",
              "      <td>2024-01-18 16:59:29.917</td>\n",
              "      <td>KANMANIPRIYA S</td>\n",
              "      <td>Female</td>\n",
              "      <td>Engineering College</td>\n",
              "      <td>155 cm</td>\n",
              "      <td>50 kg</td>\n",
              "      <td>13-18</td>\n",
              "      <td>Tamil</td>\n",
              "      <td>96.0</td>\n",
              "      <td>Discrete mathematical structures</td>\n",
              "      <td>...</td>\n",
              "      <td>0</td>\n",
              "      <td>Yes</td>\n",
              "      <td>2 to 5 hours</td>\n",
              "      <td>06:00:00</td>\n",
              "      <td>23:00:00</td>\n",
              "      <td>None</td>\n",
              "      <td>Yes</td>\n",
              "      <td>Neck pain</td>\n",
              "      <td>30 minutes to 1 hour</td>\n",
              "      <td>No</td>\n",
              "    </tr>\n",
              "    <tr>\n",
              "      <th>4</th>\n",
              "      <td>2024-01-05 19:44:21.157</td>\n",
              "      <td>R Ranish</td>\n",
              "      <td>Male</td>\n",
              "      <td>Matric</td>\n",
              "      <td>11</td>\n",
              "      <td>17</td>\n",
              "      <td>6-12</td>\n",
              "      <td>Science</td>\n",
              "      <td>74.0</td>\n",
              "      <td>English</td>\n",
              "      <td>...</td>\n",
              "      <td>0</td>\n",
              "      <td>No</td>\n",
              "      <td>Less than 2 hours</td>\n",
              "      <td>06:00:00</td>\n",
              "      <td>10:00:00</td>\n",
              "      <td>1 to 5 days</td>\n",
              "      <td>Yes</td>\n",
              "      <td>Leg pain</td>\n",
              "      <td>More than 3 hours</td>\n",
              "      <td>Yes</td>\n",
              "    </tr>\n",
              "  </tbody>\n",
              "</table>\n",
              "<p>5 rows × 43 columns</p>\n",
              "</div>\n",
              "    <div class=\"colab-df-buttons\">\n",
              "\n",
              "  <div class=\"colab-df-container\">\n",
              "    <button class=\"colab-df-convert\" onclick=\"convertToInteractive('df-ff0c6b61-ec78-4be8-b1ee-b70de2ab3f6c')\"\n",
              "            title=\"Convert this dataframe to an interactive table.\"\n",
              "            style=\"display:none;\">\n",
              "\n",
              "  <svg xmlns=\"http://www.w3.org/2000/svg\" height=\"24px\" viewBox=\"0 -960 960 960\">\n",
              "    <path d=\"M120-120v-720h720v720H120Zm60-500h600v-160H180v160Zm220 220h160v-160H400v160Zm0 220h160v-160H400v160ZM180-400h160v-160H180v160Zm440 0h160v-160H620v160ZM180-180h160v-160H180v160Zm440 0h160v-160H620v160Z\"/>\n",
              "  </svg>\n",
              "    </button>\n",
              "\n",
              "  <style>\n",
              "    .colab-df-container {\n",
              "      display:flex;\n",
              "      gap: 12px;\n",
              "    }\n",
              "\n",
              "    .colab-df-convert {\n",
              "      background-color: #E8F0FE;\n",
              "      border: none;\n",
              "      border-radius: 50%;\n",
              "      cursor: pointer;\n",
              "      display: none;\n",
              "      fill: #1967D2;\n",
              "      height: 32px;\n",
              "      padding: 0 0 0 0;\n",
              "      width: 32px;\n",
              "    }\n",
              "\n",
              "    .colab-df-convert:hover {\n",
              "      background-color: #E2EBFA;\n",
              "      box-shadow: 0px 1px 2px rgba(60, 64, 67, 0.3), 0px 1px 3px 1px rgba(60, 64, 67, 0.15);\n",
              "      fill: #174EA6;\n",
              "    }\n",
              "\n",
              "    .colab-df-buttons div {\n",
              "      margin-bottom: 4px;\n",
              "    }\n",
              "\n",
              "    [theme=dark] .colab-df-convert {\n",
              "      background-color: #3B4455;\n",
              "      fill: #D2E3FC;\n",
              "    }\n",
              "\n",
              "    [theme=dark] .colab-df-convert:hover {\n",
              "      background-color: #434B5C;\n",
              "      box-shadow: 0px 1px 3px 1px rgba(0, 0, 0, 0.15);\n",
              "      filter: drop-shadow(0px 1px 2px rgba(0, 0, 0, 0.3));\n",
              "      fill: #FFFFFF;\n",
              "    }\n",
              "  </style>\n",
              "\n",
              "    <script>\n",
              "      const buttonEl =\n",
              "        document.querySelector('#df-ff0c6b61-ec78-4be8-b1ee-b70de2ab3f6c button.colab-df-convert');\n",
              "      buttonEl.style.display =\n",
              "        google.colab.kernel.accessAllowed ? 'block' : 'none';\n",
              "\n",
              "      async function convertToInteractive(key) {\n",
              "        const element = document.querySelector('#df-ff0c6b61-ec78-4be8-b1ee-b70de2ab3f6c');\n",
              "        const dataTable =\n",
              "          await google.colab.kernel.invokeFunction('convertToInteractive',\n",
              "                                                    [key], {});\n",
              "        if (!dataTable) return;\n",
              "\n",
              "        const docLinkHtml = 'Like what you see? Visit the ' +\n",
              "          '<a target=\"_blank\" href=https://colab.research.google.com/notebooks/data_table.ipynb>data table notebook</a>'\n",
              "          + ' to learn more about interactive tables.';\n",
              "        element.innerHTML = '';\n",
              "        dataTable['output_type'] = 'display_data';\n",
              "        await google.colab.output.renderOutput(dataTable, element);\n",
              "        const docLink = document.createElement('div');\n",
              "        docLink.innerHTML = docLinkHtml;\n",
              "        element.appendChild(docLink);\n",
              "      }\n",
              "    </script>\n",
              "  </div>\n",
              "\n",
              "\n",
              "<div id=\"df-c589d7d5-994b-42c4-82a7-3b6a10356c4b\">\n",
              "  <button class=\"colab-df-quickchart\" onclick=\"quickchart('df-c589d7d5-994b-42c4-82a7-3b6a10356c4b')\"\n",
              "            title=\"Suggest charts\"\n",
              "            style=\"display:none;\">\n",
              "\n",
              "<svg xmlns=\"http://www.w3.org/2000/svg\" height=\"24px\"viewBox=\"0 0 24 24\"\n",
              "     width=\"24px\">\n",
              "    <g>\n",
              "        <path d=\"M19 3H5c-1.1 0-2 .9-2 2v14c0 1.1.9 2 2 2h14c1.1 0 2-.9 2-2V5c0-1.1-.9-2-2-2zM9 17H7v-7h2v7zm4 0h-2V7h2v10zm4 0h-2v-4h2v4z\"/>\n",
              "    </g>\n",
              "</svg>\n",
              "  </button>\n",
              "\n",
              "<style>\n",
              "  .colab-df-quickchart {\n",
              "      --bg-color: #E8F0FE;\n",
              "      --fill-color: #1967D2;\n",
              "      --hover-bg-color: #E2EBFA;\n",
              "      --hover-fill-color: #174EA6;\n",
              "      --disabled-fill-color: #AAA;\n",
              "      --disabled-bg-color: #DDD;\n",
              "  }\n",
              "\n",
              "  [theme=dark] .colab-df-quickchart {\n",
              "      --bg-color: #3B4455;\n",
              "      --fill-color: #D2E3FC;\n",
              "      --hover-bg-color: #434B5C;\n",
              "      --hover-fill-color: #FFFFFF;\n",
              "      --disabled-bg-color: #3B4455;\n",
              "      --disabled-fill-color: #666;\n",
              "  }\n",
              "\n",
              "  .colab-df-quickchart {\n",
              "    background-color: var(--bg-color);\n",
              "    border: none;\n",
              "    border-radius: 50%;\n",
              "    cursor: pointer;\n",
              "    display: none;\n",
              "    fill: var(--fill-color);\n",
              "    height: 32px;\n",
              "    padding: 0;\n",
              "    width: 32px;\n",
              "  }\n",
              "\n",
              "  .colab-df-quickchart:hover {\n",
              "    background-color: var(--hover-bg-color);\n",
              "    box-shadow: 0 1px 2px rgba(60, 64, 67, 0.3), 0 1px 3px 1px rgba(60, 64, 67, 0.15);\n",
              "    fill: var(--button-hover-fill-color);\n",
              "  }\n",
              "\n",
              "  .colab-df-quickchart-complete:disabled,\n",
              "  .colab-df-quickchart-complete:disabled:hover {\n",
              "    background-color: var(--disabled-bg-color);\n",
              "    fill: var(--disabled-fill-color);\n",
              "    box-shadow: none;\n",
              "  }\n",
              "\n",
              "  .colab-df-spinner {\n",
              "    border: 2px solid var(--fill-color);\n",
              "    border-color: transparent;\n",
              "    border-bottom-color: var(--fill-color);\n",
              "    animation:\n",
              "      spin 1s steps(1) infinite;\n",
              "  }\n",
              "\n",
              "  @keyframes spin {\n",
              "    0% {\n",
              "      border-color: transparent;\n",
              "      border-bottom-color: var(--fill-color);\n",
              "      border-left-color: var(--fill-color);\n",
              "    }\n",
              "    20% {\n",
              "      border-color: transparent;\n",
              "      border-left-color: var(--fill-color);\n",
              "      border-top-color: var(--fill-color);\n",
              "    }\n",
              "    30% {\n",
              "      border-color: transparent;\n",
              "      border-left-color: var(--fill-color);\n",
              "      border-top-color: var(--fill-color);\n",
              "      border-right-color: var(--fill-color);\n",
              "    }\n",
              "    40% {\n",
              "      border-color: transparent;\n",
              "      border-right-color: var(--fill-color);\n",
              "      border-top-color: var(--fill-color);\n",
              "    }\n",
              "    60% {\n",
              "      border-color: transparent;\n",
              "      border-right-color: var(--fill-color);\n",
              "    }\n",
              "    80% {\n",
              "      border-color: transparent;\n",
              "      border-right-color: var(--fill-color);\n",
              "      border-bottom-color: var(--fill-color);\n",
              "    }\n",
              "    90% {\n",
              "      border-color: transparent;\n",
              "      border-bottom-color: var(--fill-color);\n",
              "    }\n",
              "  }\n",
              "</style>\n",
              "\n",
              "  <script>\n",
              "    async function quickchart(key) {\n",
              "      const quickchartButtonEl =\n",
              "        document.querySelector('#' + key + ' button');\n",
              "      quickchartButtonEl.disabled = true;  // To prevent multiple clicks.\n",
              "      quickchartButtonEl.classList.add('colab-df-spinner');\n",
              "      try {\n",
              "        const charts = await google.colab.kernel.invokeFunction(\n",
              "            'suggestCharts', [key], {});\n",
              "      } catch (error) {\n",
              "        console.error('Error during call to suggestCharts:', error);\n",
              "      }\n",
              "      quickchartButtonEl.classList.remove('colab-df-spinner');\n",
              "      quickchartButtonEl.classList.add('colab-df-quickchart-complete');\n",
              "    }\n",
              "    (() => {\n",
              "      let quickchartButtonEl =\n",
              "        document.querySelector('#df-c589d7d5-994b-42c4-82a7-3b6a10356c4b button');\n",
              "      quickchartButtonEl.style.display =\n",
              "        google.colab.kernel.accessAllowed ? 'block' : 'none';\n",
              "    })();\n",
              "  </script>\n",
              "</div>\n",
              "\n",
              "    </div>\n",
              "  </div>\n"
            ],
            "application/vnd.google.colaboratory.intrinsic+json": {
              "type": "dataframe",
              "variable_name": "df"
            }
          },
          "metadata": {},
          "execution_count": 9
        }
      ]
    },
    {
      "cell_type": "markdown",
      "source": [
        "##Removing cm in height field"
      ],
      "metadata": {
        "id": "O4A_QTNjtjwi"
      }
    },
    {
      "cell_type": "code",
      "source": [
        "df[\"Enter Your Height:(eg- 169 cm)\"].info()"
      ],
      "metadata": {
        "colab": {
          "base_uri": "https://localhost:8080/"
        },
        "id": "GgiP58Bpv4fF",
        "outputId": "3ea2beff-7fff-40d4-a65f-3a0a7b5bdc9c"
      },
      "execution_count": null,
      "outputs": [
        {
          "output_type": "stream",
          "name": "stdout",
          "text": [
            "<class 'pandas.core.series.Series'>\n",
            "RangeIndex: 225 entries, 0 to 224\n",
            "Series name: Enter Your Height:(eg- 169 cm)\n",
            "Non-Null Count  Dtype \n",
            "--------------  ----- \n",
            "225 non-null    object\n",
            "dtypes: object(1)\n",
            "memory usage: 1.9+ KB\n"
          ]
        }
      ]
    },
    {
      "cell_type": "code",
      "source": [
        "data = df[\"Enter Your Height:(eg- 169 cm)\"].astype(str)"
      ],
      "metadata": {
        "id": "DlEbiJUppKmJ"
      },
      "execution_count": null,
      "outputs": []
    },
    {
      "cell_type": "code",
      "source": [
        "import re"
      ],
      "metadata": {
        "id": "f0VpevzPtqHC"
      },
      "execution_count": null,
      "outputs": []
    },
    {
      "cell_type": "code",
      "source": [
        "def extract_numeric_height(height):\n",
        "    match = re.match(r'(\\d+)', height)\n",
        "    if match:\n",
        "        return int(match.group(1))\n",
        "    else:\n",
        "        return None"
      ],
      "metadata": {
        "id": "uNsYY7d4uLxs"
      },
      "execution_count": null,
      "outputs": []
    },
    {
      "cell_type": "code",
      "source": [
        "numeric_heights = [extract_numeric_height(height) for height in data]"
      ],
      "metadata": {
        "id": "najHWwr9uQHs"
      },
      "execution_count": null,
      "outputs": []
    },
    {
      "cell_type": "code",
      "source": [
        "print(numeric_heights)"
      ],
      "metadata": {
        "colab": {
          "base_uri": "https://localhost:8080/"
        },
        "id": "xMpQZUNcuatO",
        "outputId": "0c29b056-2bb6-49ba-ef25-32b2606f53c1"
      },
      "execution_count": null,
      "outputs": [
        {
          "output_type": "stream",
          "name": "stdout",
          "text": [
            "[80, 150, 152, 155, 11, 130, 178, 135, 167, 180, 155, 130, 150, 150, 138, 150, 152, 130, 184, 159, 11, 117, 140, 145, 155, 146, 125, 138, 158, 134, 127, 132, 156, 173, 155, 170, 158, 150, 171, 170, 166, 168, 160, 182, 172, 164, 150, 180, 186, 155, 174, 157, 161, 190, 183, 160, 159, 155, 175, 156, 165, 176, 152, 175, 162, 180, 182, 172, 166, 171, 173, 175, 178, 155, 172, 175, 153, 150, 172, 160, 165, 165, 190, 158, 157, 165, 180, 159, 170, 175, 175, 142, 183, 168, 178, 190, 189, 179, 145, 162, 160, 187, 189, 185, 172, 176, 150, 173, 178, 159, 175, 178, 175, 165, 152, 169, 155, 155, 154, 155, 170, 172, 175, 173, 182, 166, 154, 165, 165, 157, 175, 168, 152, 156, 153, 162, 165, 157, 169, 158, 175, 169, 150, 175, 183, 165, 175, 174, 178, 163, 158, 170, 145, 172, 172, 150, 156, 172, 175, 177, 172, 170, 180, 156, 175, 175, 178, 157, 171, 175, 170, 169, 156, 150, 173, 173, 179, 178, 152, 174, 185, 157, 154, 167, 170, 160, 150, 172, 174, 175, 170, 172, 176, 164, 170, 175, 173, 155, 171, 158, 176, 160, 165, 150, 168, 170, 157, 172, 178, 153, 163, 155, 160, 150, 165, 180, 146, 155, 75, 161, 175, 165, 165, 145, 168]\n"
          ]
        }
      ]
    },
    {
      "cell_type": "code",
      "source": [
        "df[\"heights\"] = numeric_heights"
      ],
      "metadata": {
        "id": "_RQv2mnPve7Y"
      },
      "execution_count": null,
      "outputs": []
    },
    {
      "cell_type": "code",
      "source": [
        "df[\"heights\"].info()"
      ],
      "metadata": {
        "colab": {
          "base_uri": "https://localhost:8080/"
        },
        "id": "Onj3DzRPwTJY",
        "outputId": "f37012ec-924c-4c4d-ec50-ecf1f7860230"
      },
      "execution_count": null,
      "outputs": [
        {
          "output_type": "stream",
          "name": "stdout",
          "text": [
            "<class 'pandas.core.series.Series'>\n",
            "RangeIndex: 225 entries, 0 to 224\n",
            "Series name: heights\n",
            "Non-Null Count  Dtype\n",
            "--------------  -----\n",
            "225 non-null    int64\n",
            "dtypes: int64(1)\n",
            "memory usage: 1.9 KB\n"
          ]
        }
      ]
    },
    {
      "cell_type": "code",
      "source": [
        "df[[\"Enter Your Height:(eg- 169 cm)\",\"heights\"]]"
      ],
      "metadata": {
        "colab": {
          "base_uri": "https://localhost:8080/",
          "height": 423
        },
        "id": "EbIOcP4wwWsd",
        "outputId": "196ec194-a492-46fe-ab0e-8df410c8a905"
      },
      "execution_count": null,
      "outputs": [
        {
          "output_type": "execute_result",
          "data": {
            "text/plain": [
              "    Enter Your Height:(eg- 169 cm)  heights\n",
              "0                        80 to 120       80\n",
              "1                              150      150\n",
              "2                              152      152\n",
              "3                           155 cm      155\n",
              "4                               11       11\n",
              "..                             ...      ...\n",
              "220                            175      175\n",
              "221                         165 cm      165\n",
              "222                         165 cm      165\n",
              "223                            145      145\n",
              "224                            168      168\n",
              "\n",
              "[225 rows x 2 columns]"
            ],
            "text/html": [
              "\n",
              "  <div id=\"df-cf8f257f-50a5-4576-8f33-b38c915d546c\" class=\"colab-df-container\">\n",
              "    <div>\n",
              "<style scoped>\n",
              "    .dataframe tbody tr th:only-of-type {\n",
              "        vertical-align: middle;\n",
              "    }\n",
              "\n",
              "    .dataframe tbody tr th {\n",
              "        vertical-align: top;\n",
              "    }\n",
              "\n",
              "    .dataframe thead th {\n",
              "        text-align: right;\n",
              "    }\n",
              "</style>\n",
              "<table border=\"1\" class=\"dataframe\">\n",
              "  <thead>\n",
              "    <tr style=\"text-align: right;\">\n",
              "      <th></th>\n",
              "      <th>Enter Your Height:(eg- 169 cm)</th>\n",
              "      <th>heights</th>\n",
              "    </tr>\n",
              "  </thead>\n",
              "  <tbody>\n",
              "    <tr>\n",
              "      <th>0</th>\n",
              "      <td>80 to 120</td>\n",
              "      <td>80</td>\n",
              "    </tr>\n",
              "    <tr>\n",
              "      <th>1</th>\n",
              "      <td>150</td>\n",
              "      <td>150</td>\n",
              "    </tr>\n",
              "    <tr>\n",
              "      <th>2</th>\n",
              "      <td>152</td>\n",
              "      <td>152</td>\n",
              "    </tr>\n",
              "    <tr>\n",
              "      <th>3</th>\n",
              "      <td>155 cm</td>\n",
              "      <td>155</td>\n",
              "    </tr>\n",
              "    <tr>\n",
              "      <th>4</th>\n",
              "      <td>11</td>\n",
              "      <td>11</td>\n",
              "    </tr>\n",
              "    <tr>\n",
              "      <th>...</th>\n",
              "      <td>...</td>\n",
              "      <td>...</td>\n",
              "    </tr>\n",
              "    <tr>\n",
              "      <th>220</th>\n",
              "      <td>175</td>\n",
              "      <td>175</td>\n",
              "    </tr>\n",
              "    <tr>\n",
              "      <th>221</th>\n",
              "      <td>165 cm</td>\n",
              "      <td>165</td>\n",
              "    </tr>\n",
              "    <tr>\n",
              "      <th>222</th>\n",
              "      <td>165 cm</td>\n",
              "      <td>165</td>\n",
              "    </tr>\n",
              "    <tr>\n",
              "      <th>223</th>\n",
              "      <td>145</td>\n",
              "      <td>145</td>\n",
              "    </tr>\n",
              "    <tr>\n",
              "      <th>224</th>\n",
              "      <td>168</td>\n",
              "      <td>168</td>\n",
              "    </tr>\n",
              "  </tbody>\n",
              "</table>\n",
              "<p>225 rows × 2 columns</p>\n",
              "</div>\n",
              "    <div class=\"colab-df-buttons\">\n",
              "\n",
              "  <div class=\"colab-df-container\">\n",
              "    <button class=\"colab-df-convert\" onclick=\"convertToInteractive('df-cf8f257f-50a5-4576-8f33-b38c915d546c')\"\n",
              "            title=\"Convert this dataframe to an interactive table.\"\n",
              "            style=\"display:none;\">\n",
              "\n",
              "  <svg xmlns=\"http://www.w3.org/2000/svg\" height=\"24px\" viewBox=\"0 -960 960 960\">\n",
              "    <path d=\"M120-120v-720h720v720H120Zm60-500h600v-160H180v160Zm220 220h160v-160H400v160Zm0 220h160v-160H400v160ZM180-400h160v-160H180v160Zm440 0h160v-160H620v160ZM180-180h160v-160H180v160Zm440 0h160v-160H620v160Z\"/>\n",
              "  </svg>\n",
              "    </button>\n",
              "\n",
              "  <style>\n",
              "    .colab-df-container {\n",
              "      display:flex;\n",
              "      gap: 12px;\n",
              "    }\n",
              "\n",
              "    .colab-df-convert {\n",
              "      background-color: #E8F0FE;\n",
              "      border: none;\n",
              "      border-radius: 50%;\n",
              "      cursor: pointer;\n",
              "      display: none;\n",
              "      fill: #1967D2;\n",
              "      height: 32px;\n",
              "      padding: 0 0 0 0;\n",
              "      width: 32px;\n",
              "    }\n",
              "\n",
              "    .colab-df-convert:hover {\n",
              "      background-color: #E2EBFA;\n",
              "      box-shadow: 0px 1px 2px rgba(60, 64, 67, 0.3), 0px 1px 3px 1px rgba(60, 64, 67, 0.15);\n",
              "      fill: #174EA6;\n",
              "    }\n",
              "\n",
              "    .colab-df-buttons div {\n",
              "      margin-bottom: 4px;\n",
              "    }\n",
              "\n",
              "    [theme=dark] .colab-df-convert {\n",
              "      background-color: #3B4455;\n",
              "      fill: #D2E3FC;\n",
              "    }\n",
              "\n",
              "    [theme=dark] .colab-df-convert:hover {\n",
              "      background-color: #434B5C;\n",
              "      box-shadow: 0px 1px 3px 1px rgba(0, 0, 0, 0.15);\n",
              "      filter: drop-shadow(0px 1px 2px rgba(0, 0, 0, 0.3));\n",
              "      fill: #FFFFFF;\n",
              "    }\n",
              "  </style>\n",
              "\n",
              "    <script>\n",
              "      const buttonEl =\n",
              "        document.querySelector('#df-cf8f257f-50a5-4576-8f33-b38c915d546c button.colab-df-convert');\n",
              "      buttonEl.style.display =\n",
              "        google.colab.kernel.accessAllowed ? 'block' : 'none';\n",
              "\n",
              "      async function convertToInteractive(key) {\n",
              "        const element = document.querySelector('#df-cf8f257f-50a5-4576-8f33-b38c915d546c');\n",
              "        const dataTable =\n",
              "          await google.colab.kernel.invokeFunction('convertToInteractive',\n",
              "                                                    [key], {});\n",
              "        if (!dataTable) return;\n",
              "\n",
              "        const docLinkHtml = 'Like what you see? Visit the ' +\n",
              "          '<a target=\"_blank\" href=https://colab.research.google.com/notebooks/data_table.ipynb>data table notebook</a>'\n",
              "          + ' to learn more about interactive tables.';\n",
              "        element.innerHTML = '';\n",
              "        dataTable['output_type'] = 'display_data';\n",
              "        await google.colab.output.renderOutput(dataTable, element);\n",
              "        const docLink = document.createElement('div');\n",
              "        docLink.innerHTML = docLinkHtml;\n",
              "        element.appendChild(docLink);\n",
              "      }\n",
              "    </script>\n",
              "  </div>\n",
              "\n",
              "\n",
              "<div id=\"df-c57af0af-1182-43b1-bfd0-93bf2d07d8e3\">\n",
              "  <button class=\"colab-df-quickchart\" onclick=\"quickchart('df-c57af0af-1182-43b1-bfd0-93bf2d07d8e3')\"\n",
              "            title=\"Suggest charts\"\n",
              "            style=\"display:none;\">\n",
              "\n",
              "<svg xmlns=\"http://www.w3.org/2000/svg\" height=\"24px\"viewBox=\"0 0 24 24\"\n",
              "     width=\"24px\">\n",
              "    <g>\n",
              "        <path d=\"M19 3H5c-1.1 0-2 .9-2 2v14c0 1.1.9 2 2 2h14c1.1 0 2-.9 2-2V5c0-1.1-.9-2-2-2zM9 17H7v-7h2v7zm4 0h-2V7h2v10zm4 0h-2v-4h2v4z\"/>\n",
              "    </g>\n",
              "</svg>\n",
              "  </button>\n",
              "\n",
              "<style>\n",
              "  .colab-df-quickchart {\n",
              "      --bg-color: #E8F0FE;\n",
              "      --fill-color: #1967D2;\n",
              "      --hover-bg-color: #E2EBFA;\n",
              "      --hover-fill-color: #174EA6;\n",
              "      --disabled-fill-color: #AAA;\n",
              "      --disabled-bg-color: #DDD;\n",
              "  }\n",
              "\n",
              "  [theme=dark] .colab-df-quickchart {\n",
              "      --bg-color: #3B4455;\n",
              "      --fill-color: #D2E3FC;\n",
              "      --hover-bg-color: #434B5C;\n",
              "      --hover-fill-color: #FFFFFF;\n",
              "      --disabled-bg-color: #3B4455;\n",
              "      --disabled-fill-color: #666;\n",
              "  }\n",
              "\n",
              "  .colab-df-quickchart {\n",
              "    background-color: var(--bg-color);\n",
              "    border: none;\n",
              "    border-radius: 50%;\n",
              "    cursor: pointer;\n",
              "    display: none;\n",
              "    fill: var(--fill-color);\n",
              "    height: 32px;\n",
              "    padding: 0;\n",
              "    width: 32px;\n",
              "  }\n",
              "\n",
              "  .colab-df-quickchart:hover {\n",
              "    background-color: var(--hover-bg-color);\n",
              "    box-shadow: 0 1px 2px rgba(60, 64, 67, 0.3), 0 1px 3px 1px rgba(60, 64, 67, 0.15);\n",
              "    fill: var(--button-hover-fill-color);\n",
              "  }\n",
              "\n",
              "  .colab-df-quickchart-complete:disabled,\n",
              "  .colab-df-quickchart-complete:disabled:hover {\n",
              "    background-color: var(--disabled-bg-color);\n",
              "    fill: var(--disabled-fill-color);\n",
              "    box-shadow: none;\n",
              "  }\n",
              "\n",
              "  .colab-df-spinner {\n",
              "    border: 2px solid var(--fill-color);\n",
              "    border-color: transparent;\n",
              "    border-bottom-color: var(--fill-color);\n",
              "    animation:\n",
              "      spin 1s steps(1) infinite;\n",
              "  }\n",
              "\n",
              "  @keyframes spin {\n",
              "    0% {\n",
              "      border-color: transparent;\n",
              "      border-bottom-color: var(--fill-color);\n",
              "      border-left-color: var(--fill-color);\n",
              "    }\n",
              "    20% {\n",
              "      border-color: transparent;\n",
              "      border-left-color: var(--fill-color);\n",
              "      border-top-color: var(--fill-color);\n",
              "    }\n",
              "    30% {\n",
              "      border-color: transparent;\n",
              "      border-left-color: var(--fill-color);\n",
              "      border-top-color: var(--fill-color);\n",
              "      border-right-color: var(--fill-color);\n",
              "    }\n",
              "    40% {\n",
              "      border-color: transparent;\n",
              "      border-right-color: var(--fill-color);\n",
              "      border-top-color: var(--fill-color);\n",
              "    }\n",
              "    60% {\n",
              "      border-color: transparent;\n",
              "      border-right-color: var(--fill-color);\n",
              "    }\n",
              "    80% {\n",
              "      border-color: transparent;\n",
              "      border-right-color: var(--fill-color);\n",
              "      border-bottom-color: var(--fill-color);\n",
              "    }\n",
              "    90% {\n",
              "      border-color: transparent;\n",
              "      border-bottom-color: var(--fill-color);\n",
              "    }\n",
              "  }\n",
              "</style>\n",
              "\n",
              "  <script>\n",
              "    async function quickchart(key) {\n",
              "      const quickchartButtonEl =\n",
              "        document.querySelector('#' + key + ' button');\n",
              "      quickchartButtonEl.disabled = true;  // To prevent multiple clicks.\n",
              "      quickchartButtonEl.classList.add('colab-df-spinner');\n",
              "      try {\n",
              "        const charts = await google.colab.kernel.invokeFunction(\n",
              "            'suggestCharts', [key], {});\n",
              "      } catch (error) {\n",
              "        console.error('Error during call to suggestCharts:', error);\n",
              "      }\n",
              "      quickchartButtonEl.classList.remove('colab-df-spinner');\n",
              "      quickchartButtonEl.classList.add('colab-df-quickchart-complete');\n",
              "    }\n",
              "    (() => {\n",
              "      let quickchartButtonEl =\n",
              "        document.querySelector('#df-c57af0af-1182-43b1-bfd0-93bf2d07d8e3 button');\n",
              "      quickchartButtonEl.style.display =\n",
              "        google.colab.kernel.accessAllowed ? 'block' : 'none';\n",
              "    })();\n",
              "  </script>\n",
              "</div>\n",
              "\n",
              "    </div>\n",
              "  </div>\n"
            ],
            "application/vnd.google.colaboratory.intrinsic+json": {
              "type": "dataframe",
              "summary": "{\n  \"name\": \"df[[\\\"Enter Your Height:(eg- 169 cm)\\\",\\\"heights\\\"]]\",\n  \"rows\": 225,\n  \"fields\": [\n    {\n      \"column\": \"Enter Your Height:(eg- 169 cm)\",\n      \"properties\": {\n        \"dtype\": \"category\",\n        \"num_unique_values\": 93,\n        \"samples\": [\n          \"157 cm\",\n          134,\n          \"165 cm\"\n        ],\n        \"semantic_type\": \"\",\n        \"description\": \"\"\n      }\n    },\n    {\n      \"column\": \"heights\",\n      \"properties\": {\n        \"dtype\": \"number\",\n        \"std\": 21,\n        \"min\": 11,\n        \"max\": 190,\n        \"num_unique_values\": 53,\n        \"samples\": [\n          134,\n          162,\n          185\n        ],\n        \"semantic_type\": \"\",\n        \"description\": \"\"\n      }\n    }\n  ]\n}"
            }
          },
          "metadata": {},
          "execution_count": 18
        }
      ]
    },
    {
      "cell_type": "code",
      "source": [
        "df.shape"
      ],
      "metadata": {
        "colab": {
          "base_uri": "https://localhost:8080/"
        },
        "id": "T_32-MogzXbA",
        "outputId": "67abac07-692f-466a-c353-c5b42d900d22"
      },
      "execution_count": null,
      "outputs": [
        {
          "output_type": "execute_result",
          "data": {
            "text/plain": [
              "(225, 44)"
            ]
          },
          "metadata": {},
          "execution_count": 19
        }
      ]
    },
    {
      "cell_type": "code",
      "source": [
        "df = df.drop(columns=[\"Enter Your Height:(eg- 169 cm)\"])"
      ],
      "metadata": {
        "id": "6TInYNxxxPlR"
      },
      "execution_count": null,
      "outputs": []
    },
    {
      "cell_type": "code",
      "source": [
        "df.shape"
      ],
      "metadata": {
        "colab": {
          "base_uri": "https://localhost:8080/"
        },
        "id": "wOL5YWI4xWmG",
        "outputId": "335fd574-a7fb-4a7c-924c-af9b4b2af240"
      },
      "execution_count": null,
      "outputs": [
        {
          "output_type": "execute_result",
          "data": {
            "text/plain": [
              "(225, 43)"
            ]
          },
          "metadata": {},
          "execution_count": 21
        }
      ]
    },
    {
      "cell_type": "markdown",
      "source": [
        "##Removing KG in Weight Field"
      ],
      "metadata": {
        "id": "D77U-EHpzfNQ"
      }
    },
    {
      "cell_type": "code",
      "source": [
        "df[\"Enter your Weight:(eg-50kg)\"].info()"
      ],
      "metadata": {
        "colab": {
          "base_uri": "https://localhost:8080/"
        },
        "id": "wtL5YpPlzkEq",
        "outputId": "9b65121e-ad43-40d8-e430-19f6df0cbe1d"
      },
      "execution_count": null,
      "outputs": [
        {
          "output_type": "stream",
          "name": "stdout",
          "text": [
            "<class 'pandas.core.series.Series'>\n",
            "RangeIndex: 225 entries, 0 to 224\n",
            "Series name: Enter your Weight:(eg-50kg)\n",
            "Non-Null Count  Dtype \n",
            "--------------  ----- \n",
            "225 non-null    object\n",
            "dtypes: object(1)\n",
            "memory usage: 1.9+ KB\n"
          ]
        }
      ]
    },
    {
      "cell_type": "code",
      "source": [
        "data = df[\"Enter your Weight:(eg-50kg)\"].astype(str)"
      ],
      "metadata": {
        "id": "0-4Pp1esz3zr"
      },
      "execution_count": null,
      "outputs": []
    },
    {
      "cell_type": "code",
      "source": [
        "def extract_numeric_weight(weight):\n",
        "    match = re.match(r'(\\d+)', weight)\n",
        "    if match:\n",
        "        return int(match.group(1))\n",
        "    else:\n",
        "        return None"
      ],
      "metadata": {
        "id": "PbBYJTu_0BZE"
      },
      "execution_count": null,
      "outputs": []
    },
    {
      "cell_type": "code",
      "source": [
        "numeric_weights = [extract_numeric_weight(weight) for weight in data]"
      ],
      "metadata": {
        "id": "i0qsiUJM0Gu-"
      },
      "execution_count": null,
      "outputs": []
    },
    {
      "cell_type": "code",
      "source": [
        "print(numeric_weights)"
      ],
      "metadata": {
        "colab": {
          "base_uri": "https://localhost:8080/"
        },
        "id": "LaK1myK00Reg",
        "outputId": "04461220-3122-4e44-f013-dc6e265b6880"
      },
      "execution_count": null,
      "outputs": [
        {
          "output_type": "stream",
          "name": "stdout",
          "text": [
            "[28, 46, 43, 50, 17, 38, 75, 45, 60, 55, 45, 35, 35, 63, 25, 40, 48, 28, 40, 60, 18, 18, 50, 51, 50, 40, 32, 38, 37, 24, 24, 25, 42, 60, 45, 51, 44, 45, 65, 54, 58, 54, 48, 65, 60, 71, 60, 80, 100, 50, 70, 51, 72, 48, 76, 52, 55, 51, 69, 55, 40, 72, 57, 75, 54, 58, 55, 57, 50, 75, 65, 60, 65, 42, 67, 70, 44, 56, 90, 60, 55, 54, 80, 55, 55, 42, 60, 68, 65, 74, 88, 52, 75, 58, 70, 60, 86, 82, 57, 53, 50, 67, 87, 87, 85, 65, 49, 56, 82, 86, 56, 61, 70, 59, 52, 72, 45, 49, 50, 55, 45, 79, 89, 49, 49, 64, 50, 44, 60, 58, 55, 55, 43, 55, 43, 40, 61, 50, 54, 49, 56, 50, 60, 62, 64, 52, 86, 60, 70, 78, 43, 65, 65, 50, 50, 46, 44, 62, 70, 83, 80, 58, 80, 40, 69, 58, 70, 50, 58, 75, 95, 62, 53, 59, 64, 50, 65, 70, 75, 60, 80, 67, 54, 64, 63, 69, 53, 80, 64, 56, 59, 70, 72, 64, 54, 75, 60, 55, 52, 66, 65, 64, 50, 65, 60, 70, 46, 74, 82, 51, 72, 60, 41, 50, 50, 55, 50, 42, 50, 80, 63, 65, 55, 40, 46]\n"
          ]
        }
      ]
    },
    {
      "cell_type": "code",
      "source": [
        "df[\"weights\"] = numeric_weights"
      ],
      "metadata": {
        "id": "snJG4qhQ0UGy"
      },
      "execution_count": null,
      "outputs": []
    },
    {
      "cell_type": "code",
      "source": [
        "df[\"weights\"].info()"
      ],
      "metadata": {
        "colab": {
          "base_uri": "https://localhost:8080/"
        },
        "id": "XjPoVhy-0fen",
        "outputId": "619d63b6-5f99-4d3a-efc9-84a5f65b50ed"
      },
      "execution_count": null,
      "outputs": [
        {
          "output_type": "stream",
          "name": "stdout",
          "text": [
            "<class 'pandas.core.series.Series'>\n",
            "RangeIndex: 225 entries, 0 to 224\n",
            "Series name: weights\n",
            "Non-Null Count  Dtype\n",
            "--------------  -----\n",
            "225 non-null    int64\n",
            "dtypes: int64(1)\n",
            "memory usage: 1.9 KB\n"
          ]
        }
      ]
    },
    {
      "cell_type": "code",
      "source": [
        "df[[\"Enter your Weight:(eg-50kg)\",\"weights\"]]"
      ],
      "metadata": {
        "colab": {
          "base_uri": "https://localhost:8080/",
          "height": 423
        },
        "id": "xg88Mkm70i4_",
        "outputId": "584ec76f-0c90-449c-beff-1f09a3d1e089"
      },
      "execution_count": null,
      "outputs": [
        {
          "output_type": "execute_result",
          "data": {
            "text/plain": [
              "    Enter your Weight:(eg-50kg)  weights\n",
              "0                       28.800g       28\n",
              "1                            46       46\n",
              "2                            43       43\n",
              "3                         50 kg       50\n",
              "4                            17       17\n",
              "..                          ...      ...\n",
              "220                          63       63\n",
              "221                     65.5 kg       65\n",
              "222                        55Kg       55\n",
              "223                          40       40\n",
              "224                          46       46\n",
              "\n",
              "[225 rows x 2 columns]"
            ],
            "text/html": [
              "\n",
              "  <div id=\"df-77531ff5-1b80-4be1-b192-f520a95e9d82\" class=\"colab-df-container\">\n",
              "    <div>\n",
              "<style scoped>\n",
              "    .dataframe tbody tr th:only-of-type {\n",
              "        vertical-align: middle;\n",
              "    }\n",
              "\n",
              "    .dataframe tbody tr th {\n",
              "        vertical-align: top;\n",
              "    }\n",
              "\n",
              "    .dataframe thead th {\n",
              "        text-align: right;\n",
              "    }\n",
              "</style>\n",
              "<table border=\"1\" class=\"dataframe\">\n",
              "  <thead>\n",
              "    <tr style=\"text-align: right;\">\n",
              "      <th></th>\n",
              "      <th>Enter your Weight:(eg-50kg)</th>\n",
              "      <th>weights</th>\n",
              "    </tr>\n",
              "  </thead>\n",
              "  <tbody>\n",
              "    <tr>\n",
              "      <th>0</th>\n",
              "      <td>28.800g</td>\n",
              "      <td>28</td>\n",
              "    </tr>\n",
              "    <tr>\n",
              "      <th>1</th>\n",
              "      <td>46</td>\n",
              "      <td>46</td>\n",
              "    </tr>\n",
              "    <tr>\n",
              "      <th>2</th>\n",
              "      <td>43</td>\n",
              "      <td>43</td>\n",
              "    </tr>\n",
              "    <tr>\n",
              "      <th>3</th>\n",
              "      <td>50 kg</td>\n",
              "      <td>50</td>\n",
              "    </tr>\n",
              "    <tr>\n",
              "      <th>4</th>\n",
              "      <td>17</td>\n",
              "      <td>17</td>\n",
              "    </tr>\n",
              "    <tr>\n",
              "      <th>...</th>\n",
              "      <td>...</td>\n",
              "      <td>...</td>\n",
              "    </tr>\n",
              "    <tr>\n",
              "      <th>220</th>\n",
              "      <td>63</td>\n",
              "      <td>63</td>\n",
              "    </tr>\n",
              "    <tr>\n",
              "      <th>221</th>\n",
              "      <td>65.5 kg</td>\n",
              "      <td>65</td>\n",
              "    </tr>\n",
              "    <tr>\n",
              "      <th>222</th>\n",
              "      <td>55Kg</td>\n",
              "      <td>55</td>\n",
              "    </tr>\n",
              "    <tr>\n",
              "      <th>223</th>\n",
              "      <td>40</td>\n",
              "      <td>40</td>\n",
              "    </tr>\n",
              "    <tr>\n",
              "      <th>224</th>\n",
              "      <td>46</td>\n",
              "      <td>46</td>\n",
              "    </tr>\n",
              "  </tbody>\n",
              "</table>\n",
              "<p>225 rows × 2 columns</p>\n",
              "</div>\n",
              "    <div class=\"colab-df-buttons\">\n",
              "\n",
              "  <div class=\"colab-df-container\">\n",
              "    <button class=\"colab-df-convert\" onclick=\"convertToInteractive('df-77531ff5-1b80-4be1-b192-f520a95e9d82')\"\n",
              "            title=\"Convert this dataframe to an interactive table.\"\n",
              "            style=\"display:none;\">\n",
              "\n",
              "  <svg xmlns=\"http://www.w3.org/2000/svg\" height=\"24px\" viewBox=\"0 -960 960 960\">\n",
              "    <path d=\"M120-120v-720h720v720H120Zm60-500h600v-160H180v160Zm220 220h160v-160H400v160Zm0 220h160v-160H400v160ZM180-400h160v-160H180v160Zm440 0h160v-160H620v160ZM180-180h160v-160H180v160Zm440 0h160v-160H620v160Z\"/>\n",
              "  </svg>\n",
              "    </button>\n",
              "\n",
              "  <style>\n",
              "    .colab-df-container {\n",
              "      display:flex;\n",
              "      gap: 12px;\n",
              "    }\n",
              "\n",
              "    .colab-df-convert {\n",
              "      background-color: #E8F0FE;\n",
              "      border: none;\n",
              "      border-radius: 50%;\n",
              "      cursor: pointer;\n",
              "      display: none;\n",
              "      fill: #1967D2;\n",
              "      height: 32px;\n",
              "      padding: 0 0 0 0;\n",
              "      width: 32px;\n",
              "    }\n",
              "\n",
              "    .colab-df-convert:hover {\n",
              "      background-color: #E2EBFA;\n",
              "      box-shadow: 0px 1px 2px rgba(60, 64, 67, 0.3), 0px 1px 3px 1px rgba(60, 64, 67, 0.15);\n",
              "      fill: #174EA6;\n",
              "    }\n",
              "\n",
              "    .colab-df-buttons div {\n",
              "      margin-bottom: 4px;\n",
              "    }\n",
              "\n",
              "    [theme=dark] .colab-df-convert {\n",
              "      background-color: #3B4455;\n",
              "      fill: #D2E3FC;\n",
              "    }\n",
              "\n",
              "    [theme=dark] .colab-df-convert:hover {\n",
              "      background-color: #434B5C;\n",
              "      box-shadow: 0px 1px 3px 1px rgba(0, 0, 0, 0.15);\n",
              "      filter: drop-shadow(0px 1px 2px rgba(0, 0, 0, 0.3));\n",
              "      fill: #FFFFFF;\n",
              "    }\n",
              "  </style>\n",
              "\n",
              "    <script>\n",
              "      const buttonEl =\n",
              "        document.querySelector('#df-77531ff5-1b80-4be1-b192-f520a95e9d82 button.colab-df-convert');\n",
              "      buttonEl.style.display =\n",
              "        google.colab.kernel.accessAllowed ? 'block' : 'none';\n",
              "\n",
              "      async function convertToInteractive(key) {\n",
              "        const element = document.querySelector('#df-77531ff5-1b80-4be1-b192-f520a95e9d82');\n",
              "        const dataTable =\n",
              "          await google.colab.kernel.invokeFunction('convertToInteractive',\n",
              "                                                    [key], {});\n",
              "        if (!dataTable) return;\n",
              "\n",
              "        const docLinkHtml = 'Like what you see? Visit the ' +\n",
              "          '<a target=\"_blank\" href=https://colab.research.google.com/notebooks/data_table.ipynb>data table notebook</a>'\n",
              "          + ' to learn more about interactive tables.';\n",
              "        element.innerHTML = '';\n",
              "        dataTable['output_type'] = 'display_data';\n",
              "        await google.colab.output.renderOutput(dataTable, element);\n",
              "        const docLink = document.createElement('div');\n",
              "        docLink.innerHTML = docLinkHtml;\n",
              "        element.appendChild(docLink);\n",
              "      }\n",
              "    </script>\n",
              "  </div>\n",
              "\n",
              "\n",
              "<div id=\"df-cd1e5bbd-3f18-404a-bbeb-50480958d1d9\">\n",
              "  <button class=\"colab-df-quickchart\" onclick=\"quickchart('df-cd1e5bbd-3f18-404a-bbeb-50480958d1d9')\"\n",
              "            title=\"Suggest charts\"\n",
              "            style=\"display:none;\">\n",
              "\n",
              "<svg xmlns=\"http://www.w3.org/2000/svg\" height=\"24px\"viewBox=\"0 0 24 24\"\n",
              "     width=\"24px\">\n",
              "    <g>\n",
              "        <path d=\"M19 3H5c-1.1 0-2 .9-2 2v14c0 1.1.9 2 2 2h14c1.1 0 2-.9 2-2V5c0-1.1-.9-2-2-2zM9 17H7v-7h2v7zm4 0h-2V7h2v10zm4 0h-2v-4h2v4z\"/>\n",
              "    </g>\n",
              "</svg>\n",
              "  </button>\n",
              "\n",
              "<style>\n",
              "  .colab-df-quickchart {\n",
              "      --bg-color: #E8F0FE;\n",
              "      --fill-color: #1967D2;\n",
              "      --hover-bg-color: #E2EBFA;\n",
              "      --hover-fill-color: #174EA6;\n",
              "      --disabled-fill-color: #AAA;\n",
              "      --disabled-bg-color: #DDD;\n",
              "  }\n",
              "\n",
              "  [theme=dark] .colab-df-quickchart {\n",
              "      --bg-color: #3B4455;\n",
              "      --fill-color: #D2E3FC;\n",
              "      --hover-bg-color: #434B5C;\n",
              "      --hover-fill-color: #FFFFFF;\n",
              "      --disabled-bg-color: #3B4455;\n",
              "      --disabled-fill-color: #666;\n",
              "  }\n",
              "\n",
              "  .colab-df-quickchart {\n",
              "    background-color: var(--bg-color);\n",
              "    border: none;\n",
              "    border-radius: 50%;\n",
              "    cursor: pointer;\n",
              "    display: none;\n",
              "    fill: var(--fill-color);\n",
              "    height: 32px;\n",
              "    padding: 0;\n",
              "    width: 32px;\n",
              "  }\n",
              "\n",
              "  .colab-df-quickchart:hover {\n",
              "    background-color: var(--hover-bg-color);\n",
              "    box-shadow: 0 1px 2px rgba(60, 64, 67, 0.3), 0 1px 3px 1px rgba(60, 64, 67, 0.15);\n",
              "    fill: var(--button-hover-fill-color);\n",
              "  }\n",
              "\n",
              "  .colab-df-quickchart-complete:disabled,\n",
              "  .colab-df-quickchart-complete:disabled:hover {\n",
              "    background-color: var(--disabled-bg-color);\n",
              "    fill: var(--disabled-fill-color);\n",
              "    box-shadow: none;\n",
              "  }\n",
              "\n",
              "  .colab-df-spinner {\n",
              "    border: 2px solid var(--fill-color);\n",
              "    border-color: transparent;\n",
              "    border-bottom-color: var(--fill-color);\n",
              "    animation:\n",
              "      spin 1s steps(1) infinite;\n",
              "  }\n",
              "\n",
              "  @keyframes spin {\n",
              "    0% {\n",
              "      border-color: transparent;\n",
              "      border-bottom-color: var(--fill-color);\n",
              "      border-left-color: var(--fill-color);\n",
              "    }\n",
              "    20% {\n",
              "      border-color: transparent;\n",
              "      border-left-color: var(--fill-color);\n",
              "      border-top-color: var(--fill-color);\n",
              "    }\n",
              "    30% {\n",
              "      border-color: transparent;\n",
              "      border-left-color: var(--fill-color);\n",
              "      border-top-color: var(--fill-color);\n",
              "      border-right-color: var(--fill-color);\n",
              "    }\n",
              "    40% {\n",
              "      border-color: transparent;\n",
              "      border-right-color: var(--fill-color);\n",
              "      border-top-color: var(--fill-color);\n",
              "    }\n",
              "    60% {\n",
              "      border-color: transparent;\n",
              "      border-right-color: var(--fill-color);\n",
              "    }\n",
              "    80% {\n",
              "      border-color: transparent;\n",
              "      border-right-color: var(--fill-color);\n",
              "      border-bottom-color: var(--fill-color);\n",
              "    }\n",
              "    90% {\n",
              "      border-color: transparent;\n",
              "      border-bottom-color: var(--fill-color);\n",
              "    }\n",
              "  }\n",
              "</style>\n",
              "\n",
              "  <script>\n",
              "    async function quickchart(key) {\n",
              "      const quickchartButtonEl =\n",
              "        document.querySelector('#' + key + ' button');\n",
              "      quickchartButtonEl.disabled = true;  // To prevent multiple clicks.\n",
              "      quickchartButtonEl.classList.add('colab-df-spinner');\n",
              "      try {\n",
              "        const charts = await google.colab.kernel.invokeFunction(\n",
              "            'suggestCharts', [key], {});\n",
              "      } catch (error) {\n",
              "        console.error('Error during call to suggestCharts:', error);\n",
              "      }\n",
              "      quickchartButtonEl.classList.remove('colab-df-spinner');\n",
              "      quickchartButtonEl.classList.add('colab-df-quickchart-complete');\n",
              "    }\n",
              "    (() => {\n",
              "      let quickchartButtonEl =\n",
              "        document.querySelector('#df-cd1e5bbd-3f18-404a-bbeb-50480958d1d9 button');\n",
              "      quickchartButtonEl.style.display =\n",
              "        google.colab.kernel.accessAllowed ? 'block' : 'none';\n",
              "    })();\n",
              "  </script>\n",
              "</div>\n",
              "\n",
              "    </div>\n",
              "  </div>\n"
            ],
            "application/vnd.google.colaboratory.intrinsic+json": {
              "type": "dataframe",
              "summary": "{\n  \"name\": \"df[[\\\"Enter your Weight:(eg-50kg)\\\",\\\"weights\\\"]]\",\n  \"rows\": 225,\n  \"fields\": [\n    {\n      \"column\": \"Enter your Weight:(eg-50kg)\",\n      \"properties\": {\n        \"dtype\": \"category\",\n        \"num_unique_values\": 105,\n        \"samples\": [\n          65,\n          \"52kg\",\n          88\n        ],\n        \"semantic_type\": \"\",\n        \"description\": \"\"\n      }\n    },\n    {\n      \"column\": \"weights\",\n      \"properties\": {\n        \"dtype\": \"number\",\n        \"std\": 14,\n        \"min\": 17,\n        \"max\": 100,\n        \"num_unique_values\": 57,\n        \"samples\": [\n          28,\n          38,\n          76\n        ],\n        \"semantic_type\": \"\",\n        \"description\": \"\"\n      }\n    }\n  ]\n}"
            }
          },
          "metadata": {},
          "execution_count": 29
        }
      ]
    },
    {
      "cell_type": "code",
      "source": [
        "df.shape"
      ],
      "metadata": {
        "colab": {
          "base_uri": "https://localhost:8080/"
        },
        "id": "yqBW_qNC0y90",
        "outputId": "83abd1f8-d531-4024-adaa-06f59bd91f38"
      },
      "execution_count": null,
      "outputs": [
        {
          "output_type": "execute_result",
          "data": {
            "text/plain": [
              "(225, 44)"
            ]
          },
          "metadata": {},
          "execution_count": 30
        }
      ]
    },
    {
      "cell_type": "code",
      "source": [
        "df = df.drop(columns=[\"Enter your Weight:(eg-50kg)\"])"
      ],
      "metadata": {
        "id": "KjIJgJgR0z8o"
      },
      "execution_count": null,
      "outputs": []
    },
    {
      "cell_type": "code",
      "source": [
        "df.shape"
      ],
      "metadata": {
        "colab": {
          "base_uri": "https://localhost:8080/"
        },
        "id": "PqOLmHRd06k8",
        "outputId": "46c76e7d-8487-45ae-9ea1-e4238eda822f"
      },
      "execution_count": null,
      "outputs": [
        {
          "output_type": "execute_result",
          "data": {
            "text/plain": [
              "(225, 43)"
            ]
          },
          "metadata": {},
          "execution_count": 32
        }
      ]
    },
    {
      "cell_type": "markdown",
      "source": [
        "##Calculate BMI"
      ],
      "metadata": {
        "id": "DqOWy25k1Xe1"
      }
    },
    {
      "cell_type": "markdown",
      "source": [
        "Underweight: BMI less than 18.5\n",
        "\n",
        "---\n",
        "\n",
        "\n",
        "Normal weight: BMI 18.5 to 24.9\n",
        "\n",
        "---\n",
        "\n",
        "\n",
        "Overweight: BMI 25 to 29.9\n",
        "\n",
        "---\n",
        "\n",
        "\n",
        "Obese: BMI 30 or greater"
      ],
      "metadata": {
        "id": "C9h8pD8b2h3x"
      }
    },
    {
      "cell_type": "code",
      "source": [
        "df['bmi'] = df['weights'] / ((df['heights'] / 100) ** 2)"
      ],
      "metadata": {
        "id": "ygolqs8i1itC"
      },
      "execution_count": null,
      "outputs": []
    },
    {
      "cell_type": "code",
      "source": [
        "df[\"bmi\"].info()"
      ],
      "metadata": {
        "colab": {
          "base_uri": "https://localhost:8080/"
        },
        "id": "D9ELJlPU2MFE",
        "outputId": "eef6046f-cddc-4843-e45a-169cb665cf4e"
      },
      "execution_count": null,
      "outputs": [
        {
          "output_type": "stream",
          "name": "stdout",
          "text": [
            "<class 'pandas.core.series.Series'>\n",
            "RangeIndex: 225 entries, 0 to 224\n",
            "Series name: bmi\n",
            "Non-Null Count  Dtype  \n",
            "--------------  -----  \n",
            "225 non-null    float64\n",
            "dtypes: float64(1)\n",
            "memory usage: 1.9 KB\n"
          ]
        }
      ]
    },
    {
      "cell_type": "code",
      "source": [
        "df[\"bmi\"].head()"
      ],
      "metadata": {
        "colab": {
          "base_uri": "https://localhost:8080/"
        },
        "id": "87KoH0Z72SuN",
        "outputId": "e091d3b4-1e9e-4af7-92fe-433f5ffd6037"
      },
      "execution_count": null,
      "outputs": [
        {
          "output_type": "execute_result",
          "data": {
            "text/plain": [
              "0      43.750000\n",
              "1      20.444444\n",
              "2      18.611496\n",
              "3      20.811655\n",
              "4    1404.958678\n",
              "Name: bmi, dtype: float64"
            ]
          },
          "metadata": {},
          "execution_count": 35
        }
      ]
    },
    {
      "cell_type": "markdown",
      "source": [
        "#Renaming Columns and cleaning"
      ],
      "metadata": {
        "id": "_GkUePfiwKly"
      }
    },
    {
      "cell_type": "code",
      "source": [
        "df.info()"
      ],
      "metadata": {
        "colab": {
          "base_uri": "https://localhost:8080/"
        },
        "id": "ISQ6ehqww4gx",
        "outputId": "2e509768-124c-4632-ad83-3e75ad7b8809"
      },
      "execution_count": null,
      "outputs": [
        {
          "output_type": "stream",
          "name": "stdout",
          "text": [
            "<class 'pandas.core.frame.DataFrame'>\n",
            "RangeIndex: 225 entries, 0 to 224\n",
            "Data columns (total 44 columns):\n",
            " #   Column                                                                                                         Non-Null Count  Dtype         \n",
            "---  ------                                                                                                         --------------  -----         \n",
            " 0   Timestamp                                                                                                      225 non-null    datetime64[ns]\n",
            " 1   Name (Initial at end)                                                                                          225 non-null    object        \n",
            " 2   Gender                                                                                                         225 non-null    object        \n",
            " 3   Studying in ___________                                                                                        225 non-null    object        \n",
            " 4   Age                                                                                                            225 non-null    object        \n",
            " 5   Enter the name of subject 1                                                                                    32 non-null     object        \n",
            " 6   Enter your marks in subject 1 in total of 100 marks or in Grade                                                32 non-null     float64       \n",
            " 7   Enter the name of subject 2                                                                                    32 non-null     object        \n",
            " 8   Enter your marks in subject 2 in total of 100 marks  or in Grade                                               32 non-null     float64       \n",
            " 9   Enter the name of subject 3                                                                                    32 non-null     object        \n",
            " 10  Enter your marks in subject 3 in total of 100 marks  or in Grade                                               32 non-null     float64       \n",
            " 11  Enter the name of subject 4                                                                                    32 non-null     object        \n",
            " 12  Enter your marks in subject 4 in total of 100 marks  or in Grade                                               32 non-null     float64       \n",
            " 13  Enter the name of subject 5                                                                                    32 non-null     object        \n",
            " 14  Enter your marks in subject 5 in total of 100 marks  or in Grade                                               32 non-null     float64       \n",
            " 15  Enter your Maths mark in 10th std in marks                                                                     193 non-null    float64       \n",
            " 16  Enter your total mark in 10th std(Eg: 456)                                                                     193 non-null    float64       \n",
            " 17  Enter your Maths mark in 12th std                                                                              193 non-null    float64       \n",
            " 18  Enter your total mark in 12th std                                                                              193 non-null    float64       \n",
            " 19  Enter your UG CGPA                                                                                             193 non-null    float64       \n",
            " 20  Have you engaged in any sports activities?                                                                     193 non-null    object        \n",
            " 21  Time spending for sports activities per day                                                                    101 non-null    object        \n",
            " 22  How long have you been actively participating in sports?                                                       101 non-null    object        \n",
            " 23  What would you like to play?                                                                                   101 non-null    object        \n",
            " 24  Mention your favorite game name                                                                                101 non-null    object        \n",
            " 25  Are you the sports player of                                                                                   101 non-null    object        \n",
            " 26  If you are the sports player, how would you train yourself for the game?                                       101 non-null    object        \n",
            " 27  Could you please share the name of the training club where you are currently honing your skills for the game?  101 non-null    object        \n",
            " 28  Choose the Physical activity or sports that you would do.                                                      101 non-null    object        \n",
            " 29  Preferred time for playing                                                                                     101 non-null    object        \n",
            " 30  Reason for playing the sports                                                                                  101 non-null    object        \n",
            " 31  At what average frequency, would you go to the hospital in a month?                                            225 non-null    int64         \n",
            " 32  Are you wearing spectacles?                                                                                    225 non-null    object        \n",
            " 33  Choose your daily mobile usage in hours                                                                        225 non-null    object        \n",
            " 34  What is your wakeup time? (Note : Time is in 24 hr format)                                                     225 non-null    object        \n",
            " 35  What is your sleeping time? (Note : Time is in 24 hr format)                                                   225 non-null    object        \n",
            " 36  How many days would you take the sick leave per month?                                                         225 non-null    object        \n",
            " 37  Are you feeling sleepy during class hours?                                                                     225 non-null    object        \n",
            " 38  Do you experience any of the following types of pain in your day-to-day life?                                  225 non-null    object        \n",
            " 39  On average, how long are you able to read continuously while maintaining a high level of concentration?        225 non-null    object        \n",
            " 40  Are you engaged in any sports activities?                                                                      32 non-null     object        \n",
            " 41  heights                                                                                                        225 non-null    int64         \n",
            " 42  weights                                                                                                        225 non-null    int64         \n",
            " 43  bmi                                                                                                            225 non-null    float64       \n",
            "dtypes: datetime64[ns](1), float64(11), int64(3), object(29)\n",
            "memory usage: 77.5+ KB\n"
          ]
        }
      ]
    },
    {
      "cell_type": "code",
      "source": [
        "df = df.drop('Timestamp', axis=1)\n",
        "df.rename(columns={'Name (Initial at end)' : 'Name'},inplace=True)\n",
        "df.rename(columns={'Studying in ___________':'Study'},inplace=True)\n"
      ],
      "metadata": {
        "id": "lrBpRGWOxCf6"
      },
      "execution_count": null,
      "outputs": []
    },
    {
      "cell_type": "code",
      "source": [
        "df.rename(columns={'Enter the name of subject 1':'Subject1Name'},inplace=True)\n",
        "df.rename(columns={'Enter your marks in subject 1 in total of 100 marks or in Grade':'Subject1Mark'},inplace=True)\n",
        "df.rename(columns={'Enter the name of subject 2':'Subject2Name'},inplace=True)\n",
        "df.rename(columns={'Enter your marks in subject 2 in total of 100 marks  or in Grade':'Subject2Mark'},inplace=True)\n",
        "df.rename(columns={'Enter the name of subject 3':'Subject3Name'},inplace=True)\n",
        "df.rename(columns={'Enter your marks in subject 3 in total of 100 marks  or in Grade':'Subject3Mark'},inplace=True)\n",
        "df.rename(columns={'Enter the name of subject 4':'Subject4Name'},inplace=True)\n",
        "df.rename(columns={'Enter your marks in subject 4 in total of 100 marks  or in Grade':'Subject4Mark'},inplace=True)\n",
        "df.rename(columns={'Enter the name of subject 5':'Subject5Name'},inplace=True)\n",
        "df.rename(columns={'Enter your marks in subject 5 in total of 100 marks  or in Grade':'Subject5Mark'},inplace=True)\n",
        "df.rename(columns={'Enter your Maths mark in 10th std in marks':'MathsMark10'},inplace=True)\n",
        "df.rename(columns={'Enter your total mark in 10th std(Eg: 456)' : 'TotalMarks10'},inplace=True)\n",
        "df.rename(columns={'Enter your Maths mark in 12th std':'MathsMark12'},inplace=True)\n",
        "df.rename(columns={'Enter your total mark in 12th std':'TotalMarks12'},inplace=True)\n",
        "df.rename(columns={'Enter your UG CGPA':'UGcgpa'},inplace=True)"
      ],
      "metadata": {
        "id": "cuxueKCgxcIX"
      },
      "execution_count": null,
      "outputs": []
    },
    {
      "cell_type": "code",
      "source": [
        "df.rename(columns={'Are you engaged in any sports activities?':'EngagedInSportsB18'},inplace=True)\n",
        "df.rename(columns={'Have you engaged in any sports activities?': 'EngagedInSports'}, inplace=True)\n",
        "df.rename(columns={'Time spending for sports activities per day': 'TimeSpentPerDay'}, inplace=True)\n",
        "df.rename(columns={'How long have you been actively participating in sports?': 'ActivelyParticipatingPeriod'}, inplace=True)\n",
        "df.rename(columns={'What would you like to play?': 'GamesLikeToPlay'}, inplace=True)\n",
        "df.rename(columns={'Mention your favorite game name ': 'FavGameName'}, inplace=True)\n",
        "df.rename(columns={'Are you the sports player of': 'SportsPlyerOf'}, inplace=True)\n",
        "df.rename(columns={'If you are the sports player, how would you train yourself for the game?': 'TrainingThrough'}, inplace=True)\n",
        "df.rename(columns={'Could you please share the name of the training club where you are currently honing your skills for the game?': 'TrainingClubName'}, inplace=True)\n",
        "df.rename(columns={'Choose the Physical activity or sports that you would do.': 'PhysicalActivityOrSportsDoing'}, inplace=True)\n",
        "df.rename(columns={'Preferred time for playing': 'PreferredTimeToPlay'}, inplace=True)\n",
        "df.rename(columns={'Reason for playing the sports': 'ReasonForPlaying'}, inplace=True)"
      ],
      "metadata": {
        "id": "gUoJjj52zpED"
      },
      "execution_count": null,
      "outputs": []
    },
    {
      "cell_type": "code",
      "source": [
        "\n",
        "df.rename(columns={'At what average frequency, would you go to the hospital in a month?': 'HospitalVisits'}, inplace=True)\n",
        "df.rename(columns={'Are you wearing spectacles?': 'WearingSpecs'}, inplace=True)\n",
        "df.rename(columns={'Choose your daily mobile usage in hours': 'DailyMobileUsage'}, inplace=True)\n",
        "df.rename(columns={'What is your wakeup time? (Note : Time is in 24 hr format)': 'WakeUpTime'}, inplace=True)\n",
        "df.rename(columns={'What is your sleeping time? (Note : Time is in 24 hr format)': 'SleepTime'}, inplace=True)\n",
        "df.rename(columns={'How many days would you take the sick leave per month?': 'SickLeaveDays'}, inplace=True)\n",
        "df.rename(columns={'Are you feeling sleepy during class hours?': 'FeelingSleepy'}, inplace=True)\n",
        "df.rename(columns={'Do you experience any of the following types of pain in your day-to-day life? ': 'Pains'}, inplace=True)\n",
        "df.rename(columns={'On average, how long are you able to read continuously while maintaining a high level of concentration?': 'ContinuousReading'}, inplace=True)"
      ],
      "metadata": {
        "id": "xSmuHynEwOrl"
      },
      "execution_count": null,
      "outputs": []
    },
    {
      "cell_type": "code",
      "source": [
        "df.info()"
      ],
      "metadata": {
        "colab": {
          "base_uri": "https://localhost:8080/"
        },
        "id": "YuyXsSvg02-O",
        "outputId": "2e23b157-ca82-4d41-f5c1-3f1b495a26e2"
      },
      "execution_count": null,
      "outputs": [
        {
          "output_type": "stream",
          "name": "stdout",
          "text": [
            "<class 'pandas.core.frame.DataFrame'>\n",
            "RangeIndex: 225 entries, 0 to 224\n",
            "Data columns (total 43 columns):\n",
            " #   Column                         Non-Null Count  Dtype  \n",
            "---  ------                         --------------  -----  \n",
            " 0   Name                           225 non-null    object \n",
            " 1   Gender                         225 non-null    object \n",
            " 2   Study                          225 non-null    object \n",
            " 3   Age                            225 non-null    object \n",
            " 4   Subject1Name                   32 non-null     object \n",
            " 5   Subject1Mark                   32 non-null     float64\n",
            " 6   Subject2Name                   32 non-null     object \n",
            " 7   Subject2Mark                   32 non-null     float64\n",
            " 8   Subject3Name                   32 non-null     object \n",
            " 9   Subject3Mark                   32 non-null     float64\n",
            " 10  Subject4Name                   32 non-null     object \n",
            " 11  Subject4Mark                   32 non-null     float64\n",
            " 12  Subject5Name                   32 non-null     object \n",
            " 13  Subject5Mark                   32 non-null     float64\n",
            " 14  MathsMark10                    193 non-null    float64\n",
            " 15  TotalMarks10                   193 non-null    float64\n",
            " 16  MathsMark12                    193 non-null    float64\n",
            " 17  TotalMarks12                   193 non-null    float64\n",
            " 18  UGcgpa                         193 non-null    float64\n",
            " 19  EngagedInSports                193 non-null    object \n",
            " 20  TimeSpentPerDay                101 non-null    object \n",
            " 21  ActivelyParticipatingPeriod    101 non-null    object \n",
            " 22  GamesLikeToPlay                101 non-null    object \n",
            " 23  FavGameName                    101 non-null    object \n",
            " 24  SportsPlyerOf                  101 non-null    object \n",
            " 25  TrainingThrough                101 non-null    object \n",
            " 26  TrainingClubName               101 non-null    object \n",
            " 27  PhysicalActivityOrSportsDoing  101 non-null    object \n",
            " 28  PreferredTimeToPlay            101 non-null    object \n",
            " 29  ReasonForPlaying               101 non-null    object \n",
            " 30  HospitalVisits                 225 non-null    int64  \n",
            " 31  WearingSpecs                   225 non-null    object \n",
            " 32  DailyMobileUsage               225 non-null    object \n",
            " 33  WakeUpTime                     225 non-null    object \n",
            " 34  SleepTime                      225 non-null    object \n",
            " 35  SickLeaveDays                  225 non-null    object \n",
            " 36  FeelingSleepy                  225 non-null    object \n",
            " 37  Pains                          225 non-null    object \n",
            " 38  ContinuousReading              225 non-null    object \n",
            " 39  EngagedInSportsB18             32 non-null     object \n",
            " 40  heights                        225 non-null    int64  \n",
            " 41  weights                        225 non-null    int64  \n",
            " 42  bmi                            225 non-null    float64\n",
            "dtypes: float64(11), int64(3), object(29)\n",
            "memory usage: 75.7+ KB\n"
          ]
        }
      ]
    },
    {
      "cell_type": "code",
      "source": [
        "df['HospitalVisits'].head(15)"
      ],
      "metadata": {
        "colab": {
          "base_uri": "https://localhost:8080/"
        },
        "id": "Nlem2w28Wj-D",
        "outputId": "93d7dc5c-05b1-4018-e740-27de95bfea60"
      },
      "execution_count": null,
      "outputs": [
        {
          "output_type": "execute_result",
          "data": {
            "text/plain": [
              "0     0\n",
              "1     2\n",
              "2     6\n",
              "3     0\n",
              "4     0\n",
              "5     6\n",
              "6     1\n",
              "7     0\n",
              "8     0\n",
              "9     0\n",
              "10    3\n",
              "11    5\n",
              "12    0\n",
              "13    1\n",
              "14    0\n",
              "Name: HospitalVisits, dtype: int64"
            ]
          },
          "metadata": {},
          "execution_count": 42
        }
      ]
    },
    {
      "cell_type": "markdown",
      "source": [
        "#Analysis of Correlation between Academic Performance, Sports Engagement, and Health-Related Factors- Students Under 18 vs Students Above 18"
      ],
      "metadata": {
        "id": "QDEmwWOkTgqr"
      }
    },
    {
      "cell_type": "code",
      "source": [
        "from scipy.stats import spearmanr, ttest_ind, chi2_contingency"
      ],
      "metadata": {
        "id": "sU4op7C5VEMu"
      },
      "execution_count": null,
      "outputs": []
    },
    {
      "cell_type": "markdown",
      "source": [
        "##Below Age 18"
      ],
      "metadata": {
        "id": "b-sKgHWm8Y2n"
      }
    },
    {
      "cell_type": "markdown",
      "source": [
        "###Dataset Preparation"
      ],
      "metadata": {
        "id": "U2ktUKQlwejw"
      }
    },
    {
      "cell_type": "code",
      "source": [
        "# Define relevant columns for analysis\n",
        "academic_columns_under_18 = ['Subject1Mark', 'Subject2Mark', 'Subject3Mark', 'Subject4Mark', 'Subject5Mark']\n",
        "other_columns = ['TimeSpentPerDay', 'ActivelyParticipatingPeriod', 'DailyMobileUsage', 'SickLeaveDays', 'ContinuousReading']\n",
        "categorical_columns = ['Gender', 'WearingSpecs', 'FeelingSleepy']\n",
        "sports_engagement_column = 'EngagedInSportsB18'\n",
        "bmi_column = 'bmi'"
      ],
      "metadata": {
        "id": "Z93GxGGw8p0d"
      },
      "execution_count": null,
      "outputs": []
    },
    {
      "cell_type": "code",
      "source": [
        "df_below_18 = df[df['Age'] != 'Above 18'][academic_columns_under_18 + other_columns + categorical_columns + ['HospitalVisits','EngagedInSportsB18','bmi','Pains']]"
      ],
      "metadata": {
        "id": "h7kyYu6p9hGk"
      },
      "execution_count": null,
      "outputs": []
    },
    {
      "cell_type": "code",
      "source": [
        "df_below_18.info()"
      ],
      "metadata": {
        "colab": {
          "base_uri": "https://localhost:8080/"
        },
        "id": "xvOh-vIGBxwD",
        "outputId": "12aa89e2-03bf-44e8-9c8a-76122a0d262b"
      },
      "execution_count": null,
      "outputs": [
        {
          "output_type": "stream",
          "name": "stdout",
          "text": [
            "<class 'pandas.core.frame.DataFrame'>\n",
            "Int64Index: 32 entries, 0 to 31\n",
            "Data columns (total 17 columns):\n",
            " #   Column                       Non-Null Count  Dtype  \n",
            "---  ------                       --------------  -----  \n",
            " 0   Subject1Mark                 32 non-null     float64\n",
            " 1   Subject2Mark                 32 non-null     float64\n",
            " 2   Subject3Mark                 32 non-null     float64\n",
            " 3   Subject4Mark                 32 non-null     float64\n",
            " 4   Subject5Mark                 32 non-null     float64\n",
            " 5   TimeSpentPerDay              26 non-null     object \n",
            " 6   ActivelyParticipatingPeriod  26 non-null     object \n",
            " 7   DailyMobileUsage             32 non-null     object \n",
            " 8   SickLeaveDays                32 non-null     object \n",
            " 9   ContinuousReading            32 non-null     object \n",
            " 10  Gender                       32 non-null     object \n",
            " 11  WearingSpecs                 32 non-null     object \n",
            " 12  FeelingSleepy                32 non-null     object \n",
            " 13  HospitalVisits               32 non-null     int64  \n",
            " 14  EngagedInSportsB18           32 non-null     object \n",
            " 15  bmi                          32 non-null     float64\n",
            " 16  Pains                        32 non-null     object \n",
            "dtypes: float64(6), int64(1), object(10)\n",
            "memory usage: 4.5+ KB\n"
          ]
        }
      ]
    },
    {
      "cell_type": "code",
      "source": [
        "df_below_18.groupby('EngagedInSportsB18').describe()"
      ],
      "metadata": {
        "colab": {
          "base_uri": "https://localhost:8080/",
          "height": 224
        },
        "id": "HC8Lv02mB1ed",
        "outputId": "fa79d124-7d3a-42d2-a041-2e924dccdaba"
      },
      "execution_count": null,
      "outputs": [
        {
          "output_type": "execute_result",
          "data": {
            "text/plain": [
              "                   Subject1Mark                                          \\\n",
              "                          count       mean        std   min   25%   50%   \n",
              "EngagedInSportsB18                                                        \n",
              "No                          6.0  88.166667  11.250185  70.0  82.0  92.0   \n",
              "Yes                        26.0  85.769231  11.250983  50.0  80.5  88.5   \n",
              "\n",
              "                                Subject2Mark             ... HospitalVisits  \\\n",
              "                      75%   max        count       mean  ...            75%   \n",
              "EngagedInSportsB18                                       ...                  \n",
              "No                  96.75  98.0          6.0  87.500000  ...           1.00   \n",
              "Yes                 94.00  98.0         26.0  84.115385  ...           1.75   \n",
              "\n",
              "                          bmi                                                \\\n",
              "                    max count        mean         std        min        25%   \n",
              "EngagedInSportsB18                                                            \n",
              "No                  2.0   6.0   20.188086    3.462690  14.821343  19.185046   \n",
              "Yes                 6.0  26.0  129.673979  387.827283  11.814745  15.808679   \n",
              "\n",
              "                                                       \n",
              "                          50%        75%          max  \n",
              "EngagedInSportsB18                                     \n",
              "No                  20.610034  20.802647    25.510204  \n",
              "Yes                 20.216896  23.717742  1487.603306  \n",
              "\n",
              "[2 rows x 56 columns]"
            ],
            "text/html": [
              "\n",
              "  <div id=\"df-6738ea66-b370-4c1b-8be2-3c66e66bc8bd\" class=\"colab-df-container\">\n",
              "    <div>\n",
              "<style scoped>\n",
              "    .dataframe tbody tr th:only-of-type {\n",
              "        vertical-align: middle;\n",
              "    }\n",
              "\n",
              "    .dataframe tbody tr th {\n",
              "        vertical-align: top;\n",
              "    }\n",
              "\n",
              "    .dataframe thead tr th {\n",
              "        text-align: left;\n",
              "    }\n",
              "\n",
              "    .dataframe thead tr:last-of-type th {\n",
              "        text-align: right;\n",
              "    }\n",
              "</style>\n",
              "<table border=\"1\" class=\"dataframe\">\n",
              "  <thead>\n",
              "    <tr>\n",
              "      <th></th>\n",
              "      <th colspan=\"8\" halign=\"left\">Subject1Mark</th>\n",
              "      <th colspan=\"2\" halign=\"left\">Subject2Mark</th>\n",
              "      <th>...</th>\n",
              "      <th colspan=\"2\" halign=\"left\">HospitalVisits</th>\n",
              "      <th colspan=\"8\" halign=\"left\">bmi</th>\n",
              "    </tr>\n",
              "    <tr>\n",
              "      <th></th>\n",
              "      <th>count</th>\n",
              "      <th>mean</th>\n",
              "      <th>std</th>\n",
              "      <th>min</th>\n",
              "      <th>25%</th>\n",
              "      <th>50%</th>\n",
              "      <th>75%</th>\n",
              "      <th>max</th>\n",
              "      <th>count</th>\n",
              "      <th>mean</th>\n",
              "      <th>...</th>\n",
              "      <th>75%</th>\n",
              "      <th>max</th>\n",
              "      <th>count</th>\n",
              "      <th>mean</th>\n",
              "      <th>std</th>\n",
              "      <th>min</th>\n",
              "      <th>25%</th>\n",
              "      <th>50%</th>\n",
              "      <th>75%</th>\n",
              "      <th>max</th>\n",
              "    </tr>\n",
              "    <tr>\n",
              "      <th>EngagedInSportsB18</th>\n",
              "      <th></th>\n",
              "      <th></th>\n",
              "      <th></th>\n",
              "      <th></th>\n",
              "      <th></th>\n",
              "      <th></th>\n",
              "      <th></th>\n",
              "      <th></th>\n",
              "      <th></th>\n",
              "      <th></th>\n",
              "      <th></th>\n",
              "      <th></th>\n",
              "      <th></th>\n",
              "      <th></th>\n",
              "      <th></th>\n",
              "      <th></th>\n",
              "      <th></th>\n",
              "      <th></th>\n",
              "      <th></th>\n",
              "      <th></th>\n",
              "      <th></th>\n",
              "    </tr>\n",
              "  </thead>\n",
              "  <tbody>\n",
              "    <tr>\n",
              "      <th>No</th>\n",
              "      <td>6.0</td>\n",
              "      <td>88.166667</td>\n",
              "      <td>11.250185</td>\n",
              "      <td>70.0</td>\n",
              "      <td>82.0</td>\n",
              "      <td>92.0</td>\n",
              "      <td>96.75</td>\n",
              "      <td>98.0</td>\n",
              "      <td>6.0</td>\n",
              "      <td>87.500000</td>\n",
              "      <td>...</td>\n",
              "      <td>1.00</td>\n",
              "      <td>2.0</td>\n",
              "      <td>6.0</td>\n",
              "      <td>20.188086</td>\n",
              "      <td>3.462690</td>\n",
              "      <td>14.821343</td>\n",
              "      <td>19.185046</td>\n",
              "      <td>20.610034</td>\n",
              "      <td>20.802647</td>\n",
              "      <td>25.510204</td>\n",
              "    </tr>\n",
              "    <tr>\n",
              "      <th>Yes</th>\n",
              "      <td>26.0</td>\n",
              "      <td>85.769231</td>\n",
              "      <td>11.250983</td>\n",
              "      <td>50.0</td>\n",
              "      <td>80.5</td>\n",
              "      <td>88.5</td>\n",
              "      <td>94.00</td>\n",
              "      <td>98.0</td>\n",
              "      <td>26.0</td>\n",
              "      <td>84.115385</td>\n",
              "      <td>...</td>\n",
              "      <td>1.75</td>\n",
              "      <td>6.0</td>\n",
              "      <td>26.0</td>\n",
              "      <td>129.673979</td>\n",
              "      <td>387.827283</td>\n",
              "      <td>11.814745</td>\n",
              "      <td>15.808679</td>\n",
              "      <td>20.216896</td>\n",
              "      <td>23.717742</td>\n",
              "      <td>1487.603306</td>\n",
              "    </tr>\n",
              "  </tbody>\n",
              "</table>\n",
              "<p>2 rows × 56 columns</p>\n",
              "</div>\n",
              "    <div class=\"colab-df-buttons\">\n",
              "\n",
              "  <div class=\"colab-df-container\">\n",
              "    <button class=\"colab-df-convert\" onclick=\"convertToInteractive('df-6738ea66-b370-4c1b-8be2-3c66e66bc8bd')\"\n",
              "            title=\"Convert this dataframe to an interactive table.\"\n",
              "            style=\"display:none;\">\n",
              "\n",
              "  <svg xmlns=\"http://www.w3.org/2000/svg\" height=\"24px\" viewBox=\"0 -960 960 960\">\n",
              "    <path d=\"M120-120v-720h720v720H120Zm60-500h600v-160H180v160Zm220 220h160v-160H400v160Zm0 220h160v-160H400v160ZM180-400h160v-160H180v160Zm440 0h160v-160H620v160ZM180-180h160v-160H180v160Zm440 0h160v-160H620v160Z\"/>\n",
              "  </svg>\n",
              "    </button>\n",
              "\n",
              "  <style>\n",
              "    .colab-df-container {\n",
              "      display:flex;\n",
              "      gap: 12px;\n",
              "    }\n",
              "\n",
              "    .colab-df-convert {\n",
              "      background-color: #E8F0FE;\n",
              "      border: none;\n",
              "      border-radius: 50%;\n",
              "      cursor: pointer;\n",
              "      display: none;\n",
              "      fill: #1967D2;\n",
              "      height: 32px;\n",
              "      padding: 0 0 0 0;\n",
              "      width: 32px;\n",
              "    }\n",
              "\n",
              "    .colab-df-convert:hover {\n",
              "      background-color: #E2EBFA;\n",
              "      box-shadow: 0px 1px 2px rgba(60, 64, 67, 0.3), 0px 1px 3px 1px rgba(60, 64, 67, 0.15);\n",
              "      fill: #174EA6;\n",
              "    }\n",
              "\n",
              "    .colab-df-buttons div {\n",
              "      margin-bottom: 4px;\n",
              "    }\n",
              "\n",
              "    [theme=dark] .colab-df-convert {\n",
              "      background-color: #3B4455;\n",
              "      fill: #D2E3FC;\n",
              "    }\n",
              "\n",
              "    [theme=dark] .colab-df-convert:hover {\n",
              "      background-color: #434B5C;\n",
              "      box-shadow: 0px 1px 3px 1px rgba(0, 0, 0, 0.15);\n",
              "      filter: drop-shadow(0px 1px 2px rgba(0, 0, 0, 0.3));\n",
              "      fill: #FFFFFF;\n",
              "    }\n",
              "  </style>\n",
              "\n",
              "    <script>\n",
              "      const buttonEl =\n",
              "        document.querySelector('#df-6738ea66-b370-4c1b-8be2-3c66e66bc8bd button.colab-df-convert');\n",
              "      buttonEl.style.display =\n",
              "        google.colab.kernel.accessAllowed ? 'block' : 'none';\n",
              "\n",
              "      async function convertToInteractive(key) {\n",
              "        const element = document.querySelector('#df-6738ea66-b370-4c1b-8be2-3c66e66bc8bd');\n",
              "        const dataTable =\n",
              "          await google.colab.kernel.invokeFunction('convertToInteractive',\n",
              "                                                    [key], {});\n",
              "        if (!dataTable) return;\n",
              "\n",
              "        const docLinkHtml = 'Like what you see? Visit the ' +\n",
              "          '<a target=\"_blank\" href=https://colab.research.google.com/notebooks/data_table.ipynb>data table notebook</a>'\n",
              "          + ' to learn more about interactive tables.';\n",
              "        element.innerHTML = '';\n",
              "        dataTable['output_type'] = 'display_data';\n",
              "        await google.colab.output.renderOutput(dataTable, element);\n",
              "        const docLink = document.createElement('div');\n",
              "        docLink.innerHTML = docLinkHtml;\n",
              "        element.appendChild(docLink);\n",
              "      }\n",
              "    </script>\n",
              "  </div>\n",
              "\n",
              "\n",
              "<div id=\"df-14a1cca9-5e9b-4efe-a4d0-26fc7531d7a7\">\n",
              "  <button class=\"colab-df-quickchart\" onclick=\"quickchart('df-14a1cca9-5e9b-4efe-a4d0-26fc7531d7a7')\"\n",
              "            title=\"Suggest charts\"\n",
              "            style=\"display:none;\">\n",
              "\n",
              "<svg xmlns=\"http://www.w3.org/2000/svg\" height=\"24px\"viewBox=\"0 0 24 24\"\n",
              "     width=\"24px\">\n",
              "    <g>\n",
              "        <path d=\"M19 3H5c-1.1 0-2 .9-2 2v14c0 1.1.9 2 2 2h14c1.1 0 2-.9 2-2V5c0-1.1-.9-2-2-2zM9 17H7v-7h2v7zm4 0h-2V7h2v10zm4 0h-2v-4h2v4z\"/>\n",
              "    </g>\n",
              "</svg>\n",
              "  </button>\n",
              "\n",
              "<style>\n",
              "  .colab-df-quickchart {\n",
              "      --bg-color: #E8F0FE;\n",
              "      --fill-color: #1967D2;\n",
              "      --hover-bg-color: #E2EBFA;\n",
              "      --hover-fill-color: #174EA6;\n",
              "      --disabled-fill-color: #AAA;\n",
              "      --disabled-bg-color: #DDD;\n",
              "  }\n",
              "\n",
              "  [theme=dark] .colab-df-quickchart {\n",
              "      --bg-color: #3B4455;\n",
              "      --fill-color: #D2E3FC;\n",
              "      --hover-bg-color: #434B5C;\n",
              "      --hover-fill-color: #FFFFFF;\n",
              "      --disabled-bg-color: #3B4455;\n",
              "      --disabled-fill-color: #666;\n",
              "  }\n",
              "\n",
              "  .colab-df-quickchart {\n",
              "    background-color: var(--bg-color);\n",
              "    border: none;\n",
              "    border-radius: 50%;\n",
              "    cursor: pointer;\n",
              "    display: none;\n",
              "    fill: var(--fill-color);\n",
              "    height: 32px;\n",
              "    padding: 0;\n",
              "    width: 32px;\n",
              "  }\n",
              "\n",
              "  .colab-df-quickchart:hover {\n",
              "    background-color: var(--hover-bg-color);\n",
              "    box-shadow: 0 1px 2px rgba(60, 64, 67, 0.3), 0 1px 3px 1px rgba(60, 64, 67, 0.15);\n",
              "    fill: var(--button-hover-fill-color);\n",
              "  }\n",
              "\n",
              "  .colab-df-quickchart-complete:disabled,\n",
              "  .colab-df-quickchart-complete:disabled:hover {\n",
              "    background-color: var(--disabled-bg-color);\n",
              "    fill: var(--disabled-fill-color);\n",
              "    box-shadow: none;\n",
              "  }\n",
              "\n",
              "  .colab-df-spinner {\n",
              "    border: 2px solid var(--fill-color);\n",
              "    border-color: transparent;\n",
              "    border-bottom-color: var(--fill-color);\n",
              "    animation:\n",
              "      spin 1s steps(1) infinite;\n",
              "  }\n",
              "\n",
              "  @keyframes spin {\n",
              "    0% {\n",
              "      border-color: transparent;\n",
              "      border-bottom-color: var(--fill-color);\n",
              "      border-left-color: var(--fill-color);\n",
              "    }\n",
              "    20% {\n",
              "      border-color: transparent;\n",
              "      border-left-color: var(--fill-color);\n",
              "      border-top-color: var(--fill-color);\n",
              "    }\n",
              "    30% {\n",
              "      border-color: transparent;\n",
              "      border-left-color: var(--fill-color);\n",
              "      border-top-color: var(--fill-color);\n",
              "      border-right-color: var(--fill-color);\n",
              "    }\n",
              "    40% {\n",
              "      border-color: transparent;\n",
              "      border-right-color: var(--fill-color);\n",
              "      border-top-color: var(--fill-color);\n",
              "    }\n",
              "    60% {\n",
              "      border-color: transparent;\n",
              "      border-right-color: var(--fill-color);\n",
              "    }\n",
              "    80% {\n",
              "      border-color: transparent;\n",
              "      border-right-color: var(--fill-color);\n",
              "      border-bottom-color: var(--fill-color);\n",
              "    }\n",
              "    90% {\n",
              "      border-color: transparent;\n",
              "      border-bottom-color: var(--fill-color);\n",
              "    }\n",
              "  }\n",
              "</style>\n",
              "\n",
              "  <script>\n",
              "    async function quickchart(key) {\n",
              "      const quickchartButtonEl =\n",
              "        document.querySelector('#' + key + ' button');\n",
              "      quickchartButtonEl.disabled = true;  // To prevent multiple clicks.\n",
              "      quickchartButtonEl.classList.add('colab-df-spinner');\n",
              "      try {\n",
              "        const charts = await google.colab.kernel.invokeFunction(\n",
              "            'suggestCharts', [key], {});\n",
              "      } catch (error) {\n",
              "        console.error('Error during call to suggestCharts:', error);\n",
              "      }\n",
              "      quickchartButtonEl.classList.remove('colab-df-spinner');\n",
              "      quickchartButtonEl.classList.add('colab-df-quickchart-complete');\n",
              "    }\n",
              "    (() => {\n",
              "      let quickchartButtonEl =\n",
              "        document.querySelector('#df-14a1cca9-5e9b-4efe-a4d0-26fc7531d7a7 button');\n",
              "      quickchartButtonEl.style.display =\n",
              "        google.colab.kernel.accessAllowed ? 'block' : 'none';\n",
              "    })();\n",
              "  </script>\n",
              "</div>\n",
              "\n",
              "    </div>\n",
              "  </div>\n"
            ],
            "application/vnd.google.colaboratory.intrinsic+json": {
              "type": "dataframe"
            }
          },
          "metadata": {},
          "execution_count": 47
        }
      ]
    },
    {
      "cell_type": "code",
      "source": [
        "ordinal_mapping = {\n",
        "    '0 mins': 1, '30 mins': 2, '1 hour': 3, '1 hour 30 mins': 4, '2 hours': 5, '2 hours 30 mins': 6, '3 hours': 7, 'More than 3 hours': 8,\n",
        "    'Less than 6 months': 1, '6 months to 1 year': 2, '1 to 2 years': 3, '2 to 5 years': 4, 'More than 5 years': 5,\n",
        "    'Less than 2 hours': 1, '2 to 5 hours': 2, 'More than 5 hours': 3,\n",
        "    'None': 1, '1 to 5 days': 2, 'More than 5 days': 3,\n",
        "    'Less than 15 minutes': 1, '15 to 30 minutes': 2, '30 minutes to 1 hour': 3, '1 to 2 hours': 4, '2 to 3 hours': 5, 'More than 3 hours': 6,\n",
        "    '':0\n",
        "}\n"
      ],
      "metadata": {
        "id": "kX0u2Zv_-t6r"
      },
      "execution_count": null,
      "outputs": []
    },
    {
      "cell_type": "code",
      "source": [
        "# Process ordinal columns\n",
        "for col in other_columns:\n",
        "    df_below_18[col] = df_below_18[col].map(ordinal_mapping)\n"
      ],
      "metadata": {
        "id": "8UujD3UP-x87"
      },
      "execution_count": null,
      "outputs": []
    },
    {
      "cell_type": "markdown",
      "source": [
        "###Split -sports engagement"
      ],
      "metadata": {
        "id": "ypfhq3nGwnNu"
      }
    },
    {
      "cell_type": "code",
      "source": [
        "# Separate the dataframe into two groups based on sports engagement\n",
        "b18_interested_in_sports = df_below_18[df_below_18[sports_engagement_column] == 'Yes']\n",
        "b18_not_interested_in_sports = df_below_18[df_below_18[sports_engagement_column] == 'No']\n"
      ],
      "metadata": {
        "id": "guWiXS9v9EKJ"
      },
      "execution_count": null,
      "outputs": []
    },
    {
      "cell_type": "code",
      "source": [
        "b18_interested_in_sports.shape"
      ],
      "metadata": {
        "colab": {
          "base_uri": "https://localhost:8080/"
        },
        "id": "UVnRm9q7Cu6X",
        "outputId": "b47e5329-6742-41d3-a883-eeb8e87bf05b"
      },
      "execution_count": null,
      "outputs": [
        {
          "output_type": "execute_result",
          "data": {
            "text/plain": [
              "(26, 17)"
            ]
          },
          "metadata": {},
          "execution_count": 51
        }
      ]
    },
    {
      "cell_type": "code",
      "source": [
        "b18_not_interested_in_sports.shape"
      ],
      "metadata": {
        "colab": {
          "base_uri": "https://localhost:8080/"
        },
        "id": "KVtd6LMTCwyh",
        "outputId": "86667e93-8690-42bc-eb29-b58cb817d8bc"
      },
      "execution_count": null,
      "outputs": [
        {
          "output_type": "execute_result",
          "data": {
            "text/plain": [
              "(6, 17)"
            ]
          },
          "metadata": {},
          "execution_count": 52
        }
      ]
    },
    {
      "cell_type": "markdown",
      "source": [
        "###T-Tests"
      ],
      "metadata": {
        "id": "Xjyf1d6ywtGk"
      }
    },
    {
      "cell_type": "code",
      "source": [
        "# Perform t-tests for academic performance\n",
        "for col in academic_columns_under_18:\n",
        "    t_statistic, p_value = ttest_ind(b18_interested_in_sports[col], b18_not_interested_in_sports[col])\n",
        "    print(f\"\\nT-test results for {col}:\")\n",
        "    print(f\"t-statistic: {t_statistic}, p-value: {p_value}\")\n"
      ],
      "metadata": {
        "colab": {
          "base_uri": "https://localhost:8080/"
        },
        "id": "0DrB7gS--Itq",
        "outputId": "8b5542ee-e7a7-4201-ab7f-e8059ff83a32"
      },
      "execution_count": null,
      "outputs": [
        {
          "output_type": "stream",
          "name": "stdout",
          "text": [
            "\n",
            "T-test results for Subject1Mark:\n",
            "t-statistic: -0.47048846727771215, p-value: 0.6414088555721107\n",
            "\n",
            "T-test results for Subject2Mark:\n",
            "t-statistic: -0.7114316336269803, p-value: 0.482312437231053\n",
            "\n",
            "T-test results for Subject3Mark:\n",
            "t-statistic: -0.53753813057464, p-value: 0.5948612420906452\n",
            "\n",
            "T-test results for Subject4Mark:\n",
            "t-statistic: -0.279442184375821, p-value: 0.7818230824566189\n",
            "\n",
            "T-test results for Subject5Mark:\n",
            "t-statistic: -0.24270969060208758, p-value: 0.8098820588517404\n"
          ]
        }
      ]
    },
    {
      "cell_type": "code",
      "source": [
        "# Perform t-test for BMI\n",
        "t_statistic_bmi, p_value_bmi = ttest_ind(b18_interested_in_sports[bmi_column].dropna(), b18_not_interested_in_sports[bmi_column].dropna())\n",
        "print(\"\\nT-test results for BMI:\")\n",
        "print(f\"t-statistic: {t_statistic_bmi}, p-value: {p_value_bmi}\")\n"
      ],
      "metadata": {
        "colab": {
          "base_uri": "https://localhost:8080/"
        },
        "id": "MgKPd3kg_Bfj",
        "outputId": "5f47c149-2e43-4730-b346-5f2972518e6b"
      },
      "execution_count": null,
      "outputs": [
        {
          "output_type": "stream",
          "name": "stdout",
          "text": [
            "\n",
            "T-test results for BMI:\n",
            "t-statistic: 0.682801205411248, p-value: 0.49997164384351833\n"
          ]
        }
      ]
    },
    {
      "cell_type": "code",
      "source": [
        "# Perform t-tests for other continuous variables\n",
        "for col in other_columns:\n",
        "    t_statistic, p_value = ttest_ind(b18_interested_in_sports[col].dropna(), b18_not_interested_in_sports[col].dropna())\n",
        "    print(f\"\\nT-test results for {col}:\")\n",
        "    print(f\"t-statistic: {t_statistic}, p-value: {p_value}\")\n"
      ],
      "metadata": {
        "colab": {
          "base_uri": "https://localhost:8080/"
        },
        "id": "GEZIJbW2-O4z",
        "outputId": "d6fd52e9-a9eb-480e-d99d-a39b9b266bd6"
      },
      "execution_count": null,
      "outputs": [
        {
          "output_type": "stream",
          "name": "stdout",
          "text": [
            "\n",
            "T-test results for TimeSpentPerDay:\n",
            "t-statistic: nan, p-value: nan\n",
            "\n",
            "T-test results for ActivelyParticipatingPeriod:\n",
            "t-statistic: nan, p-value: nan\n",
            "\n",
            "T-test results for DailyMobileUsage:\n",
            "t-statistic: -4.860555523805895, p-value: 3.453031601474864e-05\n",
            "\n",
            "T-test results for SickLeaveDays:\n",
            "t-statistic: 0.504377819619998, p-value: 0.6176805290277932\n",
            "\n",
            "T-test results for ContinuousReading:\n",
            "t-statistic: 0.06515583641446018, p-value: 0.9484821756473076\n"
          ]
        },
        {
          "output_type": "stream",
          "name": "stderr",
          "text": [
            "/usr/local/lib/python3.10/dist-packages/scipy/stats/_axis_nan_policy.py:523: RuntimeWarning: Precision loss occurred in moment calculation due to catastrophic cancellation. This occurs when the data are nearly identical. Results may be unreliable.\n",
            "  res = hypotest_fun_out(*samples, **kwds)\n"
          ]
        }
      ]
    },
    {
      "cell_type": "markdown",
      "source": [
        "###Chi Square"
      ],
      "metadata": {
        "id": "z1qYUYIdw4LV"
      }
    },
    {
      "cell_type": "code",
      "source": [
        "# Perform chi-squared tests for categorical variables\n",
        "for col in categorical_columns:\n",
        "    contingency_table = pd.crosstab(df_below_18[col], df_below_18[sports_engagement_column])\n",
        "    chi2_stat, p_value_cat_sports, _, _ = chi2_contingency(contingency_table)\n",
        "    print(f\"\\nChi-squared test results for {col} vs. Sports Engagement:\")\n",
        "    print(f\"Chi-squared statistic: {chi2_stat}, p-value: {p_value_cat_sports}\")\n"
      ],
      "metadata": {
        "colab": {
          "base_uri": "https://localhost:8080/"
        },
        "id": "mg3O4bZ0-Rmn",
        "outputId": "f7883dd5-4b76-44a4-e1cc-a38ff007d911"
      },
      "execution_count": null,
      "outputs": [
        {
          "output_type": "stream",
          "name": "stdout",
          "text": [
            "\n",
            "Chi-squared test results for Gender vs. Sports Engagement:\n",
            "Chi-squared statistic: 7.59500328731098, p-value: 0.005853028876222984\n",
            "\n",
            "Chi-squared test results for WearingSpecs vs. Sports Engagement:\n",
            "Chi-squared statistic: 1.0940170940170941, p-value: 0.29558286156035624\n",
            "\n",
            "Chi-squared test results for FeelingSleepy vs. Sports Engagement:\n",
            "Chi-squared statistic: 0.9600332191425309, p-value: 0.32717850839362317\n"
          ]
        }
      ]
    },
    {
      "cell_type": "markdown",
      "source": [
        "###Spearman Correlation"
      ],
      "metadata": {
        "id": "2TQolVwgw8fy"
      }
    },
    {
      "cell_type": "code",
      "source": [
        "# Calculate the correlation matrix for students under 18 - Sports interested students\n",
        "corr_matrix_under_18_interested = b18_interested_in_sports.corr(method='spearman')\n"
      ],
      "metadata": {
        "colab": {
          "base_uri": "https://localhost:8080/"
        },
        "id": "cEPVLJp2_hax",
        "outputId": "8a214f19-58af-432d-b447-f1697f2f3c9d"
      },
      "execution_count": null,
      "outputs": [
        {
          "output_type": "stream",
          "name": "stderr",
          "text": [
            "<ipython-input-57-0c1feaba92f7>:2: FutureWarning: The default value of numeric_only in DataFrame.corr is deprecated. In a future version, it will default to False. Select only valid columns or specify the value of numeric_only to silence this warning.\n",
            "  corr_matrix_under_18_interested = b18_interested_in_sports.corr(method='spearman')\n"
          ]
        }
      ]
    },
    {
      "cell_type": "code",
      "source": [
        "# Display the correlation matrices\n",
        "print(\"\\nCorrelation Matrix for Sports Engaged Students Under Age 18:\")\n",
        "print(corr_matrix_under_18_interested)\n"
      ],
      "metadata": {
        "colab": {
          "base_uri": "https://localhost:8080/"
        },
        "id": "Z3LHa0bY_gQe",
        "outputId": "1c46f2f6-89a4-4ac5-c872-bef3c2509bcf"
      },
      "execution_count": null,
      "outputs": [
        {
          "output_type": "stream",
          "name": "stdout",
          "text": [
            "\n",
            "Correlation Matrix for Sports Engaged Students Under Age 18:\n",
            "                             Subject1Mark  Subject2Mark  Subject3Mark  \\\n",
            "Subject1Mark                     1.000000      0.542808      0.515969   \n",
            "Subject2Mark                     0.542808      1.000000      0.340467   \n",
            "Subject3Mark                     0.515969      0.340467      1.000000   \n",
            "Subject4Mark                     0.526813      0.655565      0.446926   \n",
            "Subject5Mark                     0.462899      0.400453      0.609166   \n",
            "TimeSpentPerDay                 -0.327285     -0.254080     -0.185376   \n",
            "ActivelyParticipatingPeriod     -0.388140      0.070436     -0.464847   \n",
            "DailyMobileUsage                 0.228296      0.471750      0.182512   \n",
            "SickLeaveDays                   -0.375166     -0.233543      0.015841   \n",
            "ContinuousReading               -0.164880     -0.029718      0.077516   \n",
            "HospitalVisits                  -0.413786     -0.023431     -0.055042   \n",
            "bmi                             -0.297859      0.024101      0.049666   \n",
            "\n",
            "                             Subject4Mark  Subject5Mark  TimeSpentPerDay  \\\n",
            "Subject1Mark                     0.526813      0.462899        -0.327285   \n",
            "Subject2Mark                     0.655565      0.400453        -0.254080   \n",
            "Subject3Mark                     0.446926      0.609166        -0.185376   \n",
            "Subject4Mark                     1.000000      0.523883         0.014520   \n",
            "Subject5Mark                     0.523883      1.000000        -0.297977   \n",
            "TimeSpentPerDay                  0.014520     -0.297977         1.000000   \n",
            "ActivelyParticipatingPeriod     -0.158888     -0.389600         0.417913   \n",
            "DailyMobileUsage                 0.371924      0.365148        -0.201588   \n",
            "SickLeaveDays                   -0.190290      0.126773        -0.103426   \n",
            "ContinuousReading                0.049986     -0.044722         0.552310   \n",
            "HospitalVisits                  -0.172160     -0.132852         0.004442   \n",
            "bmi                              0.030173      0.101080        -0.058968   \n",
            "\n",
            "                             ActivelyParticipatingPeriod  DailyMobileUsage  \\\n",
            "Subject1Mark                                   -0.388140          0.228296   \n",
            "Subject2Mark                                    0.070436          0.471750   \n",
            "Subject3Mark                                   -0.464847          0.182512   \n",
            "Subject4Mark                                   -0.158888          0.371924   \n",
            "Subject5Mark                                   -0.389600          0.365148   \n",
            "TimeSpentPerDay                                 0.417913         -0.201588   \n",
            "ActivelyParticipatingPeriod                     1.000000          0.013444   \n",
            "DailyMobileUsage                                0.013444          1.000000   \n",
            "SickLeaveDays                                  -0.021782         -0.015430   \n",
            "ContinuousReading                               0.298750         -0.267079   \n",
            "HospitalVisits                                  0.077973          0.014882   \n",
            "bmi                                            -0.025433         -0.045542   \n",
            "\n",
            "                             SickLeaveDays  ContinuousReading  HospitalVisits  \\\n",
            "Subject1Mark                     -0.375166          -0.164880       -0.413786   \n",
            "Subject2Mark                     -0.233543          -0.029718       -0.023431   \n",
            "Subject3Mark                      0.015841           0.077516       -0.055042   \n",
            "Subject4Mark                     -0.190290           0.049986       -0.172160   \n",
            "Subject5Mark                      0.126773          -0.044722       -0.132852   \n",
            "TimeSpentPerDay                  -0.103426           0.552310        0.004442   \n",
            "ActivelyParticipatingPeriod      -0.021782           0.298750        0.077973   \n",
            "DailyMobileUsage                 -0.015430          -0.267079        0.014882   \n",
            "SickLeaveDays                     1.000000          -0.105406        0.289346   \n",
            "ContinuousReading                -0.105406           1.000000       -0.221846   \n",
            "HospitalVisits                    0.289346          -0.221846        1.000000   \n",
            "bmi                               0.252982           0.376055        0.045750   \n",
            "\n",
            "                                  bmi  \n",
            "Subject1Mark                -0.297859  \n",
            "Subject2Mark                 0.024101  \n",
            "Subject3Mark                 0.049666  \n",
            "Subject4Mark                 0.030173  \n",
            "Subject5Mark                 0.101080  \n",
            "TimeSpentPerDay             -0.058968  \n",
            "ActivelyParticipatingPeriod -0.025433  \n",
            "DailyMobileUsage            -0.045542  \n",
            "SickLeaveDays                0.252982  \n",
            "ContinuousReading            0.376055  \n",
            "HospitalVisits               0.045750  \n",
            "bmi                          1.000000  \n"
          ]
        }
      ]
    },
    {
      "cell_type": "code",
      "source": [
        "sns.heatmap(corr_matrix_under_18_interested, annot=True, cmap='coolwarm', linewidths=0.5)\n",
        "plt.title('Correlation Matrix for Sports Engaged Students Under Age 18')\n"
      ],
      "metadata": {
        "colab": {
          "base_uri": "https://localhost:8080/",
          "height": 642
        },
        "id": "4fo5wF3j-maG",
        "outputId": "57bc6b0c-68f2-41af-e2aa-f30f348b0808"
      },
      "execution_count": null,
      "outputs": [
        {
          "output_type": "execute_result",
          "data": {
            "text/plain": [
              "Text(0.5, 1.0, 'Correlation Matrix for Sports Engaged Students Under Age 18')"
            ]
          },
          "metadata": {},
          "execution_count": 59
        },
        {
          "output_type": "display_data",
          "data": {
            "text/plain": [
              "<Figure size 640x480 with 2 Axes>"
            ],
            "image/png": "[encoded data removed]"
          },
          "metadata": {}
        }
      ]
    },
    {
      "cell_type": "code",
      "source": [
        "b18_not_interested_in_sports_corr = ['Subject1Mark','Subject2Mark','Subject3Mark','Subject4Mark','Subject5Mark','SickLeaveDays','ContinuousReading','HospitalVisits','bmi']"
      ],
      "metadata": {
        "id": "O0jAOFVuGU-l"
      },
      "execution_count": null,
      "outputs": []
    },
    {
      "cell_type": "code",
      "source": [
        "# Calculate the correlation matrix for students under 18 - Sports not interested students\n",
        "corr_matrix_under_18_uninterested = b18_not_interested_in_sports[b18_not_interested_in_sports_corr].corr(method='spearman')\n"
      ],
      "metadata": {
        "id": "o2AElCMsAPT6"
      },
      "execution_count": null,
      "outputs": []
    },
    {
      "cell_type": "code",
      "source": [
        "# Display the correlation matrices\n",
        "print(\"\\nCorrelation Matrix for Sports Not Engaged Students Under Age 18:\")\n",
        "print(corr_matrix_under_18_uninterested)\n"
      ],
      "metadata": {
        "colab": {
          "base_uri": "https://localhost:8080/"
        },
        "id": "Wub-rJFPAPO7",
        "outputId": "fbad01f9-cb4a-49b4-8027-96ba5d1e7778"
      },
      "execution_count": null,
      "outputs": [
        {
          "output_type": "stream",
          "name": "stdout",
          "text": [
            "\n",
            "Correlation Matrix for Sports Not Engaged Students Under Age 18:\n",
            "                   Subject1Mark  Subject2Mark  Subject3Mark  Subject4Mark  \\\n",
            "Subject1Mark           1.000000      0.828571      1.000000      0.714286   \n",
            "Subject2Mark           0.828571      1.000000      0.828571      0.885714   \n",
            "Subject3Mark           1.000000      0.828571      1.000000      0.714286   \n",
            "Subject4Mark           0.714286      0.885714      0.714286      1.000000   \n",
            "Subject5Mark           0.942857      0.771429      0.942857      0.771429   \n",
            "SickLeaveDays         -0.097590     -0.292770     -0.097590     -0.292770   \n",
            "ContinuousReading      0.925820      0.802377      0.925820      0.678935   \n",
            "HospitalVisits         0.185164     -0.246885      0.185164     -0.123443   \n",
            "bmi                   -0.257143      0.085714     -0.257143      0.085714   \n",
            "\n",
            "                   Subject5Mark  SickLeaveDays  ContinuousReading  \\\n",
            "Subject1Mark           0.942857      -0.097590           0.925820   \n",
            "Subject2Mark           0.771429      -0.292770           0.802377   \n",
            "Subject3Mark           0.942857      -0.097590           0.925820   \n",
            "Subject4Mark           0.771429      -0.292770           0.678935   \n",
            "Subject5Mark           1.000000      -0.292770           0.925820   \n",
            "SickLeaveDays         -0.292770       1.000000          -0.210819   \n",
            "ContinuousReading      0.925820      -0.210819           1.000000   \n",
            "HospitalVisits         0.185164       0.210819          -0.100000   \n",
            "bmi                   -0.371429       0.487950          -0.154303   \n",
            "\n",
            "                   HospitalVisits       bmi  \n",
            "Subject1Mark             0.185164 -0.257143  \n",
            "Subject2Mark            -0.246885  0.085714  \n",
            "Subject3Mark             0.185164 -0.257143  \n",
            "Subject4Mark            -0.123443  0.085714  \n",
            "Subject5Mark             0.185164 -0.371429  \n",
            "SickLeaveDays            0.210819  0.487950  \n",
            "ContinuousReading       -0.100000 -0.154303  \n",
            "HospitalVisits           1.000000 -0.678935  \n",
            "bmi                     -0.678935  1.000000  \n"
          ]
        }
      ]
    },
    {
      "cell_type": "code",
      "source": [
        "sns.heatmap(corr_matrix_under_18_uninterested, annot=True, cmap='coolwarm', linewidths=0.5)\n",
        "plt.title('Correlation Matrix for Sports Not Engaged Students Under Age 18')\n"
      ],
      "metadata": {
        "colab": {
          "base_uri": "https://localhost:8080/",
          "height": 591
        },
        "id": "XZZM6RYZAPDf",
        "outputId": "6dc3790b-d863-47d8-892f-ae50b0743fa6"
      },
      "execution_count": null,
      "outputs": [
        {
          "output_type": "execute_result",
          "data": {
            "text/plain": [
              "Text(0.5, 1.0, 'Correlation Matrix for Sports Not Engaged Students Under Age 18')"
            ]
          },
          "metadata": {},
          "execution_count": 63
        },
        {
          "output_type": "display_data",
          "data": {
            "text/plain": [
              "<Figure size 640x480 with 2 Axes>"
            ],
            "image/png": "[encoded data removed]"
          },
          "metadata": {}
        }
      ]
    },
    {
      "cell_type": "markdown",
      "source": [
        "##Above 18"
      ],
      "metadata": {
        "id": "v2popFtlYw92"
      }
    },
    {
      "cell_type": "markdown",
      "source": [
        "###Dataset Preparation"
      ],
      "metadata": {
        "id": "_YVhu334xCjf"
      }
    },
    {
      "cell_type": "code",
      "source": [
        "academic_columns_above_18 = ['MathsMark10', 'TotalMarks10', 'MathsMark12', 'TotalMarks12', 'UGcgpa']\n",
        "other_columns = ['TimeSpentPerDay', 'ActivelyParticipatingPeriod', 'DailyMobileUsage', 'SickLeaveDays', 'ContinuousReading']\n",
        "categorical_columns = ['Gender', 'WearingSpecs', 'FeelingSleepy']\n",
        "sports_engagement_column = 'EngagedInSports'\n",
        "bmi_column = 'bmi'"
      ],
      "metadata": {
        "id": "G1fMWFRmZnGk"
      },
      "execution_count": null,
      "outputs": []
    },
    {
      "cell_type": "code",
      "source": [
        "df_above_18 = df[df['Age'] == 'Above 18'][academic_columns_above_18 + other_columns + categorical_columns + ['HospitalVisits','EngagedInSports','bmi','Pains']]"
      ],
      "metadata": {
        "id": "AHv0dU1CZnyc"
      },
      "execution_count": null,
      "outputs": []
    },
    {
      "cell_type": "code",
      "source": [
        "df_above_18.info()"
      ],
      "metadata": {
        "colab": {
          "base_uri": "https://localhost:8080/"
        },
        "id": "m4brAjQCZqkH",
        "outputId": "f2ae9334-293a-4eb6-c7b4-6a7f24484411"
      },
      "execution_count": null,
      "outputs": [
        {
          "output_type": "stream",
          "name": "stdout",
          "text": [
            "<class 'pandas.core.frame.DataFrame'>\n",
            "Int64Index: 193 entries, 32 to 224\n",
            "Data columns (total 17 columns):\n",
            " #   Column                       Non-Null Count  Dtype  \n",
            "---  ------                       --------------  -----  \n",
            " 0   MathsMark10                  193 non-null    float64\n",
            " 1   TotalMarks10                 193 non-null    float64\n",
            " 2   MathsMark12                  193 non-null    float64\n",
            " 3   TotalMarks12                 193 non-null    float64\n",
            " 4   UGcgpa                       193 non-null    float64\n",
            " 5   TimeSpentPerDay              75 non-null     object \n",
            " 6   ActivelyParticipatingPeriod  75 non-null     object \n",
            " 7   DailyMobileUsage             193 non-null    object \n",
            " 8   SickLeaveDays                193 non-null    object \n",
            " 9   ContinuousReading            193 non-null    object \n",
            " 10  Gender                       193 non-null    object \n",
            " 11  WearingSpecs                 193 non-null    object \n",
            " 12  FeelingSleepy                193 non-null    object \n",
            " 13  HospitalVisits               193 non-null    int64  \n",
            " 14  EngagedInSports              193 non-null    object \n",
            " 15  bmi                          193 non-null    float64\n",
            " 16  Pains                        193 non-null    object \n",
            "dtypes: float64(6), int64(1), object(10)\n",
            "memory usage: 27.1+ KB\n"
          ]
        }
      ]
    },
    {
      "cell_type": "code",
      "source": [
        "df_above_18.groupby('EngagedInSports').describe()"
      ],
      "metadata": {
        "colab": {
          "base_uri": "https://localhost:8080/",
          "height": 224
        },
        "id": "uKG3vASsZw9Y",
        "outputId": "7d7f08a1-5c29-4493-8694-f841ec8f3ef4"
      },
      "execution_count": null,
      "outputs": [
        {
          "output_type": "execute_result",
          "data": {
            "text/plain": [
              "                MathsMark10                                                 \\\n",
              "                      count       mean        std   min    25%   50%   75%   \n",
              "EngagedInSports                                                              \n",
              "No                    118.0  84.177966  13.748430  34.0  76.25  89.0  95.0   \n",
              "Yes                    75.0  79.186667  14.635844  40.0  70.00  81.0  91.0   \n",
              "\n",
              "                       TotalMarks10              ... HospitalVisits       \\\n",
              "                   max        count        mean  ...            75%  max   \n",
              "EngagedInSports                                  ...                       \n",
              "No                99.0        118.0  434.381356  ...            2.0  9.0   \n",
              "Yes              100.0         75.0  411.173333  ...            1.0  9.0   \n",
              "\n",
              "                   bmi                                                        \\\n",
              "                 count       mean       std        min        25%        50%   \n",
              "EngagedInSports                                                                \n",
              "No               118.0  22.430591  7.248186  13.296399  19.146219  21.321223   \n",
              "Yes               75.0  21.788684  3.780350  14.792899  19.019434  21.718066   \n",
              "\n",
              "                                       \n",
              "                       75%        max  \n",
              "EngagedInSports                        \n",
              "No               24.235345  88.888889  \n",
              "Yes              24.119370  32.871972  \n",
              "\n",
              "[2 rows x 56 columns]"
            ],
            "text/html": [
              "\n",
              "  <div id=\"df-a014eb9a-1e76-4554-a76e-ab09519135ec\" class=\"colab-df-container\">\n",
              "    <div>\n",
              "<style scoped>\n",
              "    .dataframe tbody tr th:only-of-type {\n",
              "        vertical-align: middle;\n",
              "    }\n",
              "\n",
              "    .dataframe tbody tr th {\n",
              "        vertical-align: top;\n",
              "    }\n",
              "\n",
              "    .dataframe thead tr th {\n",
              "        text-align: left;\n",
              "    }\n",
              "\n",
              "    .dataframe thead tr:last-of-type th {\n",
              "        text-align: right;\n",
              "    }\n",
              "</style>\n",
              "<table border=\"1\" class=\"dataframe\">\n",
              "  <thead>\n",
              "    <tr>\n",
              "      <th></th>\n",
              "      <th colspan=\"8\" halign=\"left\">MathsMark10</th>\n",
              "      <th colspan=\"2\" halign=\"left\">TotalMarks10</th>\n",
              "      <th>...</th>\n",
              "      <th colspan=\"2\" halign=\"left\">HospitalVisits</th>\n",
              "      <th colspan=\"8\" halign=\"left\">bmi</th>\n",
              "    </tr>\n",
              "    <tr>\n",
              "      <th></th>\n",
              "      <th>count</th>\n",
              "      <th>mean</th>\n",
              "      <th>std</th>\n",
              "      <th>min</th>\n",
              "      <th>25%</th>\n",
              "      <th>50%</th>\n",
              "      <th>75%</th>\n",
              "      <th>max</th>\n",
              "      <th>count</th>\n",
              "      <th>mean</th>\n",
              "      <th>...</th>\n",
              "      <th>75%</th>\n",
              "      <th>max</th>\n",
              "      <th>count</th>\n",
              "      <th>mean</th>\n",
              "      <th>std</th>\n",
              "      <th>min</th>\n",
              "      <th>25%</th>\n",
              "      <th>50%</th>\n",
              "      <th>75%</th>\n",
              "      <th>max</th>\n",
              "    </tr>\n",
              "    <tr>\n",
              "      <th>EngagedInSports</th>\n",
              "      <th></th>\n",
              "      <th></th>\n",
              "      <th></th>\n",
              "      <th></th>\n",
              "      <th></th>\n",
              "      <th></th>\n",
              "      <th></th>\n",
              "      <th></th>\n",
              "      <th></th>\n",
              "      <th></th>\n",
              "      <th></th>\n",
              "      <th></th>\n",
              "      <th></th>\n",
              "      <th></th>\n",
              "      <th></th>\n",
              "      <th></th>\n",
              "      <th></th>\n",
              "      <th></th>\n",
              "      <th></th>\n",
              "      <th></th>\n",
              "      <th></th>\n",
              "    </tr>\n",
              "  </thead>\n",
              "  <tbody>\n",
              "    <tr>\n",
              "      <th>No</th>\n",
              "      <td>118.0</td>\n",
              "      <td>84.177966</td>\n",
              "      <td>13.748430</td>\n",
              "      <td>34.0</td>\n",
              "      <td>76.25</td>\n",
              "      <td>89.0</td>\n",
              "      <td>95.0</td>\n",
              "      <td>99.0</td>\n",
              "      <td>118.0</td>\n",
              "      <td>434.381356</td>\n",
              "      <td>...</td>\n",
              "      <td>2.0</td>\n",
              "      <td>9.0</td>\n",
              "      <td>118.0</td>\n",
              "      <td>22.430591</td>\n",
              "      <td>7.248186</td>\n",
              "      <td>13.296399</td>\n",
              "      <td>19.146219</td>\n",
              "      <td>21.321223</td>\n",
              "      <td>24.235345</td>\n",
              "      <td>88.888889</td>\n",
              "    </tr>\n",
              "    <tr>\n",
              "      <th>Yes</th>\n",
              "      <td>75.0</td>\n",
              "      <td>79.186667</td>\n",
              "      <td>14.635844</td>\n",
              "      <td>40.0</td>\n",
              "      <td>70.00</td>\n",
              "      <td>81.0</td>\n",
              "      <td>91.0</td>\n",
              "      <td>100.0</td>\n",
              "      <td>75.0</td>\n",
              "      <td>411.173333</td>\n",
              "      <td>...</td>\n",
              "      <td>1.0</td>\n",
              "      <td>9.0</td>\n",
              "      <td>75.0</td>\n",
              "      <td>21.788684</td>\n",
              "      <td>3.780350</td>\n",
              "      <td>14.792899</td>\n",
              "      <td>19.019434</td>\n",
              "      <td>21.718066</td>\n",
              "      <td>24.119370</td>\n",
              "      <td>32.871972</td>\n",
              "    </tr>\n",
              "  </tbody>\n",
              "</table>\n",
              "<p>2 rows × 56 columns</p>\n",
              "</div>\n",
              "    <div class=\"colab-df-buttons\">\n",
              "\n",
              "  <div class=\"colab-df-container\">\n",
              "    <button class=\"colab-df-convert\" onclick=\"convertToInteractive('df-a014eb9a-1e76-4554-a76e-ab09519135ec')\"\n",
              "            title=\"Convert this dataframe to an interactive table.\"\n",
              "            style=\"display:none;\">\n",
              "\n",
              "  <svg xmlns=\"http://www.w3.org/2000/svg\" height=\"24px\" viewBox=\"0 -960 960 960\">\n",
              "    <path d=\"M120-120v-720h720v720H120Zm60-500h600v-160H180v160Zm220 220h160v-160H400v160Zm0 220h160v-160H400v160ZM180-400h160v-160H180v160Zm440 0h160v-160H620v160ZM180-180h160v-160H180v160Zm440 0h160v-160H620v160Z\"/>\n",
              "  </svg>\n",
              "    </button>\n",
              "\n",
              "  <style>\n",
              "    .colab-df-container {\n",
              "      display:flex;\n",
              "      gap: 12px;\n",
              "    }\n",
              "\n",
              "    .colab-df-convert {\n",
              "      background-color: #E8F0FE;\n",
              "      border: none;\n",
              "      border-radius: 50%;\n",
              "      cursor: pointer;\n",
              "      display: none;\n",
              "      fill: #1967D2;\n",
              "      height: 32px;\n",
              "      padding: 0 0 0 0;\n",
              "      width: 32px;\n",
              "    }\n",
              "\n",
              "    .colab-df-convert:hover {\n",
              "      background-color: #E2EBFA;\n",
              "      box-shadow: 0px 1px 2px rgba(60, 64, 67, 0.3), 0px 1px 3px 1px rgba(60, 64, 67, 0.15);\n",
              "      fill: #174EA6;\n",
              "    }\n",
              "\n",
              "    .colab-df-buttons div {\n",
              "      margin-bottom: 4px;\n",
              "    }\n",
              "\n",
              "    [theme=dark] .colab-df-convert {\n",
              "      background-color: #3B4455;\n",
              "      fill: #D2E3FC;\n",
              "    }\n",
              "\n",
              "    [theme=dark] .colab-df-convert:hover {\n",
              "      background-color: #434B5C;\n",
              "      box-shadow: 0px 1px 3px 1px rgba(0, 0, 0, 0.15);\n",
              "      filter: drop-shadow(0px 1px 2px rgba(0, 0, 0, 0.3));\n",
              "      fill: #FFFFFF;\n",
              "    }\n",
              "  </style>\n",
              "\n",
              "    <script>\n",
              "      const buttonEl =\n",
              "        document.querySelector('#df-a014eb9a-1e76-4554-a76e-ab09519135ec button.colab-df-convert');\n",
              "      buttonEl.style.display =\n",
              "        google.colab.kernel.accessAllowed ? 'block' : 'none';\n",
              "\n",
              "      async function convertToInteractive(key) {\n",
              "        const element = document.querySelector('#df-a014eb9a-1e76-4554-a76e-ab09519135ec');\n",
              "        const dataTable =\n",
              "          await google.colab.kernel.invokeFunction('convertToInteractive',\n",
              "                                                    [key], {});\n",
              "        if (!dataTable) return;\n",
              "\n",
              "        const docLinkHtml = 'Like what you see? Visit the ' +\n",
              "          '<a target=\"_blank\" href=https://colab.research.google.com/notebooks/data_table.ipynb>data table notebook</a>'\n",
              "          + ' to learn more about interactive tables.';\n",
              "        element.innerHTML = '';\n",
              "        dataTable['output_type'] = 'display_data';\n",
              "        await google.colab.output.renderOutput(dataTable, element);\n",
              "        const docLink = document.createElement('div');\n",
              "        docLink.innerHTML = docLinkHtml;\n",
              "        element.appendChild(docLink);\n",
              "      }\n",
              "    </script>\n",
              "  </div>\n",
              "\n",
              "\n",
              "<div id=\"df-68499b2b-77df-4298-bf7f-ba41192b8655\">\n",
              "  <button class=\"colab-df-quickchart\" onclick=\"quickchart('df-68499b2b-77df-4298-bf7f-ba41192b8655')\"\n",
              "            title=\"Suggest charts\"\n",
              "            style=\"display:none;\">\n",
              "\n",
              "<svg xmlns=\"http://www.w3.org/2000/svg\" height=\"24px\"viewBox=\"0 0 24 24\"\n",
              "     width=\"24px\">\n",
              "    <g>\n",
              "        <path d=\"M19 3H5c-1.1 0-2 .9-2 2v14c0 1.1.9 2 2 2h14c1.1 0 2-.9 2-2V5c0-1.1-.9-2-2-2zM9 17H7v-7h2v7zm4 0h-2V7h2v10zm4 0h-2v-4h2v4z\"/>\n",
              "    </g>\n",
              "</svg>\n",
              "  </button>\n",
              "\n",
              "<style>\n",
              "  .colab-df-quickchart {\n",
              "      --bg-color: #E8F0FE;\n",
              "      --fill-color: #1967D2;\n",
              "      --hover-bg-color: #E2EBFA;\n",
              "      --hover-fill-color: #174EA6;\n",
              "      --disabled-fill-color: #AAA;\n",
              "      --disabled-bg-color: #DDD;\n",
              "  }\n",
              "\n",
              "  [theme=dark] .colab-df-quickchart {\n",
              "      --bg-color: #3B4455;\n",
              "      --fill-color: #D2E3FC;\n",
              "      --hover-bg-color: #434B5C;\n",
              "      --hover-fill-color: #FFFFFF;\n",
              "      --disabled-bg-color: #3B4455;\n",
              "      --disabled-fill-color: #666;\n",
              "  }\n",
              "\n",
              "  .colab-df-quickchart {\n",
              "    background-color: var(--bg-color);\n",
              "    border: none;\n",
              "    border-radius: 50%;\n",
              "    cursor: pointer;\n",
              "    display: none;\n",
              "    fill: var(--fill-color);\n",
              "    height: 32px;\n",
              "    padding: 0;\n",
              "    width: 32px;\n",
              "  }\n",
              "\n",
              "  .colab-df-quickchart:hover {\n",
              "    background-color: var(--hover-bg-color);\n",
              "    box-shadow: 0 1px 2px rgba(60, 64, 67, 0.3), 0 1px 3px 1px rgba(60, 64, 67, 0.15);\n",
              "    fill: var(--button-hover-fill-color);\n",
              "  }\n",
              "\n",
              "  .colab-df-quickchart-complete:disabled,\n",
              "  .colab-df-quickchart-complete:disabled:hover {\n",
              "    background-color: var(--disabled-bg-color);\n",
              "    fill: var(--disabled-fill-color);\n",
              "    box-shadow: none;\n",
              "  }\n",
              "\n",
              "  .colab-df-spinner {\n",
              "    border: 2px solid var(--fill-color);\n",
              "    border-color: transparent;\n",
              "    border-bottom-color: var(--fill-color);\n",
              "    animation:\n",
              "      spin 1s steps(1) infinite;\n",
              "  }\n",
              "\n",
              "  @keyframes spin {\n",
              "    0% {\n",
              "      border-color: transparent;\n",
              "      border-bottom-color: var(--fill-color);\n",
              "      border-left-color: var(--fill-color);\n",
              "    }\n",
              "    20% {\n",
              "      border-color: transparent;\n",
              "      border-left-color: var(--fill-color);\n",
              "      border-top-color: var(--fill-color);\n",
              "    }\n",
              "    30% {\n",
              "      border-color: transparent;\n",
              "      border-left-color: var(--fill-color);\n",
              "      border-top-color: var(--fill-color);\n",
              "      border-right-color: var(--fill-color);\n",
              "    }\n",
              "    40% {\n",
              "      border-color: transparent;\n",
              "      border-right-color: var(--fill-color);\n",
              "      border-top-color: var(--fill-color);\n",
              "    }\n",
              "    60% {\n",
              "      border-color: transparent;\n",
              "      border-right-color: var(--fill-color);\n",
              "    }\n",
              "    80% {\n",
              "      border-color: transparent;\n",
              "      border-right-color: var(--fill-color);\n",
              "      border-bottom-color: var(--fill-color);\n",
              "    }\n",
              "    90% {\n",
              "      border-color: transparent;\n",
              "      border-bottom-color: var(--fill-color);\n",
              "    }\n",
              "  }\n",
              "</style>\n",
              "\n",
              "  <script>\n",
              "    async function quickchart(key) {\n",
              "      const quickchartButtonEl =\n",
              "        document.querySelector('#' + key + ' button');\n",
              "      quickchartButtonEl.disabled = true;  // To prevent multiple clicks.\n",
              "      quickchartButtonEl.classList.add('colab-df-spinner');\n",
              "      try {\n",
              "        const charts = await google.colab.kernel.invokeFunction(\n",
              "            'suggestCharts', [key], {});\n",
              "      } catch (error) {\n",
              "        console.error('Error during call to suggestCharts:', error);\n",
              "      }\n",
              "      quickchartButtonEl.classList.remove('colab-df-spinner');\n",
              "      quickchartButtonEl.classList.add('colab-df-quickchart-complete');\n",
              "    }\n",
              "    (() => {\n",
              "      let quickchartButtonEl =\n",
              "        document.querySelector('#df-68499b2b-77df-4298-bf7f-ba41192b8655 button');\n",
              "      quickchartButtonEl.style.display =\n",
              "        google.colab.kernel.accessAllowed ? 'block' : 'none';\n",
              "    })();\n",
              "  </script>\n",
              "</div>\n",
              "\n",
              "    </div>\n",
              "  </div>\n"
            ],
            "application/vnd.google.colaboratory.intrinsic+json": {
              "type": "dataframe"
            }
          },
          "metadata": {},
          "execution_count": 67
        }
      ]
    },
    {
      "cell_type": "code",
      "source": [
        "ordinal_mapping = {\n",
        "    '0 mins': 1, '30 mins': 2, '1 hour': 3, '1 hour 30 mins': 4, '2 hours': 5, '2 hours 30 mins': 6, '3 hours': 7, 'More than 3 hours': 8,\n",
        "    'Less than 6 months': 1, '6 months to 1 year': 2, '1 to 2 years': 3, '2 to 5 years': 4, 'More than 5 years': 5,\n",
        "    'Less than 2 hours': 1, '2 to 5 hours': 2, 'More than 5 hours': 3,\n",
        "    'None': 1, '1 to 5 days': 2, 'More than 5 days': 3,\n",
        "    'Less than 15 minutes': 1, '15 to 30 minutes': 2, '30 minutes to 1 hour': 3, '1 to 2 hours': 4, '2 to 3 hours': 5, 'More than 3 hours': 6\n",
        "}"
      ],
      "metadata": {
        "id": "AHju_oogZy5x"
      },
      "execution_count": null,
      "outputs": []
    },
    {
      "cell_type": "code",
      "source": [
        "# Process ordinal columns\n",
        "for col in other_columns:\n",
        "    df_above_18[col] = df_above_18[col].map(ordinal_mapping)\n"
      ],
      "metadata": {
        "id": "mYczU8jFZ1Ow"
      },
      "execution_count": null,
      "outputs": []
    },
    {
      "cell_type": "markdown",
      "source": [
        "###Split - Sports engagement"
      ],
      "metadata": {
        "id": "MgZiWP6wxIga"
      }
    },
    {
      "cell_type": "code",
      "source": [
        "# Separate the dataframe into two groups based on sports engagement\n",
        "a18_interested_in_sports = df_above_18[df_above_18[sports_engagement_column] == 'Yes']\n",
        "a18_not_interested_in_sports = df_above_18[df_above_18[sports_engagement_column] == 'No']"
      ],
      "metadata": {
        "id": "6_lDlFtJZ39K"
      },
      "execution_count": null,
      "outputs": []
    },
    {
      "cell_type": "code",
      "source": [
        "a18_interested_in_sports.shape"
      ],
      "metadata": {
        "id": "S1pmAZudZ5pc",
        "colab": {
          "base_uri": "https://localhost:8080/"
        },
        "outputId": "9ceafa6e-b9dc-4c48-f559-01b33ed2f769"
      },
      "execution_count": null,
      "outputs": [
        {
          "output_type": "execute_result",
          "data": {
            "text/plain": [
              "(75, 17)"
            ]
          },
          "metadata": {},
          "execution_count": 71
        }
      ]
    },
    {
      "cell_type": "code",
      "source": [
        "a18_not_interested_in_sports.shape"
      ],
      "metadata": {
        "id": "YYi3jn6vZ7nd",
        "colab": {
          "base_uri": "https://localhost:8080/"
        },
        "outputId": "e1bb16b1-2b9e-4f3e-ae2f-e96a92addd9a"
      },
      "execution_count": null,
      "outputs": [
        {
          "output_type": "execute_result",
          "data": {
            "text/plain": [
              "(118, 17)"
            ]
          },
          "metadata": {},
          "execution_count": 72
        }
      ]
    },
    {
      "cell_type": "markdown",
      "source": [
        "###T Tests"
      ],
      "metadata": {
        "id": "qMEweqDzxMA1"
      }
    },
    {
      "cell_type": "code",
      "source": [
        "# Perform t-tests for academic performance\n",
        "for col in academic_columns_above_18:\n",
        "    t_statistic, p_value = ttest_ind(a18_interested_in_sports[col], a18_not_interested_in_sports[col])\n",
        "    print(f\"\\nT-test results for {col}:\")\n",
        "    print(f\"t-statistic: {t_statistic}, p-value: {p_value}\")"
      ],
      "metadata": {
        "id": "bh8Rs-Y4Z_Nw",
        "colab": {
          "base_uri": "https://localhost:8080/"
        },
        "outputId": "7993666d-14f7-4e1c-fcd4-250961bf7707"
      },
      "execution_count": null,
      "outputs": [
        {
          "output_type": "stream",
          "name": "stdout",
          "text": [
            "\n",
            "T-test results for MathsMark10:\n",
            "t-statistic: -2.3972987185994117, p-value: 0.017480189376974695\n",
            "\n",
            "T-test results for TotalMarks10:\n",
            "t-statistic: -3.0709279532418106, p-value: 0.0024451327473431336\n",
            "\n",
            "T-test results for MathsMark12:\n",
            "t-statistic: -2.687782807149494, p-value: 0.007827919487157995\n",
            "\n",
            "T-test results for TotalMarks12:\n",
            "t-statistic: -3.974466732640334, p-value: 9.994833114884061e-05\n",
            "\n",
            "T-test results for UGcgpa:\n",
            "t-statistic: -1.5147675883160432, p-value: 0.13148437349522976\n"
          ]
        }
      ]
    },
    {
      "cell_type": "code",
      "source": [
        "# Perform t-test for BMI\n",
        "t_statistic_bmi, p_value_bmi = ttest_ind(a18_interested_in_sports[bmi_column].dropna(), a18_not_interested_in_sports[bmi_column].dropna())\n",
        "print(\"\\nT-test results for BMI:\")\n",
        "print(f\"t-statistic: {t_statistic_bmi}, p-value: {p_value_bmi}\")"
      ],
      "metadata": {
        "id": "KNfo6px3Z__t",
        "colab": {
          "base_uri": "https://localhost:8080/"
        },
        "outputId": "e81cb26f-cc45-4dc8-c8ed-40507ceef429"
      },
      "execution_count": null,
      "outputs": [
        {
          "output_type": "stream",
          "name": "stdout",
          "text": [
            "\n",
            "T-test results for BMI:\n",
            "t-statistic: -0.7077610352302902, p-value: 0.4799564114102228\n"
          ]
        }
      ]
    },
    {
      "cell_type": "code",
      "source": [
        "# Perform t-tests for other continuous variables\n",
        "for col in other_columns:\n",
        "    t_statistic, p_value = ttest_ind(a18_interested_in_sports[col].dropna(), a18_not_interested_in_sports[col].dropna())\n",
        "    print(f\"\\nT-test results for {col}:\")\n",
        "    print(f\"t-statistic: {t_statistic}, p-value: {p_value}\")"
      ],
      "metadata": {
        "id": "UdYH6A5CaCW4",
        "colab": {
          "base_uri": "https://localhost:8080/"
        },
        "outputId": "940b8284-d2d7-4191-d5d2-209d60391d14"
      },
      "execution_count": null,
      "outputs": [
        {
          "output_type": "stream",
          "name": "stdout",
          "text": [
            "\n",
            "T-test results for TimeSpentPerDay:\n",
            "t-statistic: nan, p-value: nan\n",
            "\n",
            "T-test results for ActivelyParticipatingPeriod:\n",
            "t-statistic: nan, p-value: nan\n",
            "\n",
            "T-test results for DailyMobileUsage:\n",
            "t-statistic: -3.0936344569701695, p-value: 0.0022738462915273807\n",
            "\n",
            "T-test results for SickLeaveDays:\n",
            "t-statistic: -0.4302762434389826, p-value: 0.6674849312411687\n",
            "\n",
            "T-test results for ContinuousReading:\n",
            "t-statistic: 0.20526244300825303, p-value: 0.8375856779483984\n"
          ]
        }
      ]
    },
    {
      "cell_type": "markdown",
      "source": [
        "###Chi Square"
      ],
      "metadata": {
        "id": "l3TuKt_dxO88"
      }
    },
    {
      "cell_type": "code",
      "source": [
        "# Perform chi-squared tests for categorical variables\n",
        "for col in categorical_columns:\n",
        "    contingency_table = pd.crosstab(df_above_18[col], df_above_18[sports_engagement_column])\n",
        "    chi2_stat, p_value_cat_sports, _, _ = chi2_contingency(contingency_table)\n",
        "    print(f\"\\nChi-squared test results for {col} vs. Sports Engagement:\")\n",
        "    print(f\"Chi-squared statistic: {chi2_stat}, p-value: {p_value_cat_sports}\")\n"
      ],
      "metadata": {
        "id": "4CJnJw7ZaGAU",
        "colab": {
          "base_uri": "https://localhost:8080/"
        },
        "outputId": "050429df-4547-40a4-defd-a480085e6ef8"
      },
      "execution_count": null,
      "outputs": [
        {
          "output_type": "stream",
          "name": "stdout",
          "text": [
            "\n",
            "Chi-squared test results for Gender vs. Sports Engagement:\n",
            "Chi-squared statistic: 1.8915713995550207, p-value: 0.16902478980387597\n",
            "\n",
            "Chi-squared test results for WearingSpecs vs. Sports Engagement:\n",
            "Chi-squared statistic: 0.29697230882603065, p-value: 0.585786766586653\n",
            "\n",
            "Chi-squared test results for FeelingSleepy vs. Sports Engagement:\n",
            "Chi-squared statistic: 0.18479733622936145, p-value: 0.6672824931742665\n"
          ]
        }
      ]
    },
    {
      "cell_type": "markdown",
      "source": [
        "###Spearman Correlation"
      ],
      "metadata": {
        "id": "GS14i8TAxRZG"
      }
    },
    {
      "cell_type": "code",
      "source": [
        "# Calculate the correlation matrix for students under 18 - Sports interested students\n",
        "corr_matrix_above_18_interested = a18_interested_in_sports.corr(method='spearman')\n"
      ],
      "metadata": {
        "id": "2haVAg_vaIFX",
        "colab": {
          "base_uri": "https://localhost:8080/"
        },
        "outputId": "b5306abc-46bf-4bd8-fce5-f44906a30e8f"
      },
      "execution_count": null,
      "outputs": [
        {
          "output_type": "stream",
          "name": "stderr",
          "text": [
            "<ipython-input-77-4755245f6662>:2: FutureWarning: The default value of numeric_only in DataFrame.corr is deprecated. In a future version, it will default to False. Select only valid columns or specify the value of numeric_only to silence this warning.\n",
            "  corr_matrix_above_18_interested = a18_interested_in_sports.corr(method='spearman')\n"
          ]
        }
      ]
    },
    {
      "cell_type": "code",
      "source": [
        "# Display the correlation matrices\n",
        "print(\"\\nCorrelation Matrix for Sports Engaged Students Above Age 18:\")\n",
        "print(corr_matrix_above_18_interested)\n"
      ],
      "metadata": {
        "id": "P8FHuTwnaKly",
        "colab": {
          "base_uri": "https://localhost:8080/"
        },
        "outputId": "add39367-e591-41ae-912c-2f4fa1576e7a"
      },
      "execution_count": null,
      "outputs": [
        {
          "output_type": "stream",
          "name": "stdout",
          "text": [
            "\n",
            "Correlation Matrix for Sports Engaged Students Above Age 18:\n",
            "                             MathsMark10  TotalMarks10  MathsMark12  \\\n",
            "MathsMark10                     1.000000      0.879733     0.501649   \n",
            "TotalMarks10                    0.879733      1.000000     0.469297   \n",
            "MathsMark12                     0.501649      0.469297     1.000000   \n",
            "TotalMarks12                    0.423353      0.411171     0.741818   \n",
            "UGcgpa                          0.476798      0.535347     0.410902   \n",
            "TimeSpentPerDay                -0.212773     -0.188625    -0.408027   \n",
            "ActivelyParticipatingPeriod    -0.064972     -0.024106    -0.302714   \n",
            "DailyMobileUsage                0.148052      0.200820     0.120339   \n",
            "SickLeaveDays                  -0.130335     -0.135844    -0.073522   \n",
            "ContinuousReading              -0.081825     -0.109689    -0.034925   \n",
            "HospitalVisits                  0.129747      0.069483     0.186181   \n",
            "bmi                            -0.151621     -0.096779    -0.118199   \n",
            "\n",
            "                             TotalMarks12    UGcgpa  TimeSpentPerDay  \\\n",
            "MathsMark10                      0.423353  0.476798        -0.212773   \n",
            "TotalMarks10                     0.411171  0.535347        -0.188625   \n",
            "MathsMark12                      0.741818  0.410902        -0.408027   \n",
            "TotalMarks12                     1.000000  0.297486        -0.336684   \n",
            "UGcgpa                           0.297486  1.000000        -0.219526   \n",
            "TimeSpentPerDay                 -0.336684 -0.219526         1.000000   \n",
            "ActivelyParticipatingPeriod     -0.237941 -0.174282         0.451074   \n",
            "DailyMobileUsage                 0.073742  0.209691        -0.227055   \n",
            "SickLeaveDays                    0.051855  0.081581         0.010073   \n",
            "ContinuousReading                0.068045 -0.070301         0.166597   \n",
            "HospitalVisits                   0.126740  0.034996        -0.061864   \n",
            "bmi                             -0.105334 -0.028231        -0.065971   \n",
            "\n",
            "                             ActivelyParticipatingPeriod  DailyMobileUsage  \\\n",
            "MathsMark10                                    -0.064972          0.148052   \n",
            "TotalMarks10                                   -0.024106          0.200820   \n",
            "MathsMark12                                    -0.302714          0.120339   \n",
            "TotalMarks12                                   -0.237941          0.073742   \n",
            "UGcgpa                                         -0.174282          0.209691   \n",
            "TimeSpentPerDay                                 0.451074         -0.227055   \n",
            "ActivelyParticipatingPeriod                     1.000000         -0.149969   \n",
            "DailyMobileUsage                               -0.149969          1.000000   \n",
            "SickLeaveDays                                  -0.071260         -0.227661   \n",
            "ContinuousReading                               0.254788         -0.237163   \n",
            "HospitalVisits                                 -0.130055          0.043342   \n",
            "bmi                                            -0.141738          0.330154   \n",
            "\n",
            "                             SickLeaveDays  ContinuousReading  HospitalVisits  \\\n",
            "MathsMark10                      -0.130335          -0.081825        0.129747   \n",
            "TotalMarks10                     -0.135844          -0.109689        0.069483   \n",
            "MathsMark12                      -0.073522          -0.034925        0.186181   \n",
            "TotalMarks12                      0.051855           0.068045        0.126740   \n",
            "UGcgpa                            0.081581          -0.070301        0.034996   \n",
            "TimeSpentPerDay                   0.010073           0.166597       -0.061864   \n",
            "ActivelyParticipatingPeriod      -0.071260           0.254788       -0.130055   \n",
            "DailyMobileUsage                 -0.227661          -0.237163        0.043342   \n",
            "SickLeaveDays                     1.000000           0.026222        0.237743   \n",
            "ContinuousReading                 0.026222           1.000000       -0.020393   \n",
            "HospitalVisits                    0.237743          -0.020393        1.000000   \n",
            "bmi                              -0.109261          -0.154750       -0.004035   \n",
            "\n",
            "                                  bmi  \n",
            "MathsMark10                 -0.151621  \n",
            "TotalMarks10                -0.096779  \n",
            "MathsMark12                 -0.118199  \n",
            "TotalMarks12                -0.105334  \n",
            "UGcgpa                      -0.028231  \n",
            "TimeSpentPerDay             -0.065971  \n",
            "ActivelyParticipatingPeriod -0.141738  \n",
            "DailyMobileUsage             0.330154  \n",
            "SickLeaveDays               -0.109261  \n",
            "ContinuousReading           -0.154750  \n",
            "HospitalVisits              -0.004035  \n",
            "bmi                          1.000000  \n"
          ]
        }
      ]
    },
    {
      "cell_type": "code",
      "source": [
        "sns.heatmap(corr_matrix_above_18_interested, annot=True, cmap='coolwarm', linewidths=0.5)\n",
        "plt.title('Correlation Matrix for Sports Engaged Students Above Age 18')\n"
      ],
      "metadata": {
        "id": "04M596TJaMMg",
        "colab": {
          "base_uri": "https://localhost:8080/",
          "height": 642
        },
        "outputId": "588ae7fc-2a11-42c6-ead0-70ddb5801341"
      },
      "execution_count": null,
      "outputs": [
        {
          "output_type": "execute_result",
          "data": {
            "text/plain": [
              "Text(0.5, 1.0, 'Correlation Matrix for Sports Engaged Students Above Age 18')"
            ]
          },
          "metadata": {},
          "execution_count": 79
        },
        {
          "output_type": "display_data",
          "data": {
            "text/plain": [
              "<Figure size 640x480 with 2 Axes>"
            ],
            "image/png": "[encoded data removed]"
          },
          "metadata": {}
        }
      ]
    },
    {
      "cell_type": "code",
      "source": [
        "a18_not_interested_in_sports_corr = ['MathsMark10', 'TotalMarks10', 'MathsMark12', 'TotalMarks12', 'UGcgpa','SickLeaveDays','ContinuousReading','HospitalVisits','bmi']\n"
      ],
      "metadata": {
        "id": "NTC7TmDtaN7A"
      },
      "execution_count": null,
      "outputs": []
    },
    {
      "cell_type": "code",
      "source": [
        "# Calculate the correlation matrix for students under 18 - Sports not interested students\n",
        "corr_matrix_above_18_uninterested = a18_not_interested_in_sports[a18_not_interested_in_sports_corr].corr(method='spearman')\n"
      ],
      "metadata": {
        "id": "LRq7mrSmaQzV"
      },
      "execution_count": null,
      "outputs": []
    },
    {
      "cell_type": "code",
      "source": [
        "# Display the correlation matrices\n",
        "print(\"\\nCorrelation Matrix for Sports Not Engaged Students Above Age 18:\")\n",
        "print(corr_matrix_above_18_uninterested)\n"
      ],
      "metadata": {
        "id": "gUCuSK6DaUI7",
        "colab": {
          "base_uri": "https://localhost:8080/"
        },
        "outputId": "0b1d1019-915d-41e3-907d-7aefc08a9d67"
      },
      "execution_count": null,
      "outputs": [
        {
          "output_type": "stream",
          "name": "stdout",
          "text": [
            "\n",
            "Correlation Matrix for Sports Not Engaged Students Above Age 18:\n",
            "                   MathsMark10  TotalMarks10  MathsMark12  TotalMarks12  \\\n",
            "MathsMark10           1.000000      0.865716     0.598545      0.611121   \n",
            "TotalMarks10          0.865716      1.000000     0.613925      0.672762   \n",
            "MathsMark12           0.598545      0.613925     1.000000      0.778065   \n",
            "TotalMarks12          0.611121      0.672762     0.778065      1.000000   \n",
            "UGcgpa                0.512946      0.491213     0.470701      0.390954   \n",
            "SickLeaveDays        -0.013788     -0.118138    -0.130725     -0.072312   \n",
            "ContinuousReading     0.175713      0.136756     0.078957      0.064639   \n",
            "HospitalVisits        0.144417      0.110191     0.106698      0.169851   \n",
            "bmi                  -0.382019     -0.387449    -0.230872     -0.239948   \n",
            "\n",
            "                     UGcgpa  SickLeaveDays  ContinuousReading  HospitalVisits  \\\n",
            "MathsMark10        0.512946      -0.013788           0.175713        0.144417   \n",
            "TotalMarks10       0.491213      -0.118138           0.136756        0.110191   \n",
            "MathsMark12        0.470701      -0.130725           0.078957        0.106698   \n",
            "TotalMarks12       0.390954      -0.072312           0.064639        0.169851   \n",
            "UGcgpa             1.000000      -0.035097           0.119275        0.069034   \n",
            "SickLeaveDays     -0.035097       1.000000          -0.020475        0.294230   \n",
            "ContinuousReading  0.119275      -0.020475           1.000000        0.080738   \n",
            "HospitalVisits     0.069034       0.294230           0.080738        1.000000   \n",
            "bmi               -0.302720      -0.100035           0.017230       -0.115534   \n",
            "\n",
            "                        bmi  \n",
            "MathsMark10       -0.382019  \n",
            "TotalMarks10      -0.387449  \n",
            "MathsMark12       -0.230872  \n",
            "TotalMarks12      -0.239948  \n",
            "UGcgpa            -0.302720  \n",
            "SickLeaveDays     -0.100035  \n",
            "ContinuousReading  0.017230  \n",
            "HospitalVisits    -0.115534  \n",
            "bmi                1.000000  \n"
          ]
        }
      ]
    },
    {
      "cell_type": "code",
      "source": [
        "sns.heatmap(corr_matrix_above_18_uninterested, annot=True, cmap='coolwarm', linewidths=0.5)\n",
        "plt.title('Correlation Matrix for Sports Not Engaged Students Above Age 18')"
      ],
      "metadata": {
        "id": "61L_sXxFaXL5",
        "colab": {
          "base_uri": "https://localhost:8080/",
          "height": 591
        },
        "outputId": "c24bc693-4344-404a-e1e3-fe9039bcbf52"
      },
      "execution_count": null,
      "outputs": [
        {
          "output_type": "execute_result",
          "data": {
            "text/plain": [
              "Text(0.5, 1.0, 'Correlation Matrix for Sports Not Engaged Students Above Age 18')"
            ]
          },
          "metadata": {},
          "execution_count": 83
        },
        {
          "output_type": "display_data",
          "data": {
            "text/plain": [
              "<Figure size 640x480 with 2 Axes>"
            ],
            "image/png": "[encoded data removed]"
          },
          "metadata": {}
        }
      ]
    },
    {
      "cell_type": "markdown",
      "source": [
        "#Graph"
      ],
      "metadata": {
        "id": "wKvf4wQDCwds"
      }
    },
    {
      "cell_type": "code",
      "source": [
        "import matplotlib.pyplot as plt\n",
        "import seaborn as sns"
      ],
      "metadata": {
        "id": "8miJVyYpC3ff"
      },
      "execution_count": null,
      "outputs": []
    },
    {
      "cell_type": "code",
      "source": [
        "# Filter data for students below 18\n",
        "df_below_18 = df[df['Age'] != 'Above 18']\n",
        "\n",
        "# Filter data for students above 18\n",
        "df_above_18 = df[df['Age'] == 'Above 18']"
      ],
      "metadata": {
        "id": "aB1_dqjKE3jM"
      },
      "execution_count": null,
      "outputs": []
    },
    {
      "cell_type": "code",
      "source": [
        "# Grouped bar chart for students below 18\n",
        "sns.barplot(x='EngagedInSportsB18', y='Subject3Mark', data=df_below_18, hue='EngagedInSportsB18')\n",
        "plt.title('Maths Marks for Students Below 18')\n",
        "plt.xlabel('Sports Engagement')\n",
        "plt.ylabel('Maths Mark')\n",
        "plt.show()"
      ],
      "metadata": {
        "colab": {
          "base_uri": "https://localhost:8080/",
          "height": 472
        },
        "id": "u6dd9N4iEqqc",
        "outputId": "1392994c-2bb5-4f5c-8e03-f152d789c845"
      },
      "execution_count": null,
      "outputs": [
        {
          "output_type": "display_data",
          "data": {
            "text/plain": [
              "<Figure size 640x480 with 1 Axes>"
            ],
            "image/png": "[encoded data removed]"
          },
          "metadata": {}
        }
      ]
    },
    {
      "cell_type": "code",
      "source": [
        "# Grouped bar chart for students above 18\n",
        "sns.barplot(x='EngagedInSports', y='MathsMark12', data=df_above_18, hue='EngagedInSports')\n",
        "plt.title('Maths Marks for Students Above 18')\n",
        "plt.xlabel('Sports Engagement')\n",
        "plt.ylabel('Maths Mark (12th Standard)')\n",
        "plt.show()"
      ],
      "metadata": {
        "colab": {
          "base_uri": "https://localhost:8080/",
          "height": 472
        },
        "id": "L_7GnJb-E9ke",
        "outputId": "c9bc8a05-10ff-4722-e945-eeea2b765418"
      },
      "execution_count": null,
      "outputs": [
        {
          "output_type": "display_data",
          "data": {
            "text/plain": [
              "<Figure size 640x480 with 1 Axes>"
            ],
            "image/png": "[encoded data removed]"
          },
          "metadata": {}
        }
      ]
    },
    {
      "cell_type": "markdown",
      "source": [
        "#Clustering\n"
      ],
      "metadata": {
        "id": "1t9GfwSfvYBp"
      }
    },
    {
      "cell_type": "code",
      "source": [
        "#from sklearn.feature_extraction.text import TfidfVectorizer"
      ],
      "metadata": {
        "id": "QMsii26i8Ria"
      },
      "execution_count": null,
      "outputs": []
    },
    {
      "cell_type": "code",
      "source": [
        "df.info()"
      ],
      "metadata": {
        "colab": {
          "base_uri": "https://localhost:8080/"
        },
        "id": "TK2Ix3Svva33",
        "outputId": "3da18dfa-19f5-4422-889d-6b00e4216415"
      },
      "execution_count": null,
      "outputs": [
        {
          "output_type": "stream",
          "name": "stdout",
          "text": [
            "<class 'pandas.core.frame.DataFrame'>\n",
            "RangeIndex: 225 entries, 0 to 224\n",
            "Data columns (total 43 columns):\n",
            " #   Column                         Non-Null Count  Dtype  \n",
            "---  ------                         --------------  -----  \n",
            " 0   Name                           225 non-null    object \n",
            " 1   Gender                         225 non-null    object \n",
            " 2   Study                          225 non-null    object \n",
            " 3   Age                            225 non-null    object \n",
            " 4   Subject1Name                   32 non-null     object \n",
            " 5   Subject1Mark                   32 non-null     float64\n",
            " 6   Subject2Name                   32 non-null     object \n",
            " 7   Subject2Mark                   32 non-null     float64\n",
            " 8   Subject3Name                   32 non-null     object \n",
            " 9   Subject3Mark                   32 non-null     float64\n",
            " 10  Subject4Name                   32 non-null     object \n",
            " 11  Subject4Mark                   32 non-null     float64\n",
            " 12  Subject5Name                   32 non-null     object \n",
            " 13  Subject5Mark                   32 non-null     float64\n",
            " 14  MathsMark10                    193 non-null    float64\n",
            " 15  TotalMarks10                   193 non-null    float64\n",
            " 16  MathsMark12                    193 non-null    float64\n",
            " 17  TotalMarks12                   193 non-null    float64\n",
            " 18  UGcgpa                         193 non-null    float64\n",
            " 19  EngagedInSports                193 non-null    object \n",
            " 20  TimeSpentPerDay                101 non-null    object \n",
            " 21  ActivelyParticipatingPeriod    101 non-null    object \n",
            " 22  GamesLikeToPlay                101 non-null    object \n",
            " 23  FavGameName                    101 non-null    object \n",
            " 24  SportsPlyerOf                  101 non-null    object \n",
            " 25  TrainingThrough                101 non-null    object \n",
            " 26  TrainingClubName               101 non-null    object \n",
            " 27  PhysicalActivityOrSportsDoing  101 non-null    object \n",
            " 28  PreferredTimeToPlay            101 non-null    object \n",
            " 29  ReasonForPlaying               101 non-null    object \n",
            " 30  HospitalVisits                 225 non-null    int64  \n",
            " 31  WearingSpecs                   225 non-null    object \n",
            " 32  DailyMobileUsage               225 non-null    object \n",
            " 33  WakeUpTime                     225 non-null    object \n",
            " 34  SleepTime                      225 non-null    object \n",
            " 35  SickLeaveDays                  225 non-null    object \n",
            " 36  FeelingSleepy                  225 non-null    object \n",
            " 37  Pains                          225 non-null    object \n",
            " 38  ContinuousReading              225 non-null    object \n",
            " 39  EngagedInSportsB18             32 non-null     object \n",
            " 40  heights                        225 non-null    int64  \n",
            " 41  weights                        225 non-null    int64  \n",
            " 42  bmi                            225 non-null    float64\n",
            "dtypes: float64(11), int64(3), object(29)\n",
            "memory usage: 75.7+ KB\n"
          ]
        }
      ]
    },
    {
      "cell_type": "markdown",
      "source": [
        "##Below 18"
      ],
      "metadata": {
        "id": "A5yenf5Lx4cZ"
      }
    },
    {
      "cell_type": "code",
      "source": [
        "df_below_18 = pd.merge(df_below_18, df[['SportsPlyerOf']], left_index=True, right_index=True)\n"
      ],
      "metadata": {
        "id": "8yJHL2JC4kZX"
      },
      "execution_count": null,
      "outputs": []
    },
    {
      "cell_type": "code",
      "source": [
        "df_below_18 = pd.merge(df_below_18, df[['PhysicalActivityOrSportsDoing']], left_index=True, right_index=True)\n"
      ],
      "metadata": {
        "id": "yFTygULT4rl4"
      },
      "execution_count": null,
      "outputs": []
    },
    {
      "cell_type": "code",
      "source": [
        "df_below_18 = pd.merge(df_below_18, df[['PreferredTimeToPlay']], left_index=True, right_index=True)\n"
      ],
      "metadata": {
        "id": "jMRVw-YV5Ieo"
      },
      "execution_count": null,
      "outputs": []
    },
    {
      "cell_type": "code",
      "source": [
        "df_below_18 = pd.merge(df_below_18, df[['ReasonForPlaying']], left_index=True, right_index=True)\n"
      ],
      "metadata": {
        "id": "Mfj7Xdgl5Jch"
      },
      "execution_count": null,
      "outputs": []
    },
    {
      "cell_type": "code",
      "source": [
        "df_below_18.info()"
      ],
      "metadata": {
        "colab": {
          "base_uri": "https://localhost:8080/"
        },
        "id": "s0-5nCB5vzZI",
        "outputId": "88d54383-d2af-46ba-8dd5-5286b9954df6"
      },
      "execution_count": null,
      "outputs": [
        {
          "output_type": "stream",
          "name": "stdout",
          "text": [
            "<class 'pandas.core.frame.DataFrame'>\n",
            "Int64Index: 32 entries, 0 to 31\n",
            "Data columns (total 47 columns):\n",
            " #   Column                           Non-Null Count  Dtype  \n",
            "---  ------                           --------------  -----  \n",
            " 0   Name                             32 non-null     object \n",
            " 1   Gender                           32 non-null     object \n",
            " 2   Study                            32 non-null     object \n",
            " 3   Age                              32 non-null     object \n",
            " 4   Subject1Name                     32 non-null     object \n",
            " 5   Subject1Mark                     32 non-null     float64\n",
            " 6   Subject2Name                     32 non-null     object \n",
            " 7   Subject2Mark                     32 non-null     float64\n",
            " 8   Subject3Name                     32 non-null     object \n",
            " 9   Subject3Mark                     32 non-null     float64\n",
            " 10  Subject4Name                     32 non-null     object \n",
            " 11  Subject4Mark                     32 non-null     float64\n",
            " 12  Subject5Name                     32 non-null     object \n",
            " 13  Subject5Mark                     32 non-null     float64\n",
            " 14  MathsMark10                      0 non-null      float64\n",
            " 15  TotalMarks10                     0 non-null      float64\n",
            " 16  MathsMark12                      0 non-null      float64\n",
            " 17  TotalMarks12                     0 non-null      float64\n",
            " 18  UGcgpa                           0 non-null      float64\n",
            " 19  EngagedInSports                  0 non-null      object \n",
            " 20  TimeSpentPerDay                  26 non-null     object \n",
            " 21  ActivelyParticipatingPeriod      26 non-null     object \n",
            " 22  GamesLikeToPlay                  26 non-null     object \n",
            " 23  FavGameName                      26 non-null     object \n",
            " 24  SportsPlyerOf_x                  26 non-null     object \n",
            " 25  TrainingThrough                  26 non-null     object \n",
            " 26  TrainingClubName                 26 non-null     object \n",
            " 27  PhysicalActivityOrSportsDoing_x  26 non-null     object \n",
            " 28  PreferredTimeToPlay_x            26 non-null     object \n",
            " 29  ReasonForPlaying_x               26 non-null     object \n",
            " 30  HospitalVisits                   32 non-null     int64  \n",
            " 31  WearingSpecs                     32 non-null     object \n",
            " 32  DailyMobileUsage                 32 non-null     object \n",
            " 33  WakeUpTime                       32 non-null     object \n",
            " 34  SleepTime                        32 non-null     object \n",
            " 35  SickLeaveDays                    32 non-null     object \n",
            " 36  FeelingSleepy                    32 non-null     object \n",
            " 37  Pains                            32 non-null     object \n",
            " 38  ContinuousReading                32 non-null     object \n",
            " 39  EngagedInSportsB18               32 non-null     object \n",
            " 40  heights                          32 non-null     int64  \n",
            " 41  weights                          32 non-null     int64  \n",
            " 42  bmi                              32 non-null     float64\n",
            " 43  SportsPlyerOf_y                  26 non-null     object \n",
            " 44  PhysicalActivityOrSportsDoing_y  26 non-null     object \n",
            " 45  PreferredTimeToPlay_y            26 non-null     object \n",
            " 46  ReasonForPlaying_y               26 non-null     object \n",
            "dtypes: float64(11), int64(3), object(33)\n",
            "memory usage: 12.0+ KB\n"
          ]
        }
      ]
    },
    {
      "cell_type": "code",
      "source": [
        "df_below_18.head()"
      ],
      "metadata": {
        "colab": {
          "base_uri": "https://localhost:8080/",
          "height": 359
        },
        "id": "fqalOXAPyAIa",
        "outputId": "7cfdb5f7-9041-48fc-b216-e61588bcae66"
      },
      "execution_count": null,
      "outputs": [
        {
          "output_type": "execute_result",
          "data": {
            "text/plain": [
              "              Name  Gender                Study    Age  \\\n",
              "0      Visvambra.s    Male               Matric  13-18   \n",
              "1   Selvabrindha K  Female  Engineering College  13-18   \n",
              "2  Nidhekshaa N K   Female  Engineering College  13-18   \n",
              "3   KANMANIPRIYA S  Female  Engineering College  13-18   \n",
              "4         R Ranish    Male               Matric   6-12   \n",
              "\n",
              "             Subject1Name  Subject1Mark                       Subject2Name  \\\n",
              "0                   Tamil          96.0                            English   \n",
              "1                   Tamil          97.0                            English   \n",
              "2  Computer organisation           75.0                      Data science    \n",
              "3                   Tamil          96.0  Discrete mathematical structures    \n",
              "4                Science           74.0                            English   \n",
              "\n",
              "   Subject2Mark Subject3Name  Subject3Mark  ...                Pains  \\\n",
              "0          90.0        Maths          94.0  ...    None of the above   \n",
              "1          90.0        Maths          95.0  ...    None of the above   \n",
              "2          90.0        Maths          90.0  ...  Leg pain, Headaches   \n",
              "3         100.0        Maths          94.0  ...            Neck pain   \n",
              "4          74.0        Maths          93.0  ...             Leg pain   \n",
              "\n",
              "      ContinuousReading EngagedInSportsB18  heights  weights          bmi  \\\n",
              "0      15 to 30 minutes                Yes       80       28    43.750000   \n",
              "1  30 minutes to 1 hour                 No      150       46    20.444444   \n",
              "2      15 to 30 minutes                Yes      152       43    18.611496   \n",
              "3  30 minutes to 1 hour                 No      155       50    20.811655   \n",
              "4     More than 3 hours                Yes       11       17  1404.958678   \n",
              "\n",
              "               SportsPlyerOf_y   PhysicalActivityOrSportsDoing_y  \\\n",
              "0         School/College level                           Cricket   \n",
              "1                          NaN                               NaN   \n",
              "2  State level, National level  Yoga, Karate, Badminton, Cycling   \n",
              "3                          NaN                               NaN   \n",
              "4         School/College level                          Football   \n",
              "\n",
              "      PreferredTimeToPlay_y      ReasonForPlaying_y  \n",
              "0                   Evening       For Entertainment  \n",
              "1                       NaN                     NaN  \n",
              "2                   Evening  For Health and Fitness  \n",
              "3                       NaN                     NaN  \n",
              "4  Both Morning and Evening    To become a champion  \n",
              "\n",
              "[5 rows x 47 columns]"
            ],
            "text/html": [
              "\n",
              "  <div id=\"df-67904e02-8876-4831-88ef-08ca763228ec\" class=\"colab-df-container\">\n",
              "    <div>\n",
              "<style scoped>\n",
              "    .dataframe tbody tr th:only-of-type {\n",
              "        vertical-align: middle;\n",
              "    }\n",
              "\n",
              "    .dataframe tbody tr th {\n",
              "        vertical-align: top;\n",
              "    }\n",
              "\n",
              "    .dataframe thead th {\n",
              "        text-align: right;\n",
              "    }\n",
              "</style>\n",
              "<table border=\"1\" class=\"dataframe\">\n",
              "  <thead>\n",
              "    <tr style=\"text-align: right;\">\n",
              "      <th></th>\n",
              "      <th>Name</th>\n",
              "      <th>Gender</th>\n",
              "      <th>Study</th>\n",
              "      <th>Age</th>\n",
              "      <th>Subject1Name</th>\n",
              "      <th>Subject1Mark</th>\n",
              "      <th>Subject2Name</th>\n",
              "      <th>Subject2Mark</th>\n",
              "      <th>Subject3Name</th>\n",
              "      <th>Subject3Mark</th>\n",
              "      <th>...</th>\n",
              "      <th>Pains</th>\n",
              "      <th>ContinuousReading</th>\n",
              "      <th>EngagedInSportsB18</th>\n",
              "      <th>heights</th>\n",
              "      <th>weights</th>\n",
              "      <th>bmi</th>\n",
              "      <th>SportsPlyerOf_y</th>\n",
              "      <th>PhysicalActivityOrSportsDoing_y</th>\n",
              "      <th>PreferredTimeToPlay_y</th>\n",
              "      <th>ReasonForPlaying_y</th>\n",
              "    </tr>\n",
              "  </thead>\n",
              "  <tbody>\n",
              "    <tr>\n",
              "      <th>0</th>\n",
              "      <td>Visvambra.s</td>\n",
              "      <td>Male</td>\n",
              "      <td>Matric</td>\n",
              "      <td>13-18</td>\n",
              "      <td>Tamil</td>\n",
              "      <td>96.0</td>\n",
              "      <td>English</td>\n",
              "      <td>90.0</td>\n",
              "      <td>Maths</td>\n",
              "      <td>94.0</td>\n",
              "      <td>...</td>\n",
              "      <td>None of the above</td>\n",
              "      <td>15 to 30 minutes</td>\n",
              "      <td>Yes</td>\n",
              "      <td>80</td>\n",
              "      <td>28</td>\n",
              "      <td>43.750000</td>\n",
              "      <td>School/College level</td>\n",
              "      <td>Cricket</td>\n",
              "      <td>Evening</td>\n",
              "      <td>For Entertainment</td>\n",
              "    </tr>\n",
              "    <tr>\n",
              "      <th>1</th>\n",
              "      <td>Selvabrindha K</td>\n",
              "      <td>Female</td>\n",
              "      <td>Engineering College</td>\n",
              "      <td>13-18</td>\n",
              "      <td>Tamil</td>\n",
              "      <td>97.0</td>\n",
              "      <td>English</td>\n",
              "      <td>90.0</td>\n",
              "      <td>Maths</td>\n",
              "      <td>95.0</td>\n",
              "      <td>...</td>\n",
              "      <td>None of the above</td>\n",
              "      <td>30 minutes to 1 hour</td>\n",
              "      <td>No</td>\n",
              "      <td>150</td>\n",
              "      <td>46</td>\n",
              "      <td>20.444444</td>\n",
              "      <td>NaN</td>\n",
              "      <td>NaN</td>\n",
              "      <td>NaN</td>\n",
              "      <td>NaN</td>\n",
              "    </tr>\n",
              "    <tr>\n",
              "      <th>2</th>\n",
              "      <td>Nidhekshaa N K</td>\n",
              "      <td>Female</td>\n",
              "      <td>Engineering College</td>\n",
              "      <td>13-18</td>\n",
              "      <td>Computer organisation</td>\n",
              "      <td>75.0</td>\n",
              "      <td>Data science</td>\n",
              "      <td>90.0</td>\n",
              "      <td>Maths</td>\n",
              "      <td>90.0</td>\n",
              "      <td>...</td>\n",
              "      <td>Leg pain, Headaches</td>\n",
              "      <td>15 to 30 minutes</td>\n",
              "      <td>Yes</td>\n",
              "      <td>152</td>\n",
              "      <td>43</td>\n",
              "      <td>18.611496</td>\n",
              "      <td>State level, National level</td>\n",
              "      <td>Yoga, Karate, Badminton, Cycling</td>\n",
              "      <td>Evening</td>\n",
              "      <td>For Health and Fitness</td>\n",
              "    </tr>\n",
              "    <tr>\n",
              "      <th>3</th>\n",
              "      <td>KANMANIPRIYA S</td>\n",
              "      <td>Female</td>\n",
              "      <td>Engineering College</td>\n",
              "      <td>13-18</td>\n",
              "      <td>Tamil</td>\n",
              "      <td>96.0</td>\n",
              "      <td>Discrete mathematical structures</td>\n",
              "      <td>100.0</td>\n",
              "      <td>Maths</td>\n",
              "      <td>94.0</td>\n",
              "      <td>...</td>\n",
              "      <td>Neck pain</td>\n",
              "      <td>30 minutes to 1 hour</td>\n",
              "      <td>No</td>\n",
              "      <td>155</td>\n",
              "      <td>50</td>\n",
              "      <td>20.811655</td>\n",
              "      <td>NaN</td>\n",
              "      <td>NaN</td>\n",
              "      <td>NaN</td>\n",
              "      <td>NaN</td>\n",
              "    </tr>\n",
              "    <tr>\n",
              "      <th>4</th>\n",
              "      <td>R Ranish</td>\n",
              "      <td>Male</td>\n",
              "      <td>Matric</td>\n",
              "      <td>6-12</td>\n",
              "      <td>Science</td>\n",
              "      <td>74.0</td>\n",
              "      <td>English</td>\n",
              "      <td>74.0</td>\n",
              "      <td>Maths</td>\n",
              "      <td>93.0</td>\n",
              "      <td>...</td>\n",
              "      <td>Leg pain</td>\n",
              "      <td>More than 3 hours</td>\n",
              "      <td>Yes</td>\n",
              "      <td>11</td>\n",
              "      <td>17</td>\n",
              "      <td>1404.958678</td>\n",
              "      <td>School/College level</td>\n",
              "      <td>Football</td>\n",
              "      <td>Both Morning and Evening</td>\n",
              "      <td>To become a champion</td>\n",
              "    </tr>\n",
              "  </tbody>\n",
              "</table>\n",
              "<p>5 rows × 47 columns</p>\n",
              "</div>\n",
              "    <div class=\"colab-df-buttons\">\n",
              "\n",
              "  <div class=\"colab-df-container\">\n",
              "    <button class=\"colab-df-convert\" onclick=\"convertToInteractive('df-67904e02-8876-4831-88ef-08ca763228ec')\"\n",
              "            title=\"Convert this dataframe to an interactive table.\"\n",
              "            style=\"display:none;\">\n",
              "\n",
              "  <svg xmlns=\"http://www.w3.org/2000/svg\" height=\"24px\" viewBox=\"0 -960 960 960\">\n",
              "    <path d=\"M120-120v-720h720v720H120Zm60-500h600v-160H180v160Zm220 220h160v-160H400v160Zm0 220h160v-160H400v160ZM180-400h160v-160H180v160Zm440 0h160v-160H620v160ZM180-180h160v-160H180v160Zm440 0h160v-160H620v160Z\"/>\n",
              "  </svg>\n",
              "    </button>\n",
              "\n",
              "  <style>\n",
              "    .colab-df-container {\n",
              "      display:flex;\n",
              "      gap: 12px;\n",
              "    }\n",
              "\n",
              "    .colab-df-convert {\n",
              "      background-color: #E8F0FE;\n",
              "      border: none;\n",
              "      border-radius: 50%;\n",
              "      cursor: pointer;\n",
              "      display: none;\n",
              "      fill: #1967D2;\n",
              "      height: 32px;\n",
              "      padding: 0 0 0 0;\n",
              "      width: 32px;\n",
              "    }\n",
              "\n",
              "    .colab-df-convert:hover {\n",
              "      background-color: #E2EBFA;\n",
              "      box-shadow: 0px 1px 2px rgba(60, 64, 67, 0.3), 0px 1px 3px 1px rgba(60, 64, 67, 0.15);\n",
              "      fill: #174EA6;\n",
              "    }\n",
              "\n",
              "    .colab-df-buttons div {\n",
              "      margin-bottom: 4px;\n",
              "    }\n",
              "\n",
              "    [theme=dark] .colab-df-convert {\n",
              "      background-color: #3B4455;\n",
              "      fill: #D2E3FC;\n",
              "    }\n",
              "\n",
              "    [theme=dark] .colab-df-convert:hover {\n",
              "      background-color: #434B5C;\n",
              "      box-shadow: 0px 1px 3px 1px rgba(0, 0, 0, 0.15);\n",
              "      filter: drop-shadow(0px 1px 2px rgba(0, 0, 0, 0.3));\n",
              "      fill: #FFFFFF;\n",
              "    }\n",
              "  </style>\n",
              "\n",
              "    <script>\n",
              "      const buttonEl =\n",
              "        document.querySelector('#df-67904e02-8876-4831-88ef-08ca763228ec button.colab-df-convert');\n",
              "      buttonEl.style.display =\n",
              "        google.colab.kernel.accessAllowed ? 'block' : 'none';\n",
              "\n",
              "      async function convertToInteractive(key) {\n",
              "        const element = document.querySelector('#df-67904e02-8876-4831-88ef-08ca763228ec');\n",
              "        const dataTable =\n",
              "          await google.colab.kernel.invokeFunction('convertToInteractive',\n",
              "                                                    [key], {});\n",
              "        if (!dataTable) return;\n",
              "\n",
              "        const docLinkHtml = 'Like what you see? Visit the ' +\n",
              "          '<a target=\"_blank\" href=https://colab.research.google.com/notebooks/data_table.ipynb>data table notebook</a>'\n",
              "          + ' to learn more about interactive tables.';\n",
              "        element.innerHTML = '';\n",
              "        dataTable['output_type'] = 'display_data';\n",
              "        await google.colab.output.renderOutput(dataTable, element);\n",
              "        const docLink = document.createElement('div');\n",
              "        docLink.innerHTML = docLinkHtml;\n",
              "        element.appendChild(docLink);\n",
              "      }\n",
              "    </script>\n",
              "  </div>\n",
              "\n",
              "\n",
              "<div id=\"df-22761f8b-cb29-4d74-aa6e-aba60ecc3a50\">\n",
              "  <button class=\"colab-df-quickchart\" onclick=\"quickchart('df-22761f8b-cb29-4d74-aa6e-aba60ecc3a50')\"\n",
              "            title=\"Suggest charts\"\n",
              "            style=\"display:none;\">\n",
              "\n",
              "<svg xmlns=\"http://www.w3.org/2000/svg\" height=\"24px\"viewBox=\"0 0 24 24\"\n",
              "     width=\"24px\">\n",
              "    <g>\n",
              "        <path d=\"M19 3H5c-1.1 0-2 .9-2 2v14c0 1.1.9 2 2 2h14c1.1 0 2-.9 2-2V5c0-1.1-.9-2-2-2zM9 17H7v-7h2v7zm4 0h-2V7h2v10zm4 0h-2v-4h2v4z\"/>\n",
              "    </g>\n",
              "</svg>\n",
              "  </button>\n",
              "\n",
              "<style>\n",
              "  .colab-df-quickchart {\n",
              "      --bg-color: #E8F0FE;\n",
              "      --fill-color: #1967D2;\n",
              "      --hover-bg-color: #E2EBFA;\n",
              "      --hover-fill-color: #174EA6;\n",
              "      --disabled-fill-color: #AAA;\n",
              "      --disabled-bg-color: #DDD;\n",
              "  }\n",
              "\n",
              "  [theme=dark] .colab-df-quickchart {\n",
              "      --bg-color: #3B4455;\n",
              "      --fill-color: #D2E3FC;\n",
              "      --hover-bg-color: #434B5C;\n",
              "      --hover-fill-color: #FFFFFF;\n",
              "      --disabled-bg-color: #3B4455;\n",
              "      --disabled-fill-color: #666;\n",
              "  }\n",
              "\n",
              "  .colab-df-quickchart {\n",
              "    background-color: var(--bg-color);\n",
              "    border: none;\n",
              "    border-radius: 50%;\n",
              "    cursor: pointer;\n",
              "    display: none;\n",
              "    fill: var(--fill-color);\n",
              "    height: 32px;\n",
              "    padding: 0;\n",
              "    width: 32px;\n",
              "  }\n",
              "\n",
              "  .colab-df-quickchart:hover {\n",
              "    background-color: var(--hover-bg-color);\n",
              "    box-shadow: 0 1px 2px rgba(60, 64, 67, 0.3), 0 1px 3px 1px rgba(60, 64, 67, 0.15);\n",
              "    fill: var(--button-hover-fill-color);\n",
              "  }\n",
              "\n",
              "  .colab-df-quickchart-complete:disabled,\n",
              "  .colab-df-quickchart-complete:disabled:hover {\n",
              "    background-color: var(--disabled-bg-color);\n",
              "    fill: var(--disabled-fill-color);\n",
              "    box-shadow: none;\n",
              "  }\n",
              "\n",
              "  .colab-df-spinner {\n",
              "    border: 2px solid var(--fill-color);\n",
              "    border-color: transparent;\n",
              "    border-bottom-color: var(--fill-color);\n",
              "    animation:\n",
              "      spin 1s steps(1) infinite;\n",
              "  }\n",
              "\n",
              "  @keyframes spin {\n",
              "    0% {\n",
              "      border-color: transparent;\n",
              "      border-bottom-color: var(--fill-color);\n",
              "      border-left-color: var(--fill-color);\n",
              "    }\n",
              "    20% {\n",
              "      border-color: transparent;\n",
              "      border-left-color: var(--fill-color);\n",
              "      border-top-color: var(--fill-color);\n",
              "    }\n",
              "    30% {\n",
              "      border-color: transparent;\n",
              "      border-left-color: var(--fill-color);\n",
              "      border-top-color: var(--fill-color);\n",
              "      border-right-color: var(--fill-color);\n",
              "    }\n",
              "    40% {\n",
              "      border-color: transparent;\n",
              "      border-right-color: var(--fill-color);\n",
              "      border-top-color: var(--fill-color);\n",
              "    }\n",
              "    60% {\n",
              "      border-color: transparent;\n",
              "      border-right-color: var(--fill-color);\n",
              "    }\n",
              "    80% {\n",
              "      border-color: transparent;\n",
              "      border-right-color: var(--fill-color);\n",
              "      border-bottom-color: var(--fill-color);\n",
              "    }\n",
              "    90% {\n",
              "      border-color: transparent;\n",
              "      border-bottom-color: var(--fill-color);\n",
              "    }\n",
              "  }\n",
              "</style>\n",
              "\n",
              "  <script>\n",
              "    async function quickchart(key) {\n",
              "      const quickchartButtonEl =\n",
              "        document.querySelector('#' + key + ' button');\n",
              "      quickchartButtonEl.disabled = true;  // To prevent multiple clicks.\n",
              "      quickchartButtonEl.classList.add('colab-df-spinner');\n",
              "      try {\n",
              "        const charts = await google.colab.kernel.invokeFunction(\n",
              "            'suggestCharts', [key], {});\n",
              "      } catch (error) {\n",
              "        console.error('Error during call to suggestCharts:', error);\n",
              "      }\n",
              "      quickchartButtonEl.classList.remove('colab-df-spinner');\n",
              "      quickchartButtonEl.classList.add('colab-df-quickchart-complete');\n",
              "    }\n",
              "    (() => {\n",
              "      let quickchartButtonEl =\n",
              "        document.querySelector('#df-22761f8b-cb29-4d74-aa6e-aba60ecc3a50 button');\n",
              "      quickchartButtonEl.style.display =\n",
              "        google.colab.kernel.accessAllowed ? 'block' : 'none';\n",
              "    })();\n",
              "  </script>\n",
              "</div>\n",
              "\n",
              "    </div>\n",
              "  </div>\n"
            ],
            "application/vnd.google.colaboratory.intrinsic+json": {
              "type": "dataframe",
              "variable_name": "df_below_18"
            }
          },
          "metadata": {},
          "execution_count": 95
        }
      ]
    },
    {
      "cell_type": "code",
      "source": [
        "df_below_18['Gender'] = df_below_18['Gender'].map({'Male': 1, 'Female': 0})"
      ],
      "metadata": {
        "id": "3wBwnkCl2p5Z"
      },
      "execution_count": null,
      "outputs": []
    },
    {
      "cell_type": "code",
      "source": [
        "df_below_18['WearingSpecs'] = df_below_18['WearingSpecs'].map({'Yes': 1, 'No': 0})"
      ],
      "metadata": {
        "id": "BiXM1tH820pV"
      },
      "execution_count": null,
      "outputs": []
    },
    {
      "cell_type": "code",
      "source": [
        "df_below_18['FeelingSleepy'] = df_below_18['FeelingSleepy'].map({'Yes': 1, 'No': 0})"
      ],
      "metadata": {
        "id": "R90R-BJE2_tc"
      },
      "execution_count": null,
      "outputs": []
    },
    {
      "cell_type": "code",
      "source": [
        "df_below_18['EngagedInSportsB18'] = df_below_18['EngagedInSportsB18'].map({'Yes': 1, 'No': 0})"
      ],
      "metadata": {
        "id": "20rW_s_o3FKl"
      },
      "execution_count": null,
      "outputs": []
    },
    {
      "cell_type": "code",
      "source": [
        "ordinal_mapping = {\n",
        "    'Morning':1, 'Evening':2, 'Both Morning and Evening':3, 'Only on Holidays':4,\n",
        "    'For Health and Fitness':1,'For Entertainment':2,'To become a champion':3\n",
        "}\n"
      ],
      "metadata": {
        "id": "iSI0Tlni56-P"
      },
      "execution_count": null,
      "outputs": []
    },
    {
      "cell_type": "code",
      "source": [
        "play_cl=['PreferredTimeToPlay','ReasonForPlaying']"
      ],
      "metadata": {
        "id": "xL0XDhC_6WPj"
      },
      "execution_count": null,
      "outputs": []
    },
    {
      "cell_type": "code",
      "source": [
        "# Process ordinal columns\n",
        "for col in play_cl:\n",
        "    df_below_18[col] = df_below_18[col].map(ordinal_mapping)\n"
      ],
      "metadata": {
        "id": "RZGaW8pL6Ql2",
        "colab": {
          "base_uri": "https://localhost:8080/",
          "height": 495
        },
        "outputId": "06558b63-3cc2-4832-db43-e52217b19e9a"
      },
      "execution_count": null,
      "outputs": [
        {
          "output_type": "error",
          "ename": "KeyError",
          "evalue": "'PreferredTimeToPlay'",
          "traceback": [
            "\u001b[0;31m---------------------------------------------------------------------------\u001b[0m",
            "\u001b[0;31mKeyError\u001b[0m                                  Traceback (most recent call last)",
            "\u001b[0;32m/usr/local/lib/python3.10/dist-packages/pandas/core/indexes/base.py\u001b[0m in \u001b[0;36mget_loc\u001b[0;34m(self, key, method, tolerance)\u001b[0m\n\u001b[1;32m   3801\u001b[0m             \u001b[0;32mtry\u001b[0m\u001b[0;34m:\u001b[0m\u001b[0;34m\u001b[0m\u001b[0;34m\u001b[0m\u001b[0m\n\u001b[0;32m-> 3802\u001b[0;31m                 \u001b[0;32mreturn\u001b[0m \u001b[0mself\u001b[0m\u001b[0;34m.\u001b[0m\u001b[0m_engine\u001b[0m\u001b[0;34m.\u001b[0m\u001b[0mget_loc\u001b[0m\u001b[0;34m(\u001b[0m\u001b[0mcasted_key\u001b[0m\u001b[0;34m)\u001b[0m\u001b[0;34m\u001b[0m\u001b[0;34m\u001b[0m\u001b[0m\n\u001b[0m\u001b[1;32m   3803\u001b[0m             \u001b[0;32mexcept\u001b[0m \u001b[0mKeyError\u001b[0m \u001b[0;32mas\u001b[0m \u001b[0merr\u001b[0m\u001b[0;34m:\u001b[0m\u001b[0;34m\u001b[0m\u001b[0;34m\u001b[0m\u001b[0m\n",
            "\u001b[0;32m/usr/local/lib/python3.10/dist-packages/pandas/_libs/index.pyx\u001b[0m in \u001b[0;36mpandas._libs.index.IndexEngine.get_loc\u001b[0;34m()\u001b[0m\n",
            "\u001b[0;32m/usr/local/lib/python3.10/dist-packages/pandas/_libs/index.pyx\u001b[0m in \u001b[0;36mpandas._libs.index.IndexEngine.get_loc\u001b[0;34m()\u001b[0m\n",
            "\u001b[0;32mpandas/_libs/hashtable_class_helper.pxi\u001b[0m in \u001b[0;36mpandas._libs.hashtable.PyObjectHashTable.get_item\u001b[0;34m()\u001b[0m\n",
            "\u001b[0;32mpandas/_libs/hashtable_class_helper.pxi\u001b[0m in \u001b[0;36mpandas._libs.hashtable.PyObjectHashTable.get_item\u001b[0;34m()\u001b[0m\n",
            "\u001b[0;31mKeyError\u001b[0m: 'PreferredTimeToPlay'",
            "\nThe above exception was the direct cause of the following exception:\n",
            "\u001b[0;31mKeyError\u001b[0m                                  Traceback (most recent call last)",
            "\u001b[0;32m<ipython-input-103-3be2d7ccfc3f>\u001b[0m in \u001b[0;36m<cell line: 2>\u001b[0;34m()\u001b[0m\n\u001b[1;32m      1\u001b[0m \u001b[0;31m# Process ordinal columns\u001b[0m\u001b[0;34m\u001b[0m\u001b[0;34m\u001b[0m\u001b[0m\n\u001b[1;32m      2\u001b[0m \u001b[0;32mfor\u001b[0m \u001b[0mcol\u001b[0m \u001b[0;32min\u001b[0m \u001b[0mplay_cl\u001b[0m\u001b[0;34m:\u001b[0m\u001b[0;34m\u001b[0m\u001b[0;34m\u001b[0m\u001b[0m\n\u001b[0;32m----> 3\u001b[0;31m     \u001b[0mdf_below_18\u001b[0m\u001b[0;34m[\u001b[0m\u001b[0mcol\u001b[0m\u001b[0;34m]\u001b[0m \u001b[0;34m=\u001b[0m \u001b[0mdf_below_18\u001b[0m\u001b[0;34m[\u001b[0m\u001b[0mcol\u001b[0m\u001b[0;34m]\u001b[0m\u001b[0;34m.\u001b[0m\u001b[0mmap\u001b[0m\u001b[0;34m(\u001b[0m\u001b[0mordinal_mapping\u001b[0m\u001b[0;34m)\u001b[0m\u001b[0;34m\u001b[0m\u001b[0;34m\u001b[0m\u001b[0m\n\u001b[0m",
            "\u001b[0;32m/usr/local/lib/python3.10/dist-packages/pandas/core/frame.py\u001b[0m in \u001b[0;36m__getitem__\u001b[0;34m(self, key)\u001b[0m\n\u001b[1;32m   3805\u001b[0m             \u001b[0;32mif\u001b[0m \u001b[0mself\u001b[0m\u001b[0;34m.\u001b[0m\u001b[0mcolumns\u001b[0m\u001b[0;34m.\u001b[0m\u001b[0mnlevels\u001b[0m \u001b[0;34m>\u001b[0m \u001b[0;36m1\u001b[0m\u001b[0;34m:\u001b[0m\u001b[0;34m\u001b[0m\u001b[0;34m\u001b[0m\u001b[0m\n\u001b[1;32m   3806\u001b[0m                 \u001b[0;32mreturn\u001b[0m \u001b[0mself\u001b[0m\u001b[0;34m.\u001b[0m\u001b[0m_getitem_multilevel\u001b[0m\u001b[0;34m(\u001b[0m\u001b[0mkey\u001b[0m\u001b[0;34m)\u001b[0m\u001b[0;34m\u001b[0m\u001b[0;34m\u001b[0m\u001b[0m\n\u001b[0;32m-> 3807\u001b[0;31m             \u001b[0mindexer\u001b[0m \u001b[0;34m=\u001b[0m \u001b[0mself\u001b[0m\u001b[0;34m.\u001b[0m\u001b[0mcolumns\u001b[0m\u001b[0;34m.\u001b[0m\u001b[0mget_loc\u001b[0m\u001b[0;34m(\u001b[0m\u001b[0mkey\u001b[0m\u001b[0;34m)\u001b[0m\u001b[0;34m\u001b[0m\u001b[0;34m\u001b[0m\u001b[0m\n\u001b[0m\u001b[1;32m   3808\u001b[0m             \u001b[0;32mif\u001b[0m \u001b[0mis_integer\u001b[0m\u001b[0;34m(\u001b[0m\u001b[0mindexer\u001b[0m\u001b[0;34m)\u001b[0m\u001b[0;34m:\u001b[0m\u001b[0;34m\u001b[0m\u001b[0;34m\u001b[0m\u001b[0m\n\u001b[1;32m   3809\u001b[0m                 \u001b[0mindexer\u001b[0m \u001b[0;34m=\u001b[0m \u001b[0;34m[\u001b[0m\u001b[0mindexer\u001b[0m\u001b[0;34m]\u001b[0m\u001b[0;34m\u001b[0m\u001b[0;34m\u001b[0m\u001b[0m\n",
            "\u001b[0;32m/usr/local/lib/python3.10/dist-packages/pandas/core/indexes/base.py\u001b[0m in \u001b[0;36mget_loc\u001b[0;34m(self, key, method, tolerance)\u001b[0m\n\u001b[1;32m   3802\u001b[0m                 \u001b[0;32mreturn\u001b[0m \u001b[0mself\u001b[0m\u001b[0;34m.\u001b[0m\u001b[0m_engine\u001b[0m\u001b[0;34m.\u001b[0m\u001b[0mget_loc\u001b[0m\u001b[0;34m(\u001b[0m\u001b[0mcasted_key\u001b[0m\u001b[0;34m)\u001b[0m\u001b[0;34m\u001b[0m\u001b[0;34m\u001b[0m\u001b[0m\n\u001b[1;32m   3803\u001b[0m             \u001b[0;32mexcept\u001b[0m \u001b[0mKeyError\u001b[0m \u001b[0;32mas\u001b[0m \u001b[0merr\u001b[0m\u001b[0;34m:\u001b[0m\u001b[0;34m\u001b[0m\u001b[0;34m\u001b[0m\u001b[0m\n\u001b[0;32m-> 3804\u001b[0;31m                 \u001b[0;32mraise\u001b[0m \u001b[0mKeyError\u001b[0m\u001b[0;34m(\u001b[0m\u001b[0mkey\u001b[0m\u001b[0;34m)\u001b[0m \u001b[0;32mfrom\u001b[0m \u001b[0merr\u001b[0m\u001b[0;34m\u001b[0m\u001b[0;34m\u001b[0m\u001b[0m\n\u001b[0m\u001b[1;32m   3805\u001b[0m             \u001b[0;32mexcept\u001b[0m \u001b[0mTypeError\u001b[0m\u001b[0;34m:\u001b[0m\u001b[0;34m\u001b[0m\u001b[0;34m\u001b[0m\u001b[0m\n\u001b[1;32m   3806\u001b[0m                 \u001b[0;31m# If we have a listlike key, _check_indexing_error will raise\u001b[0m\u001b[0;34m\u001b[0m\u001b[0;34m\u001b[0m\u001b[0m\n",
            "\u001b[0;31mKeyError\u001b[0m: 'PreferredTimeToPlay'"
          ]
        }
      ]
    },
    {
      "cell_type": "code",
      "source": [
        "columns_to_fill = ['Pains','SportsPlyerOf','PhysicalActivityOrSportsDoing']\n",
        "df_below_18[columns_to_fill] = df_below_18[columns_to_fill].fillna('Not Engaged')"
      ],
      "metadata": {
        "id": "B6IwWwdpEBfQ"
      },
      "execution_count": null,
      "outputs": []
    },
    {
      "cell_type": "code",
      "source": [
        "df_below_18.info()"
      ],
      "metadata": {
        "id": "Bq2CaFPaQ4-m"
      },
      "execution_count": null,
      "outputs": []
    },
    {
      "cell_type": "code",
      "source": [
        "df_below_18['Pains'] = df_below_18['Pains'].str.join(' ')\n",
        "df_below_18['SportsPlyerOf'] = df_below_18['SportsPlyerOf'].str.join(' ')\n",
        "df_below_18['PhysicalActivityOrSportsDoing'] = df_below_18['PhysicalActivityOrSportsDoing'].str.join(' ')"
      ],
      "metadata": {
        "id": "wzZpXTey8cOT"
      },
      "execution_count": null,
      "outputs": []
    },
    {
      "cell_type": "code",
      "source": [
        "columns_to_fill = ['TimeSpentPerDay', 'ActivelyParticipatingPeriod','PreferredTimeToPlay','ReasonForPlaying']\n",
        "df_below_18[columns_to_fill] = df_below_18[columns_to_fill].fillna(0)"
      ],
      "metadata": {
        "id": "AOI4Du6KRIjn"
      },
      "execution_count": null,
      "outputs": []
    },
    {
      "cell_type": "code",
      "source": [
        "df_below_18.info()"
      ],
      "metadata": {
        "id": "JbXZeAp_RNir"
      },
      "execution_count": null,
      "outputs": []
    },
    {
      "cell_type": "markdown",
      "source": [
        "###Label Encoder"
      ],
      "metadata": {
        "id": "k_DP6XWBRwLT"
      }
    },
    {
      "cell_type": "code",
      "source": [
        "from sklearn.preprocessing import LabelEncoder"
      ],
      "metadata": {
        "id": "nFwPxg6iRye2"
      },
      "execution_count": null,
      "outputs": []
    },
    {
      "cell_type": "code",
      "source": [
        "label_encoder = LabelEncoder()"
      ],
      "metadata": {
        "id": "TgcoEQSLR1jp"
      },
      "execution_count": null,
      "outputs": []
    },
    {
      "cell_type": "code",
      "source": [
        "for col in ['Pains', 'SportsPlyerOf', 'PhysicalActivityOrSportsDoing']:\n",
        "    df_below_18[col + '_encoded'] = label_encoder.fit_transform(df_below_18[col])"
      ],
      "metadata": {
        "id": "LWufyDAyR6Au"
      },
      "execution_count": null,
      "outputs": []
    },
    {
      "cell_type": "code",
      "source": [
        "df_below_18 = df_below_18.drop(columns=['Pains', 'SportsPlyerOf', 'PhysicalActivityOrSportsDoing'])\n"
      ],
      "metadata": {
        "id": "GmhJwieaSJcu"
      },
      "execution_count": null,
      "outputs": []
    },
    {
      "cell_type": "code",
      "source": [
        "df_below_18.info()"
      ],
      "metadata": {
        "id": "c5rJ1EbqSX9j"
      },
      "execution_count": null,
      "outputs": []
    },
    {
      "cell_type": "code",
      "source": [
        "df_below_18.head()"
      ],
      "metadata": {
        "id": "ts02IzHGSryp"
      },
      "execution_count": null,
      "outputs": []
    },
    {
      "cell_type": "markdown",
      "source": [
        "###Cluster"
      ],
      "metadata": {
        "id": "EsujzR8lOK70"
      }
    },
    {
      "cell_type": "code",
      "source": [
        "from sklearn.cluster import KMeans\n",
        "from sklearn.preprocessing import StandardScaler\n",
        "from sklearn.metrics import silhouette_score\n",
        "from sklearn.decomposition import PCA\n",
        "import matplotlib.pyplot as plt\n",
        "import seaborn as sns"
      ],
      "metadata": {
        "id": "JrD0bcMAS18s"
      },
      "execution_count": null,
      "outputs": []
    },
    {
      "cell_type": "code",
      "source": [
        "scaler = StandardScaler()\n",
        "normalized_data = scaler.fit_transform(df_below_18)"
      ],
      "metadata": {
        "id": "UQPgVi0QS4C5"
      },
      "execution_count": null,
      "outputs": []
    },
    {
      "cell_type": "code",
      "source": [
        "n_clusters = 3  # Adjust the number of clusters as needed\n",
        "kmeans = KMeans(n_clusters=n_clusters, random_state=42)"
      ],
      "metadata": {
        "id": "eUfRo2BtTE45"
      },
      "execution_count": null,
      "outputs": []
    },
    {
      "cell_type": "code",
      "source": [
        "cluster_labels = kmeans.fit_predict(normalized_data)"
      ],
      "metadata": {
        "id": "6v-bgyoHTG7r"
      },
      "execution_count": null,
      "outputs": []
    },
    {
      "cell_type": "code",
      "source": [
        "# Visualize clustering results using PCA\n",
        "pca = PCA(n_components=2)\n",
        "pca_data = pca.fit_transform(normalized_data)"
      ],
      "metadata": {
        "id": "gfaNiw0dTjCS"
      },
      "execution_count": null,
      "outputs": []
    },
    {
      "cell_type": "code",
      "source": [
        "# Create a DataFrame with PCA results and cluster labels\n",
        "pca_df = pd.DataFrame(pca_data, columns=['PC1', 'PC2'])\n",
        "pca_df['Cluster'] = cluster_labels"
      ],
      "metadata": {
        "id": "4HxZYaJZTlcK"
      },
      "execution_count": null,
      "outputs": []
    },
    {
      "cell_type": "code",
      "source": [
        "# Plot clusters\n",
        "plt.figure(figsize=(10, 6))\n",
        "sns.scatterplot(data=pca_df, x='PC1', y='PC2', hue='Cluster', palette='viridis', alpha=0.8)\n",
        "plt.title('Clustering Results (PCA)')\n",
        "plt.xlabel('Principal Component 1')\n",
        "plt.ylabel('Principal Component 2')\n",
        "plt.legend(title='Cluster')\n",
        "plt.grid(True)\n",
        "plt.show()\n"
      ],
      "metadata": {
        "id": "NTqWBk04Tnda"
      },
      "execution_count": null,
      "outputs": []
    },
    {
      "cell_type": "code",
      "source": [
        "# Interpret clusters\n",
        "cluster_centers = kmeans.cluster_centers_\n",
        "cluster_means = scaler.inverse_transform(cluster_centers)  # Transform back to original scale"
      ],
      "metadata": {
        "id": "ojeq3h8aTsjh"
      },
      "execution_count": null,
      "outputs": []
    },
    {
      "cell_type": "code",
      "source": [
        "# Create a DataFrame with cluster means\n",
        "cluster_means_df = pd.DataFrame(cluster_means, columns=df_below_18.columns)"
      ],
      "metadata": {
        "id": "_dazujQLTu1x"
      },
      "execution_count": null,
      "outputs": []
    },
    {
      "cell_type": "code",
      "source": [
        "# Display cluster means\n",
        "print(\"Cluster Centers (Means):\")\n",
        "print(cluster_means_df)"
      ],
      "metadata": {
        "id": "f9ga_zTvT3wX"
      },
      "execution_count": null,
      "outputs": []
    },
    {
      "cell_type": "code",
      "source": [
        "df_below_18['Cluster'] = cluster_labels"
      ],
      "metadata": {
        "id": "D1SNN-TRVqoP"
      },
      "execution_count": null,
      "outputs": []
    },
    {
      "cell_type": "code",
      "source": [
        "df_below_18['Cluster']"
      ],
      "metadata": {
        "id": "WVNCHDorWI1q"
      },
      "execution_count": null,
      "outputs": []
    },
    {
      "cell_type": "code",
      "source": [
        "cluster_dfs = []\n",
        "for cluster_id in range(n_clusters):\n",
        "    cluster_df = df_below_18[df_below_18['Cluster'] == cluster_id].copy()\n",
        "    cluster_dfs.append(cluster_df)\n",
        "\n"
      ],
      "metadata": {
        "id": "9VW4XCC4VHlt"
      },
      "execution_count": null,
      "outputs": []
    },
    {
      "cell_type": "code",
      "source": [
        "# Display each cluster's DataFrame side by side\n",
        "for i, cluster_df in enumerate(cluster_dfs):\n",
        "    print(f\"Cluster {i}:\\n\")\n",
        "    display(cluster_df)\n",
        "    print(\"\\n\\n\")"
      ],
      "metadata": {
        "id": "UMLhwvF8VKV9"
      },
      "execution_count": null,
      "outputs": []
    },
    {
      "cell_type": "markdown",
      "source": [
        "###Train-Test Split"
      ],
      "metadata": {
        "id": "20_SJoEWWulX"
      }
    },
    {
      "cell_type": "code",
      "source": [
        "df_below_18.info()"
      ],
      "metadata": {
        "id": "krc8lBRaWx4T"
      },
      "execution_count": null,
      "outputs": []
    },
    {
      "cell_type": "code",
      "source": [
        "from sklearn.model_selection import train_test_split"
      ],
      "metadata": {
        "id": "6iIDXMHpXPku"
      },
      "execution_count": null,
      "outputs": []
    },
    {
      "cell_type": "code",
      "source": [
        "# Split the dataset into train and test sets (80% train, 20% test)\n",
        "train_data, test_data = train_test_split(df_below_18, test_size=0.2, random_state=42)\n"
      ],
      "metadata": {
        "id": "x8xPVQkRXQlt"
      },
      "execution_count": null,
      "outputs": []
    },
    {
      "cell_type": "code",
      "source": [
        "# Print the shapes of the resulting datasets\n",
        "print(\"Train set shape:\", train_data.shape)\n",
        "print(\"Test set shape:\", test_data.shape)"
      ],
      "metadata": {
        "id": "o1zwiT0xXWk0"
      },
      "execution_count": null,
      "outputs": []
    },
    {
      "cell_type": "code",
      "source": [
        "y_train_df= train_data.iloc[:,-1].copy()"
      ],
      "metadata": {
        "id": "OxNPBAp-qETz"
      },
      "execution_count": null,
      "outputs": []
    },
    {
      "cell_type": "code",
      "source": [
        "y_train_df.info()"
      ],
      "metadata": {
        "id": "peMhZMwYqUsm"
      },
      "execution_count": null,
      "outputs": []
    },
    {
      "cell_type": "code",
      "source": [
        "x_train_df =train_data.iloc[:, :-1].copy()"
      ],
      "metadata": {
        "id": "swS-aCOVccaQ"
      },
      "execution_count": null,
      "outputs": []
    },
    {
      "cell_type": "code",
      "source": [
        "x_train_df.info()"
      ],
      "metadata": {
        "id": "gMxje0LNdI8M"
      },
      "execution_count": null,
      "outputs": []
    },
    {
      "cell_type": "code",
      "source": [
        "y_test_df= test_data.iloc[:,-1].copy()"
      ],
      "metadata": {
        "id": "pAEeHPz9rjOv"
      },
      "execution_count": null,
      "outputs": []
    },
    {
      "cell_type": "code",
      "source": [
        "y_test_df.info()"
      ],
      "metadata": {
        "id": "xY6rkMQSrjtY"
      },
      "execution_count": null,
      "outputs": []
    },
    {
      "cell_type": "code",
      "source": [
        "x_test_df =test_data.iloc[:, :-1].copy()"
      ],
      "metadata": {
        "id": "iUgCKkYRrWv8"
      },
      "execution_count": null,
      "outputs": []
    },
    {
      "cell_type": "code",
      "source": [
        "x_test_df.info()"
      ],
      "metadata": {
        "id": "gXSC-6PSr8yt"
      },
      "execution_count": null,
      "outputs": []
    },
    {
      "cell_type": "markdown",
      "source": [
        "###KNN"
      ],
      "metadata": {
        "id": "Tb6Tm9nCN8sX"
      }
    },
    {
      "cell_type": "code",
      "source": [
        "from sklearn.neighbors import KNeighborsClassifier\n",
        "from sklearn.metrics import accuracy_score, precision_score, recall_score, f1_score"
      ],
      "metadata": {
        "id": "0Az1wFuVp0ng"
      },
      "execution_count": null,
      "outputs": []
    },
    {
      "cell_type": "code",
      "source": [
        "knn1 = KNeighborsClassifier(n_neighbors=3)"
      ],
      "metadata": {
        "id": "c10Gq4Mvozqv"
      },
      "execution_count": null,
      "outputs": []
    },
    {
      "cell_type": "code",
      "source": [
        "knn1.fit(x_train_df, y_train_df)"
      ],
      "metadata": {
        "id": "8N5lB37_pAv2"
      },
      "execution_count": null,
      "outputs": []
    },
    {
      "cell_type": "code",
      "source": [
        "y_train_pred = knn1.predict(x_train_df)"
      ],
      "metadata": {
        "id": "gmOcQNJypDTE"
      },
      "execution_count": null,
      "outputs": []
    },
    {
      "cell_type": "code",
      "source": [
        "#Calculate training accuracy\n",
        "training_accuracy = accuracy_score(y_train_df, y_train_pred)\n",
        "print(\"Training Accuracy of KNN model:\", training_accuracy)"
      ],
      "metadata": {
        "id": "JNO23o50q2f7"
      },
      "execution_count": null,
      "outputs": []
    },
    {
      "cell_type": "code",
      "source": [
        "y_pred = knn1.predict(x_test_df)"
      ],
      "metadata": {
        "id": "x91MSnN4eNlx"
      },
      "execution_count": null,
      "outputs": []
    },
    {
      "cell_type": "code",
      "source": [
        "testing_accuracy = accuracy_score(y_test_df, y_pred)\n",
        "print(\"Testing Accuracy of KNN model:\", testing_accuracy)\n",
        "precision = precision_score(y_test_df, y_pred,average='macro')\n",
        "recall = recall_score(y_test_df, y_pred,average='macro')\n",
        "f1 = f1_score(y_test_df, y_pred,average='macro')\n",
        "print(\"Precision : \",precision)\n",
        "print(\"Recall : \",recall)\n",
        "print(\"F1 : \",f1)"
      ],
      "metadata": {
        "id": "qqaO9NrysFb_"
      },
      "execution_count": null,
      "outputs": []
    },
    {
      "cell_type": "markdown",
      "source": [
        "###SVM"
      ],
      "metadata": {
        "id": "t8KS_SwiN-iQ"
      }
    },
    {
      "cell_type": "code",
      "source": [
        "from sklearn.svm import SVC"
      ],
      "metadata": {
        "id": "0DaQCPvJO3Vo"
      },
      "execution_count": null,
      "outputs": []
    },
    {
      "cell_type": "code",
      "source": [
        "svm_model = SVC(kernel='linear')\n",
        "svm_model.fit(x_train_df, y_train_df)"
      ],
      "metadata": {
        "id": "F-BZ8wuQPdAv"
      },
      "execution_count": null,
      "outputs": []
    },
    {
      "cell_type": "code",
      "source": [
        "svm_pred_train = svm_model.predict(x_train_df)"
      ],
      "metadata": {
        "id": "Y70qC2DrPe5R"
      },
      "execution_count": null,
      "outputs": []
    },
    {
      "cell_type": "code",
      "source": [
        "svm_accuracy_train = accuracy_score(y_train_df, svm_pred_train)"
      ],
      "metadata": {
        "id": "aFhNdV0hPgiW"
      },
      "execution_count": null,
      "outputs": []
    },
    {
      "cell_type": "code",
      "source": [
        "print(\"Training accuracy of SVM:\", svm_accuracy_train)"
      ],
      "metadata": {
        "id": "REPpKsUcPkTr"
      },
      "execution_count": null,
      "outputs": []
    },
    {
      "cell_type": "code",
      "source": [
        "svm_pred_test = svm_model.predict(x_test_df)"
      ],
      "metadata": {
        "id": "o1GEeNBiPmvV"
      },
      "execution_count": null,
      "outputs": []
    },
    {
      "cell_type": "code",
      "source": [
        "svm_accuracy_test = accuracy_score(y_test_df, svm_pred_test)"
      ],
      "metadata": {
        "id": "9gBvFG3xPqTV"
      },
      "execution_count": null,
      "outputs": []
    },
    {
      "cell_type": "code",
      "source": [
        "print(\"Test accuracy of SVM:\", svm_accuracy_test)"
      ],
      "metadata": {
        "id": "xKbx5ZY6PslY"
      },
      "execution_count": null,
      "outputs": []
    },
    {
      "cell_type": "code",
      "source": [
        "svm_precision = precision_score(y_test_df, svm_pred_test,average='macro')\n",
        "svm_recall = recall_score(y_test_df, svm_pred_test,average='macro')\n",
        "svm_f1 = f1_score(y_test_df, svm_pred_test,average='macro')\n",
        "print(\"Precision : \",svm_precision)\n",
        "print(\"Recall : \",svm_recall)\n",
        "print(\"F1 : \",svm_f1)"
      ],
      "metadata": {
        "id": "gsyELMwtcgUg"
      },
      "execution_count": null,
      "outputs": []
    },
    {
      "cell_type": "markdown",
      "source": [
        "###RF"
      ],
      "metadata": {
        "id": "1vCy8KKYPuZe"
      }
    },
    {
      "cell_type": "code",
      "source": [
        "from sklearn.ensemble import RandomForestClassifier"
      ],
      "metadata": {
        "id": "PBoWIHWsPvQI"
      },
      "execution_count": null,
      "outputs": []
    },
    {
      "cell_type": "code",
      "source": [
        "rf_model = RandomForestClassifier(n_estimators=10, random_state=42)\n",
        "rf_model.fit(x_train_df, y_train_df)"
      ],
      "metadata": {
        "id": "E6TQSMq9PyZE"
      },
      "execution_count": null,
      "outputs": []
    },
    {
      "cell_type": "code",
      "source": [
        "rf_pred_train = rf_model.predict(x_train_df)"
      ],
      "metadata": {
        "id": "hy7x_eeuP0BG"
      },
      "execution_count": null,
      "outputs": []
    },
    {
      "cell_type": "code",
      "source": [
        "rf_accuracy_train = accuracy_score(y_train_df, rf_pred_train)"
      ],
      "metadata": {
        "id": "ggCPjSkPP11O"
      },
      "execution_count": null,
      "outputs": []
    },
    {
      "cell_type": "code",
      "source": [
        "print(\"Training accuracy of Random Forest:\", rf_accuracy_train)"
      ],
      "metadata": {
        "id": "MQPOq_PrP3c9"
      },
      "execution_count": null,
      "outputs": []
    },
    {
      "cell_type": "code",
      "source": [
        "rf_pred_test = rf_model.predict(x_test_df)"
      ],
      "metadata": {
        "id": "l5gM8LtTP47o"
      },
      "execution_count": null,
      "outputs": []
    },
    {
      "cell_type": "code",
      "source": [
        "rf_accuracy_test = accuracy_score(y_test_df, rf_pred_test)"
      ],
      "metadata": {
        "id": "QwELRf6PP6Za"
      },
      "execution_count": null,
      "outputs": []
    },
    {
      "cell_type": "code",
      "source": [
        "print(\"Test accuracy of Random Forest:\", rf_accuracy_test)"
      ],
      "metadata": {
        "id": "YovOtRQtP7v8"
      },
      "execution_count": null,
      "outputs": []
    },
    {
      "cell_type": "code",
      "source": [
        "rf_precision = precision_score(y_test_df, rf_pred_test,average='macro')\n",
        "rf_recall = recall_score(y_test_df, rf_pred_test,average='macro')\n",
        "rf_f1 = f1_score(y_test_df, rf_pred_test,average='macro')\n",
        "print(\"Precision : \",rf_precision)\n",
        "print(\"Recall : \",rf_recall)\n",
        "print(\"F1 : \",rf_f1)"
      ],
      "metadata": {
        "id": "v2gnjCBscyIW"
      },
      "execution_count": null,
      "outputs": []
    },
    {
      "cell_type": "markdown",
      "source": [
        "##Above 18"
      ],
      "metadata": {
        "id": "2IJp6U7Hx8oW"
      }
    },
    {
      "cell_type": "code",
      "source": [
        "df_above_18.info()"
      ],
      "metadata": {
        "id": "Ou75GSiJxaO1"
      },
      "execution_count": null,
      "outputs": []
    },
    {
      "cell_type": "code",
      "source": [
        "df_above_18 = pd.merge(df_above_18, df[['SportsPlyerOf']], left_index=True, right_index=True)\n"
      ],
      "metadata": {
        "id": "XLhe4JL7fvib"
      },
      "execution_count": null,
      "outputs": []
    },
    {
      "cell_type": "code",
      "source": [
        "df_above_18 = pd.merge(df_above_18, df[['PhysicalActivityOrSportsDoing']], left_index=True, right_index=True)\n"
      ],
      "metadata": {
        "id": "A66IkTHOfzBU"
      },
      "execution_count": null,
      "outputs": []
    },
    {
      "cell_type": "code",
      "source": [
        "df_above_18 = pd.merge(df_above_18, df[['PreferredTimeToPlay']], left_index=True, right_index=True)\n"
      ],
      "metadata": {
        "id": "EAfG29wmf1Uv"
      },
      "execution_count": null,
      "outputs": []
    },
    {
      "cell_type": "code",
      "source": [
        "df_above_18 = pd.merge(df_above_18, df[['ReasonForPlaying']], left_index=True, right_index=True)\n"
      ],
      "metadata": {
        "id": "pvo7XsP9f23L"
      },
      "execution_count": null,
      "outputs": []
    },
    {
      "cell_type": "code",
      "source": [
        "df_above_18.info()"
      ],
      "metadata": {
        "id": "0y4Vh92-f4S8"
      },
      "execution_count": null,
      "outputs": []
    },
    {
      "cell_type": "code",
      "source": [
        "df_above_18.head()"
      ],
      "metadata": {
        "id": "K5tLQipHf61G"
      },
      "execution_count": null,
      "outputs": []
    },
    {
      "cell_type": "code",
      "source": [
        "df_above_18['Gender'] = df_above_18['Gender'].map({'Male': 1, 'Female': 0})"
      ],
      "metadata": {
        "id": "bTEwx3o_f8Pz"
      },
      "execution_count": null,
      "outputs": []
    },
    {
      "cell_type": "code",
      "source": [
        "df_above_18['WearingSpecs'] = df_above_18['WearingSpecs'].map({'Yes': 1, 'No': 0})"
      ],
      "metadata": {
        "id": "ApF_9FKBf9dS"
      },
      "execution_count": null,
      "outputs": []
    },
    {
      "cell_type": "code",
      "source": [
        "df_above_18['FeelingSleepy'] = df_above_18['FeelingSleepy'].map({'Yes': 1, 'No': 0})"
      ],
      "metadata": {
        "id": "LfHcYfCqf-tS"
      },
      "execution_count": null,
      "outputs": []
    },
    {
      "cell_type": "code",
      "source": [
        "df_above_18['EngagedInSports'] = df_above_18['EngagedInSports'].map({'Yes': 1, 'No': 0})"
      ],
      "metadata": {
        "id": "ZJzPM5MrgAMl"
      },
      "execution_count": null,
      "outputs": []
    },
    {
      "cell_type": "code",
      "source": [
        "ordinal_mapping = {\n",
        "    'Morning':1, 'Evening':2, 'Both Morning and Evening':3, 'Only on Holidays':4,\n",
        "    'For Health and Fitness':1,'For Entertainment':2,'To become a champion':3\n",
        "}\n"
      ],
      "metadata": {
        "id": "Ik_CEeTWgBWo"
      },
      "execution_count": null,
      "outputs": []
    },
    {
      "cell_type": "code",
      "source": [
        "play_cl=['PreferredTimeToPlay','ReasonForPlaying']"
      ],
      "metadata": {
        "id": "cGwux-OFgCln"
      },
      "execution_count": null,
      "outputs": []
    },
    {
      "cell_type": "code",
      "source": [
        "# Process ordinal columns\n",
        "for col in play_cl:\n",
        "    df_above_18[col] = df_above_18[col].map(ordinal_mapping)\n"
      ],
      "metadata": {
        "id": "a-uSjDH-gD1p"
      },
      "execution_count": null,
      "outputs": []
    },
    {
      "cell_type": "code",
      "source": [
        "columns_to_fill = ['Pains','SportsPlyerOf','PhysicalActivityOrSportsDoing']\n",
        "df_above_18[columns_to_fill] = df_above_18[columns_to_fill].fillna('Not Engaged')"
      ],
      "metadata": {
        "id": "sC-eb8J2gFXC"
      },
      "execution_count": null,
      "outputs": []
    },
    {
      "cell_type": "code",
      "source": [
        "df_above_18.info()"
      ],
      "metadata": {
        "id": "Z7fYBU8ygHDH"
      },
      "execution_count": null,
      "outputs": []
    },
    {
      "cell_type": "code",
      "source": [
        "df_above_18['Pains'] = df_above_18['Pains'].str.join(' ')\n",
        "df_above_18['SportsPlyerOf'] = df_above_18['SportsPlyerOf'].str.join(' ')\n",
        "df_above_18['PhysicalActivityOrSportsDoing'] = df_above_18['PhysicalActivityOrSportsDoing'].str.join(' ')"
      ],
      "metadata": {
        "id": "J067PqBqgImo"
      },
      "execution_count": null,
      "outputs": []
    },
    {
      "cell_type": "code",
      "source": [
        "columns_to_fill = ['TimeSpentPerDay', 'ActivelyParticipatingPeriod','PreferredTimeToPlay','ReasonForPlaying','SickLeaveDays']\n",
        "df_above_18[columns_to_fill] = df_above_18[columns_to_fill].fillna(0)"
      ],
      "metadata": {
        "id": "2s38NIMBgJwW"
      },
      "execution_count": null,
      "outputs": []
    },
    {
      "cell_type": "code",
      "source": [
        "df_above_18.info()"
      ],
      "metadata": {
        "id": "9jOcQsc4gLKc"
      },
      "execution_count": null,
      "outputs": []
    },
    {
      "cell_type": "markdown",
      "source": [
        "###Label Encoder"
      ],
      "metadata": {
        "id": "cJKRCVXqgNJu"
      }
    },
    {
      "cell_type": "code",
      "source": [
        "from sklearn.preprocessing import LabelEncoder"
      ],
      "metadata": {
        "id": "-eTZPu9cgPtV"
      },
      "execution_count": null,
      "outputs": []
    },
    {
      "cell_type": "code",
      "source": [
        "label_encoder = LabelEncoder()"
      ],
      "metadata": {
        "id": "ygc7qZkygRAV"
      },
      "execution_count": null,
      "outputs": []
    },
    {
      "cell_type": "code",
      "source": [
        "for col in ['Pains', 'SportsPlyerOf', 'PhysicalActivityOrSportsDoing']:\n",
        "    df_above_18[col + '_encoded'] = label_encoder.fit_transform(df_above_18[col])"
      ],
      "metadata": {
        "id": "2TnmtXlWgSNR"
      },
      "execution_count": null,
      "outputs": []
    },
    {
      "cell_type": "code",
      "source": [
        "df_above_18 = df_above_18.drop(columns=['Pains', 'SportsPlyerOf', 'PhysicalActivityOrSportsDoing'])\n"
      ],
      "metadata": {
        "id": "SZ2d_NPfgUL1"
      },
      "execution_count": null,
      "outputs": []
    },
    {
      "cell_type": "code",
      "source": [
        "df_above_18.info()"
      ],
      "metadata": {
        "id": "QE2UsxkngV-A"
      },
      "execution_count": null,
      "outputs": []
    },
    {
      "cell_type": "code",
      "source": [
        "df_above_18.head()"
      ],
      "metadata": {
        "id": "rv0U4N-tgb3Z"
      },
      "execution_count": null,
      "outputs": []
    },
    {
      "cell_type": "markdown",
      "source": [
        "###Cluster"
      ],
      "metadata": {
        "id": "d_s_S_Gdgevn"
      }
    },
    {
      "cell_type": "code",
      "source": [
        "from sklearn.cluster import KMeans\n",
        "from sklearn.preprocessing import StandardScaler\n",
        "from sklearn.metrics import silhouette_score\n",
        "from sklearn.decomposition import PCA\n",
        "import matplotlib.pyplot as plt\n",
        "import seaborn as sns"
      ],
      "metadata": {
        "id": "YGRnBzvUgfbP"
      },
      "execution_count": null,
      "outputs": []
    },
    {
      "cell_type": "code",
      "source": [
        "scaler = StandardScaler()\n",
        "normalized_data = scaler.fit_transform(df_above_18)"
      ],
      "metadata": {
        "id": "iFyheH48ghcs"
      },
      "execution_count": null,
      "outputs": []
    },
    {
      "cell_type": "code",
      "source": [
        "n_clusters = 3  # Adjust the number of clusters as needed\n",
        "kmeans = KMeans(n_clusters=n_clusters, random_state=42)"
      ],
      "metadata": {
        "id": "7iHHJX51gjgF"
      },
      "execution_count": null,
      "outputs": []
    },
    {
      "cell_type": "code",
      "source": [
        "cluster_labels = kmeans.fit_predict(normalized_data)"
      ],
      "metadata": {
        "id": "NVeG5SnXgksP"
      },
      "execution_count": null,
      "outputs": []
    },
    {
      "cell_type": "code",
      "source": [
        "# Visualize clustering results using PCA\n",
        "pca = PCA(n_components=2)\n",
        "pca_data = pca.fit_transform(normalized_data)"
      ],
      "metadata": {
        "id": "-s1dh0GrgnvP"
      },
      "execution_count": null,
      "outputs": []
    },
    {
      "cell_type": "code",
      "source": [
        "# Create a DataFrame with PCA results and cluster labels\n",
        "pca_df = pd.DataFrame(pca_data, columns=['PC1', 'PC2'])\n",
        "pca_df['Cluster'] = cluster_labels"
      ],
      "metadata": {
        "id": "jw4FfCR9gpLM"
      },
      "execution_count": null,
      "outputs": []
    },
    {
      "cell_type": "code",
      "source": [
        "# Plot clusters\n",
        "plt.figure(figsize=(10, 6))\n",
        "sns.scatterplot(data=pca_df, x='PC1', y='PC2', hue='Cluster', palette='viridis', alpha=0.8)\n",
        "plt.title('Clustering Results (PCA) - Above Age 18')\n",
        "plt.xlabel('Principal Component 1')\n",
        "plt.ylabel('Principal Component 2')\n",
        "plt.legend(title='Cluster')\n",
        "plt.grid(True)\n",
        "plt.show()\n"
      ],
      "metadata": {
        "id": "rB1E-ODVgqWl"
      },
      "execution_count": null,
      "outputs": []
    },
    {
      "cell_type": "code",
      "source": [
        "# Interpret clusters\n",
        "cluster_centers = kmeans.cluster_centers_\n",
        "cluster_means = scaler.inverse_transform(cluster_centers)  # Transform back to original scale"
      ],
      "metadata": {
        "id": "qknLhtb-gr_5"
      },
      "execution_count": null,
      "outputs": []
    },
    {
      "cell_type": "code",
      "source": [
        "# Create a DataFrame with cluster means\n",
        "cluster_means_df = pd.DataFrame(cluster_means, columns=df_above_18.columns)"
      ],
      "metadata": {
        "id": "jQxtjquvgtN0"
      },
      "execution_count": null,
      "outputs": []
    },
    {
      "cell_type": "code",
      "source": [
        "# Display cluster means\n",
        "print(\"Cluster Centers (Means):\")\n",
        "print(cluster_means_df)"
      ],
      "metadata": {
        "id": "n_PR8f5AguYA"
      },
      "execution_count": null,
      "outputs": []
    },
    {
      "cell_type": "code",
      "source": [
        "df_above_18['Cluster'] = cluster_labels"
      ],
      "metadata": {
        "id": "pCVuLTCkgwK-"
      },
      "execution_count": null,
      "outputs": []
    },
    {
      "cell_type": "code",
      "source": [
        "df_above_18['Cluster']"
      ],
      "metadata": {
        "id": "abcdFzyogxrb"
      },
      "execution_count": null,
      "outputs": []
    },
    {
      "cell_type": "code",
      "source": [
        "cluster_dfs = []\n",
        "for cluster_id in range(n_clusters):\n",
        "    cluster_df = df_above_18[df_above_18['Cluster'] == cluster_id].copy()\n",
        "    cluster_dfs.append(cluster_df)\n",
        "\n"
      ],
      "metadata": {
        "id": "f7tLrGa3gzXN"
      },
      "execution_count": null,
      "outputs": []
    },
    {
      "cell_type": "code",
      "source": [
        "# Display each cluster's DataFrame side by side\n",
        "for i, cluster_df in enumerate(cluster_dfs):\n",
        "    print(f\"Cluster {i}:\\n\")\n",
        "    display(cluster_df)\n",
        "    print(\"\\n\\n\")"
      ],
      "metadata": {
        "id": "iHQhVCCUg1hN"
      },
      "execution_count": null,
      "outputs": []
    },
    {
      "cell_type": "markdown",
      "source": [
        "###Train-Test Split"
      ],
      "metadata": {
        "id": "95gRCuJ7g3_L"
      }
    },
    {
      "cell_type": "code",
      "source": [
        "df_above_18.info()"
      ],
      "metadata": {
        "id": "Irvz6P5Zg4gz"
      },
      "execution_count": null,
      "outputs": []
    },
    {
      "cell_type": "code",
      "source": [
        "from sklearn.model_selection import train_test_split"
      ],
      "metadata": {
        "id": "PYZhyKI8g7BH"
      },
      "execution_count": null,
      "outputs": []
    },
    {
      "cell_type": "code",
      "source": [
        "# Split the dataset into train and test sets (80% train, 20% test)\n",
        "train_data, test_data = train_test_split(df_above_18, test_size=0.6, random_state=42)\n"
      ],
      "metadata": {
        "id": "tVjIwSnlg8Jy"
      },
      "execution_count": null,
      "outputs": []
    },
    {
      "cell_type": "code",
      "source": [
        "# Print the shapes of the resulting datasets\n",
        "print(\"Train set shape:\", train_data.shape)\n",
        "print(\"Test set shape:\", test_data.shape)"
      ],
      "metadata": {
        "id": "B1c0S9q9g9Ry"
      },
      "execution_count": null,
      "outputs": []
    },
    {
      "cell_type": "code",
      "source": [
        "y_train_df= train_data.iloc[:,-1].copy()\n",
        "y_train_df.info()"
      ],
      "metadata": {
        "id": "m_Cbb2dXs9ec"
      },
      "execution_count": null,
      "outputs": []
    },
    {
      "cell_type": "code",
      "source": [
        "x_train_df =train_data.iloc[:, :-1].copy()\n",
        "x_train_df.info()"
      ],
      "metadata": {
        "id": "9cvBK1UrtAqL"
      },
      "execution_count": null,
      "outputs": []
    },
    {
      "cell_type": "code",
      "source": [
        "y_test_df= test_data.iloc[:,-1].copy()\n",
        "y_test_df.info()"
      ],
      "metadata": {
        "id": "1V_ZOWRrtQWm"
      },
      "execution_count": null,
      "outputs": []
    },
    {
      "cell_type": "code",
      "source": [
        "x_test_df =test_data.iloc[:, :-1].copy()\n",
        "x_test_df.info()"
      ],
      "metadata": {
        "id": "RcGH-1zntUYk"
      },
      "execution_count": null,
      "outputs": []
    },
    {
      "cell_type": "markdown",
      "source": [
        "###KNN"
      ],
      "metadata": {
        "id": "Vnuta3hmBlDl"
      }
    },
    {
      "cell_type": "code",
      "source": [],
      "metadata": {
        "id": "AsW-UqTXBmEU"
      },
      "execution_count": null,
      "outputs": []
    },
    {
      "cell_type": "code",
      "source": [
        "from sklearn.neighbors import KNeighborsClassifier\n",
        "from sklearn.metrics import accuracy_score"
      ],
      "metadata": {
        "id": "3ilcM_oOtCPu"
      },
      "execution_count": null,
      "outputs": []
    },
    {
      "cell_type": "code",
      "source": [
        "knn2 = KNeighborsClassifier(n_neighbors=3)\n"
      ],
      "metadata": {
        "id": "Oao4AjactD0E"
      },
      "execution_count": null,
      "outputs": []
    },
    {
      "cell_type": "code",
      "source": [
        "knn2.fit(x_train_df, y_train_df)"
      ],
      "metadata": {
        "id": "CCIWmX0atHl9"
      },
      "execution_count": null,
      "outputs": []
    },
    {
      "cell_type": "code",
      "source": [
        "y_train_pred = knn2.predict(x_train_df)"
      ],
      "metadata": {
        "id": "mOlemXortKto"
      },
      "execution_count": null,
      "outputs": []
    },
    {
      "cell_type": "code",
      "source": [
        "#Calculate training accuracy\n",
        "training_accuracy = accuracy_score(y_train_df, y_train_pred)\n",
        "print(\"Training Accuracy of KNN model:\", training_accuracy)"
      ],
      "metadata": {
        "id": "7EqZfub9tMOu"
      },
      "execution_count": null,
      "outputs": []
    },
    {
      "cell_type": "code",
      "source": [
        "y_pred = knn2.predict(x_test_df)"
      ],
      "metadata": {
        "id": "FLZaw8e_tWjE"
      },
      "execution_count": null,
      "outputs": []
    },
    {
      "cell_type": "code",
      "source": [
        "testing_accuracy = accuracy_score(y_test_df, y_pred)\n",
        "print(\"Testing Accuracy of KNN model:\", testing_accuracy)"
      ],
      "metadata": {
        "id": "7j1l9_GatZ4G"
      },
      "execution_count": null,
      "outputs": []
    },
    {
      "cell_type": "code",
      "source": [
        "precision = precision_score(y_test_df, y_pred,average='macro')\n",
        "recall = recall_score(y_test_df, y_pred,average='macro')\n",
        "f1 = f1_score(y_test_df, y_pred,average='macro')\n",
        "print(\"Precision : \",precision)\n",
        "print(\"Recall : \",recall)\n",
        "print(\"F1 : \",f1)"
      ],
      "metadata": {
        "id": "zVJVI9wTdw3_"
      },
      "execution_count": null,
      "outputs": []
    },
    {
      "cell_type": "markdown",
      "source": [
        "###SVM"
      ],
      "metadata": {
        "id": "vhaFtnKwA92P"
      }
    },
    {
      "cell_type": "code",
      "source": [
        "from sklearn.svm import SVC"
      ],
      "metadata": {
        "id": "tYukIkwEBHlZ"
      },
      "execution_count": null,
      "outputs": []
    },
    {
      "cell_type": "code",
      "source": [
        "svm_model = SVC(kernel='linear')\n",
        "svm_model.fit(x_train_df, y_train_df)"
      ],
      "metadata": {
        "id": "p1cPKOcwBg2M"
      },
      "execution_count": null,
      "outputs": []
    },
    {
      "cell_type": "code",
      "source": [
        "svm_pred_train = svm_model.predict(x_train_df)"
      ],
      "metadata": {
        "id": "YNrVnYXiBtWH"
      },
      "execution_count": null,
      "outputs": []
    },
    {
      "cell_type": "code",
      "source": [
        "svm_accuracy_train = accuracy_score(y_train_df, svm_pred_train)"
      ],
      "metadata": {
        "id": "qvEx0PEMBysB"
      },
      "execution_count": null,
      "outputs": []
    },
    {
      "cell_type": "code",
      "source": [
        "print(\"Training accuracy of SVM:\", svm_accuracy_train)"
      ],
      "metadata": {
        "id": "wRmSLlPCB0Sl"
      },
      "execution_count": null,
      "outputs": []
    },
    {
      "cell_type": "code",
      "source": [
        "svm_pred_test = svm_model.predict(x_test_df)"
      ],
      "metadata": {
        "id": "mUUn-e1KCZ0t"
      },
      "execution_count": null,
      "outputs": []
    },
    {
      "cell_type": "code",
      "source": [
        "svm_accuracy_test = accuracy_score(y_test_df, svm_pred_test)"
      ],
      "metadata": {
        "id": "WjJ91QCnCaCM"
      },
      "execution_count": null,
      "outputs": []
    },
    {
      "cell_type": "code",
      "source": [
        "print(\"Test accuracy of SVM:\", svm_accuracy_test)"
      ],
      "metadata": {
        "id": "kL0gHGEyCae0"
      },
      "execution_count": null,
      "outputs": []
    },
    {
      "cell_type": "code",
      "source": [
        "svm_precision = precision_score(y_test_df, svm_pred_test,average='macro')\n",
        "svm_recall = recall_score(y_test_df, svm_pred_test,average='macro')\n",
        "svm_f1 = f1_score(y_test_df, svm_pred_test,average='macro')\n",
        "print(\"Precision : \",svm_precision)\n",
        "print(\"Recall : \",svm_recall)\n",
        "print(\"F1 : \",svm_f1)"
      ],
      "metadata": {
        "id": "F-sRV5Fmdt_7"
      },
      "execution_count": null,
      "outputs": []
    },
    {
      "cell_type": "markdown",
      "source": [
        "###RF"
      ],
      "metadata": {
        "id": "Pxfgv1qiB1hn"
      }
    },
    {
      "cell_type": "code",
      "source": [
        "from sklearn.ensemble import RandomForestClassifier"
      ],
      "metadata": {
        "id": "ABscFj_JB2hi"
      },
      "execution_count": null,
      "outputs": []
    },
    {
      "cell_type": "code",
      "source": [
        "rf_model = RandomForestClassifier(n_estimators=10, random_state=42)\n",
        "rf_model.fit(x_train_df, y_train_df)"
      ],
      "metadata": {
        "id": "-TXMtS4SB5Gf"
      },
      "execution_count": null,
      "outputs": []
    },
    {
      "cell_type": "code",
      "source": [
        "rf_pred_train = rf_model.predict(x_train_df)"
      ],
      "metadata": {
        "id": "DuAxrfCOB8Qg"
      },
      "execution_count": null,
      "outputs": []
    },
    {
      "cell_type": "code",
      "source": [
        "rf_accuracy_train = accuracy_score(y_train_df, rf_pred_train)"
      ],
      "metadata": {
        "id": "UYp75aM-DAOQ"
      },
      "execution_count": null,
      "outputs": []
    },
    {
      "cell_type": "code",
      "source": [
        "print(\"Training accuracy of Random Forest:\", rf_accuracy_train)"
      ],
      "metadata": {
        "id": "TCyr6CFJB-C3"
      },
      "execution_count": null,
      "outputs": []
    },
    {
      "cell_type": "code",
      "source": [
        "rf_pred_test = rf_model.predict(x_test_df)"
      ],
      "metadata": {
        "id": "TsLo1bEsDMo8"
      },
      "execution_count": null,
      "outputs": []
    },
    {
      "cell_type": "code",
      "source": [
        "rf_accuracy_test = accuracy_score(y_test_df, rf_pred_test)"
      ],
      "metadata": {
        "id": "-Is4JF2uDR5X"
      },
      "execution_count": null,
      "outputs": []
    },
    {
      "cell_type": "code",
      "source": [
        "print(\"Test accuracy of Random Forest:\", rf_accuracy_test)"
      ],
      "metadata": {
        "id": "OrxINFpBDXDo"
      },
      "execution_count": null,
      "outputs": []
    },
    {
      "cell_type": "code",
      "source": [
        "rf_precision = precision_score(y_test_df, rf_pred_test,average='macro')\n",
        "rf_recall = recall_score(y_test_df, rf_pred_test,average='macro')\n",
        "rf_f1 = f1_score(y_test_df, rf_pred_test,average='macro')\n",
        "print(\"Precision : \",rf_precision)\n",
        "print(\"Recall : \",rf_recall)\n",
        "print(\"F1 : \",rf_f1)"
      ],
      "metadata": {
        "id": "s2y7NS0_drKW"
      },
      "execution_count": null,
      "outputs": []
    }
  ]
}